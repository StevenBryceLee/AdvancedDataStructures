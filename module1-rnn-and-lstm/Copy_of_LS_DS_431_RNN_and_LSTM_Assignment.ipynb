{
  "nbformat": 4,
  "nbformat_minor": 0,
  "metadata": {
    "kernelspec": {
      "name": "python3",
      "display_name": "Python 3"
    },
    "nteract": {
      "version": "0.23.3"
    },
    "colab": {
      "name": "Copy of LS_DS_431_RNN_and_LSTM_Assignment.ipynb",
      "provenance": [],
      "collapsed_sections": [],
      "include_colab_link": true
    }
  },
  "cells": [
    {
      "cell_type": "markdown",
      "metadata": {
        "id": "view-in-github",
        "colab_type": "text"
      },
      "source": [
        "<a href=\"https://colab.research.google.com/github/StevenBryceLee/AdvancedDataStructures/blob/master/module1-rnn-and-lstm/Copy_of_LS_DS_431_RNN_and_LSTM_Assignment.ipynb\" target=\"_parent\"><img src=\"https://colab.research.google.com/assets/colab-badge.svg\" alt=\"Open In Colab\"/></a>"
      ]
    },
    {
      "cell_type": "markdown",
      "metadata": {
        "id": "pNvax-tTijLA"
      },
      "source": [
        "<img align=\"left\" src=\"https://lever-client-logos.s3.amazonaws.com/864372b1-534c-480e-acd5-9711f850815c-1524247202159.png\" width=200>\n",
        "<br></br>\n",
        "<br></br>\n",
        "\n",
        "## *Data Science Unit 4 Sprint 3 Assignment 1*\n",
        "\n",
        "# Recurrent Neural Networks and Long Short Term Memory (LSTM)\n",
        "\n",
        "![Monkey at a typewriter](https://upload.wikimedia.org/wikipedia/commons/thumb/3/3c/Chimpanzee_seated_at_typewriter.jpg/603px-Chimpanzee_seated_at_typewriter.jpg)\n",
        "\n",
        "It is said that [infinite monkeys typing for an infinite amount of time](https://en.wikipedia.org/wiki/Infinite_monkey_theorem) will eventually type, among other things, the complete works of Wiliam Shakespeare. Let's see if we can get there a bit faster, with the power of Recurrent Neural Networks and LSTM.\n",
        "\n",
        "This text file contains the complete works of Shakespeare: https://www.gutenberg.org/files/100/100-0.txt\n",
        "\n",
        "Use it as training data for an RNN - you can keep it simple and train character level, and that is suggested as an initial approach.\n",
        "\n",
        "Then, use that trained RNN to generate Shakespearean-ish text. Your goal - a function that can take, as an argument, the size of text (e.g. number of characters or lines) to generate, and returns generated text of that size.\n",
        "\n",
        "Note - Shakespeare wrote an awful lot. It's OK, especially initially, to sample/use smaller data and parameters, so you can have a tighter feedback loop when you're trying to get things running. Then, once you've got a proof of concept - start pushing it more!"
      ]
    },
    {
      "cell_type": "code",
      "metadata": {
        "execution": {
          "iopub.status.busy": "2020-06-15T18:18:20.442Z",
          "iopub.execute_input": "2020-06-15T18:18:20.453Z",
          "iopub.status.idle": "2020-06-15T18:18:20.513Z",
          "shell.execute_reply": "2020-06-15T18:18:20.523Z"
        },
        "id": "jR9TuTjlijLC"
      },
      "source": [
        "import requests\n",
        "import pandas as pd\n",
        "import numpy as np\n",
        "import tensorflow as tf\n",
        "from tensorflow import keras\n",
        "from tensorflow.keras import layers\n",
        "from tensorflow.keras import Sequential\n",
        "from tensorflow.keras.callbacks import LambdaCallback\n",
        "import random\n",
        "import sys"
      ],
      "execution_count": null,
      "outputs": []
    },
    {
      "cell_type": "code",
      "metadata": {
        "execution": {
          "iopub.status.busy": "2020-06-15T18:25:49.778Z",
          "iopub.execute_input": "2020-06-15T18:25:49.781Z",
          "iopub.status.idle": "2020-06-15T18:25:51.467Z",
          "shell.execute_reply": "2020-06-15T18:25:51.469Z"
        },
        "id": "g1ZFtF0-ijLG"
      },
      "source": [
        "url = \"https://www.gutenberg.org/files/100/100-0.txt\"\n",
        "\n",
        "r = requests.get(url)\n",
        "r.encoding = r.apparent_encoding\n",
        "data = r.text\n",
        "data = data.split('\\r\\n')\n",
        "toc = [l.strip() for l in data[44:130:2]]\n",
        "# Skip the Table of Contents\n",
        "data = data[135:]\n",
        "\n",
        "# Fixing Titles\n",
        "toc[9] = 'THE LIFE OF KING HENRY V'\n",
        "toc[18] = 'MACBETH'\n",
        "toc[24] = 'OTHELLO, THE MOOR OF VENICE'\n",
        "toc[34] = 'TWELFTH NIGHT: OR, WHAT YOU WILL'\n",
        "\n",
        "locations = {id_:{'title':title, 'start':-99} for id_,title in enumerate(toc)}\n",
        "\n",
        "# Start \n",
        "for e,i in enumerate(data):\n",
        "    for t,title in enumerate(toc):\n",
        "        if title in i:\n",
        "            locations[t].update({'start':e})\n",
        "            \n",
        "\n",
        "df_toc = pd.DataFrame.from_dict(locations, orient='index')\n",
        "df_toc['end'] = df_toc['start'].shift(-1).apply(lambda x: x-1)\n",
        "df_toc.loc[42, 'end'] = len(data)\n",
        "df_toc['end'] = df_toc['end'].astype('int')\n",
        "\n",
        "df_toc['text'] = df_toc.apply(lambda x: '\\r\\n'.join(data[ x['start'] : int(x['end']) ]), axis=1)"
      ],
      "execution_count": null,
      "outputs": []
    },
    {
      "cell_type": "code",
      "metadata": {
        "collapsed": true,
        "jupyter": {
          "source_hidden": false,
          "outputs_hidden": false
        },
        "nteract": {
          "transient": {
            "deleting": false
          }
        },
        "execution": {
          "iopub.status.busy": "2020-06-15T18:26:12.630Z",
          "iopub.execute_input": "2020-06-15T18:26:12.637Z",
          "iopub.status.idle": "2020-06-15T18:26:12.643Z",
          "shell.execute_reply": "2020-06-15T18:26:12.647Z"
        },
        "id": "d9cId_iSijLK",
        "outputId": "827255a4-ce56-45ad-bea7-314f371ffbc8",
        "colab": {
          "base_uri": "https://localhost:8080/",
          "height": 195
        }
      },
      "source": [
        "#Shakespeare Data Parsed by Play\n",
        "df_toc.head()"
      ],
      "execution_count": null,
      "outputs": [
        {
          "output_type": "execute_result",
          "data": {
            "text/html": [
              "<div>\n",
              "<style scoped>\n",
              "    .dataframe tbody tr th:only-of-type {\n",
              "        vertical-align: middle;\n",
              "    }\n",
              "\n",
              "    .dataframe tbody tr th {\n",
              "        vertical-align: top;\n",
              "    }\n",
              "\n",
              "    .dataframe thead th {\n",
              "        text-align: right;\n",
              "    }\n",
              "</style>\n",
              "<table border=\"1\" class=\"dataframe\">\n",
              "  <thead>\n",
              "    <tr style=\"text-align: right;\">\n",
              "      <th></th>\n",
              "      <th>title</th>\n",
              "      <th>start</th>\n",
              "      <th>end</th>\n",
              "      <th>text</th>\n",
              "    </tr>\n",
              "  </thead>\n",
              "  <tbody>\n",
              "    <tr>\n",
              "      <th>0</th>\n",
              "      <td>THE TRAGEDY OF ANTONY AND CLEOPATRA</td>\n",
              "      <td>-99</td>\n",
              "      <td>14379</td>\n",
              "      <td></td>\n",
              "    </tr>\n",
              "    <tr>\n",
              "      <th>1</th>\n",
              "      <td>AS YOU LIKE IT</td>\n",
              "      <td>14380</td>\n",
              "      <td>17171</td>\n",
              "      <td>AS YOU LIKE IT\\r\\n\\r\\n\\r\\nDRAMATIS PERSONAE.\\r...</td>\n",
              "    </tr>\n",
              "    <tr>\n",
              "      <th>2</th>\n",
              "      <td>THE COMEDY OF ERRORS</td>\n",
              "      <td>17172</td>\n",
              "      <td>20372</td>\n",
              "      <td>THE COMEDY OF ERRORS\\r\\n\\r\\n\\r\\n\\r\\nContents\\r...</td>\n",
              "    </tr>\n",
              "    <tr>\n",
              "      <th>3</th>\n",
              "      <td>THE TRAGEDY OF CORIOLANUS</td>\n",
              "      <td>20373</td>\n",
              "      <td>30346</td>\n",
              "      <td>THE TRAGEDY OF CORIOLANUS\\r\\n\\r\\nDramatis Pers...</td>\n",
              "    </tr>\n",
              "    <tr>\n",
              "      <th>4</th>\n",
              "      <td>CYMBELINE</td>\n",
              "      <td>30347</td>\n",
              "      <td>30364</td>\n",
              "      <td>CYMBELINE.\\r\\nLaud we the gods;\\r\\nAnd let our...</td>\n",
              "    </tr>\n",
              "  </tbody>\n",
              "</table>\n",
              "</div>"
            ],
            "text/plain": [
              "                                 title  ...                                               text\n",
              "0  THE TRAGEDY OF ANTONY AND CLEOPATRA  ...                                                   \n",
              "1                       AS YOU LIKE IT  ...  AS YOU LIKE IT\\r\\n\\r\\n\\r\\nDRAMATIS PERSONAE.\\r...\n",
              "2                 THE COMEDY OF ERRORS  ...  THE COMEDY OF ERRORS\\r\\n\\r\\n\\r\\n\\r\\nContents\\r...\n",
              "3            THE TRAGEDY OF CORIOLANUS  ...  THE TRAGEDY OF CORIOLANUS\\r\\n\\r\\nDramatis Pers...\n",
              "4                            CYMBELINE  ...  CYMBELINE.\\r\\nLaud we the gods;\\r\\nAnd let our...\n",
              "\n",
              "[5 rows x 4 columns]"
            ]
          },
          "metadata": {
            "tags": []
          },
          "execution_count": 168
        }
      ]
    },
    {
      "cell_type": "code",
      "metadata": {
        "id": "HuPD1XqCq4aI",
        "outputId": "cfa49766-7f76-4cb9-dead-37fcd5cd7837",
        "colab": {
          "base_uri": "https://localhost:8080/",
          "height": 756
        }
      },
      "source": [
        "df_toc.title.value_counts()"
      ],
      "execution_count": null,
      "outputs": [
        {
          "output_type": "execute_result",
          "data": {
            "text/plain": [
              "THE LIFE OF KING HENRY THE FIFTH            1\n",
              "THE TRAGEDY OF ANTONY AND CLEOPATRA         1\n",
              "VENUS AND ADONIS                            1\n",
              "THE LIFE OF TIMON OF ATHENS                 1\n",
              "THE HISTORY OF TROILUS AND CRESSIDA         1\n",
              "THE LIFE OF KING HENRY V                    1\n",
              "THE WINTER’S TALE                           1\n",
              "OTHELLO, THE MOOR OF VENICE                 1\n",
              "THE FIRST PART OF KING HENRY THE FOURTH     1\n",
              "MUCH ADO ABOUT NOTHING                      1\n",
              "MACBETH                                     1\n",
              "THE PASSIONATE PILGRIM                      1\n",
              "THE THIRD PART OF KING HENRY THE SIXTH      1\n",
              "LOVE’S LABOUR’S LOST                        1\n",
              "THE RAPE OF LUCRECE                         1\n",
              "THE TRAGEDY OF MACBETH                      1\n",
              "THE TRAGEDY OF OTHELLO, MOOR OF VENICE      1\n",
              "KING RICHARD THE THIRD                      1\n",
              "THE TRAGEDY OF JULIUS CAESAR                1\n",
              "THE MERRY WIVES OF WINDSOR                  1\n",
              "AS YOU LIKE IT                              1\n",
              "KING HENRY THE EIGHTH                       1\n",
              "THE SECOND PART OF KING HENRY THE SIXTH     1\n",
              "THE TRAGEDY OF TITUS ANDRONICUS             1\n",
              "CYMBELINE                                   1\n",
              "THE TRAGEDY OF CORIOLANUS                   1\n",
              "THE TEMPEST                                 1\n",
              "THE TRAGEDY OF HAMLET, PRINCE OF DENMARK    1\n",
              "TWELFTH NIGHT; OR, WHAT YOU WILL            1\n",
              "KING JOHN                                   1\n",
              "THE TRAGEDY OF KING LEAR                    1\n",
              "THE TRAGEDY OF ROMEO AND JULIET             1\n",
              "THE COMEDY OF ERRORS                        1\n",
              "TWELFTH NIGHT: OR, WHAT YOU WILL            1\n",
              "THE SECOND PART OF KING HENRY THE FOURTH    1\n",
              "A LOVER’S COMPLAINT                         1\n",
              "THE TAMING OF THE SHREW                     1\n",
              "A MIDSUMMER NIGHT’S DREAM                   1\n",
              "THE MERCHANT OF VENICE                      1\n",
              "THE TWO NOBLE KINSMEN                       1\n",
              "KING RICHARD THE SECOND                     1\n",
              "THE PHOENIX AND THE TURTLE                  1\n",
              "                                            1\n",
              "Name: title, dtype: int64"
            ]
          },
          "metadata": {
            "tags": []
          },
          "execution_count": 169
        }
      ]
    },
    {
      "cell_type": "code",
      "metadata": {
        "id": "UBv36TtqrKIi",
        "outputId": "647cbfe3-500b-493b-d02d-cf0cf54b5e94",
        "colab": {
          "base_uri": "https://localhost:8080/",
          "height": 120
        }
      },
      "source": [
        "text = df_toc['text'][df_toc['title'] == 'THE MERCHANT OF VENICE'].values[0]\n",
        "text"
      ],
      "execution_count": null,
      "outputs": [
        {
          "output_type": "execute_result",
          "data": {
            "application/vnd.google.colaboratory.intrinsic+json": {
              "type": "string"
            },
            "text/plain": [
              "'THE MERCHANT OF VENICE\\r\\n\\r\\n\\r\\n\\r\\nContents\\r\\n\\r\\nACT I\\r\\nScene I. Venice. A street.\\r\\nScene II. Belmont. A room in Portia’s house.\\r\\nScene III. Venice. A public place.\\r\\n\\r\\n\\r\\nACT II\\r\\nScene I. Belmont. A room in Portia’s house.\\r\\nScene II. Venice. A street.\\r\\nScene III. The same. A room in Shylock’s house.\\r\\nScene IV. The same. A street.\\r\\nScene V. The same. Before Shylock’s house.\\r\\nScene VI. The same.\\r\\nScene VII. Belmont. A room in Portia’s house.\\r\\nScene VIII. Venice. A street.\\r\\nScene IX. Belmont. A room in Portia’s house.\\r\\n\\r\\n\\r\\nACT III\\r\\nScene I. Venice. A street.\\r\\nScene II. Belmont. A room in Portia’s house.\\r\\nScene III. Venice. A street.\\r\\nScene IV. Belmont. A room in Portia’s house.\\r\\nScene V. The same. A garden.\\r\\n\\r\\n\\r\\nACT IV\\r\\nScene I. Venice. A court of justice.\\r\\nScene II. The same. A street.\\r\\n\\r\\n\\r\\nACT V\\r\\nScene I. Belmont. The avenue to Portia’s house.\\r\\n\\r\\n\\r\\n\\r\\nDramatis Personæ\\r\\n\\r\\nTHE DUKE OF VENICE\\r\\nTHE PRINCE OF MOROCCO, suitor to Portia\\r\\nTHE PRINCE OF ARRAGON, suitor to Portia\\r\\nANTONIO, a merchant of Venice\\r\\nBASSANIO, his friend, suitor to Portia\\r\\nGRATIANO, friend to Antonio and Bassanio\\r\\nSOLANIO, friend to Antonio and Bassanio\\r\\nSALARINO, friend to Antonio and Bassanio\\r\\nLORENZO, in love with Jessica\\r\\nSHYLOCK, a rich Jew\\r\\nTUBAL, a Jew, his friend\\r\\nLAUNCELET GOBBO, a clown, servant to Shylock\\r\\nOLD GOBBO, father to Launcelet\\r\\nLEONARDO, servant to Bassanio\\r\\nBALTHAZAR, servant to Portia\\r\\nSTEPHANO, servant to Portia\\r\\nSALERIO, a messenger from Venice\\r\\n\\r\\nPORTIA, a rich heiress\\r\\nNERISSA, her waiting-woman\\r\\nJESSICA, daughter to Shylock\\r\\n\\r\\nMagnificoes of Venice, Officers of the Court of Justice, a Gaoler,\\r\\nServants and other Attendants\\r\\n\\r\\nSCENE: Partly at Venice, and partly at Belmont, the seat of Portia on\\r\\nthe Continent\\r\\n\\r\\n\\r\\nACT I\\r\\n\\r\\nSCENE I. Venice. A street.\\r\\n\\r\\n Enter Antonio, Salarino and Solanio.\\r\\n\\r\\nANTONIO.\\r\\nIn sooth I know not why I am so sad,\\r\\nIt wearies me. you say it wearies you;\\r\\nBut how I caught it, found it, or came by it,\\r\\nWhat stuff ’tis made of, whereof it is born,\\r\\nI am to learn.\\r\\nAnd such a want-wit sadness makes of me,\\r\\nThat I have much ado to know myself.\\r\\n\\r\\nSALARINO.\\r\\nYour mind is tossing on the ocean,\\r\\nThere where your argosies, with portly sail\\r\\nLike signiors and rich burghers on the flood,\\r\\nOr as it were the pageants of the sea,\\r\\nDo overpeer the petty traffickers\\r\\nThat curtsy to them, do them reverence,\\r\\nAs they fly by them with their woven wings.\\r\\n\\r\\nSOLANIO.\\r\\nBelieve me, sir, had I such venture forth,\\r\\nThe better part of my affections would\\r\\nBe with my hopes abroad. I should be still\\r\\nPlucking the grass to know where sits the wind,\\r\\nPeering in maps for ports, and piers and roads;\\r\\nAnd every object that might make me fear\\r\\nMisfortune to my ventures, out of doubt\\r\\nWould make me sad.\\r\\n\\r\\nSALARINO.\\r\\nMy wind cooling my broth\\r\\nWould blow me to an ague when I thought\\r\\nWhat harm a wind too great might do at sea.\\r\\nI should not see the sandy hour-glass run\\r\\nBut I should think of shallows and of flats,\\r\\nAnd see my wealthy Andrew dock’d in sand,\\r\\nVailing her high top lower than her ribs\\r\\nTo kiss her burial. Should I go to church\\r\\nAnd see the holy edifice of stone\\r\\nAnd not bethink me straight of dangerous rocks,\\r\\nWhich, touching but my gentle vessel’s side,\\r\\nWould scatter all her spices on the stream,\\r\\nEnrobe the roaring waters with my silks,\\r\\nAnd, in a word, but even now worth this,\\r\\nAnd now worth nothing? Shall I have the thought\\r\\nTo think on this, and shall I lack the thought\\r\\nThat such a thing bechanc’d would make me sad?\\r\\nBut tell not me, I know Antonio\\r\\nIs sad to think upon his merchandise.\\r\\n\\r\\nANTONIO.\\r\\nBelieve me, no. I thank my fortune for it,\\r\\nMy ventures are not in one bottom trusted,\\r\\nNor to one place; nor is my whole estate\\r\\nUpon the fortune of this present year.\\r\\nTherefore my merchandise makes me not sad.\\r\\n\\r\\nSALARINO.\\r\\nWhy then you are in love.\\r\\n\\r\\nANTONIO.\\r\\nFie, fie!\\r\\n\\r\\nSALARINO.\\r\\nNot in love neither? Then let us say you are sad\\r\\nBecause you are not merry; and ’twere as easy\\r\\nFor you to laugh and leap and say you are merry\\r\\nBecause you are not sad. Now, by two-headed Janus,\\r\\nNature hath fram’d strange fellows in her time:\\r\\nSome that will evermore peep through their eyes,\\r\\nAnd laugh like parrots at a bagpiper.\\r\\nAnd other of such vinegar aspect\\r\\nThat they’ll not show their teeth in way of smile\\r\\nThough Nestor swear the jest be laughable.\\r\\n\\r\\n Enter Bassanio, Lorenzo and Gratiano.\\r\\n\\r\\nSOLANIO.\\r\\nHere comes Bassanio, your most noble kinsman,\\r\\nGratiano, and Lorenzo. Fare ye well.\\r\\nWe leave you now with better company.\\r\\n\\r\\nSALARINO.\\r\\nI would have stay’d till I had made you merry,\\r\\nIf worthier friends had not prevented me.\\r\\n\\r\\nANTONIO.\\r\\nYour worth is very dear in my regard.\\r\\nI take it your own business calls on you,\\r\\nAnd you embrace th’ occasion to depart.\\r\\n\\r\\nSALARINO.\\r\\nGood morrow, my good lords.\\r\\n\\r\\nBASSANIO.\\r\\nGood signiors both, when shall we laugh? Say, when?\\r\\nYou grow exceeding strange. Must it be so?\\r\\n\\r\\nSALARINO.\\r\\nWe’ll make our leisures to attend on yours.\\r\\n\\r\\n [_Exeunt Salarino and Solanio._]\\r\\n\\r\\nLORENZO.\\r\\nMy Lord Bassanio, since you have found Antonio,\\r\\nWe two will leave you, but at dinner-time\\r\\nI pray you have in mind where we must meet.\\r\\n\\r\\nBASSANIO.\\r\\nI will not fail you.\\r\\n\\r\\nGRATIANO.\\r\\nYou look not well, Signior Antonio,\\r\\nYou have too much respect upon the world.\\r\\nThey lose it that do buy it with much care.\\r\\nBelieve me, you are marvellously chang’d.\\r\\n\\r\\nANTONIO.\\r\\nI hold the world but as the world, Gratiano,\\r\\nA stage, where every man must play a part,\\r\\nAnd mine a sad one.\\r\\n\\r\\nGRATIANO.\\r\\nLet me play the fool,\\r\\nWith mirth and laughter let old wrinkles come,\\r\\nAnd let my liver rather heat with wine\\r\\nThan my heart cool with mortifying groans.\\r\\nWhy should a man whose blood is warm within\\r\\nSit like his grandsire cut in alabaster?\\r\\nSleep when he wakes? And creep into the jaundice\\r\\nBy being peevish? I tell thee what, Antonio,\\r\\n(I love thee, and ’tis my love that speaks):\\r\\nThere are a sort of men whose visages\\r\\nDo cream and mantle like a standing pond,\\r\\nAnd do a wilful stillness entertain,\\r\\nWith purpose to be dress’d in an opinion\\r\\nOf wisdom, gravity, profound conceit,\\r\\nAs who should say, “I am Sir Oracle,\\r\\nAnd when I ope my lips, let no dog bark.”\\r\\nO my Antonio, I do know of these\\r\\nThat therefore only are reputed wise\\r\\nFor saying nothing; when, I am very sure,\\r\\nIf they should speak, would almost damn those ears\\r\\nWhich, hearing them, would call their brothers fools.\\r\\nI’ll tell thee more of this another time.\\r\\nBut fish not with this melancholy bait\\r\\nFor this fool gudgeon, this opinion.\\r\\nCome, good Lorenzo. Fare ye well a while.\\r\\nI’ll end my exhortation after dinner.\\r\\n\\r\\nLORENZO.\\r\\nWell, we will leave you then till dinner-time.\\r\\nI must be one of these same dumb wise men,\\r\\nFor Gratiano never lets me speak.\\r\\n\\r\\nGRATIANO.\\r\\nWell, keep me company but two years moe,\\r\\nThou shalt not know the sound of thine own tongue.\\r\\n\\r\\nANTONIO.\\r\\nFare you well. I’ll grow a talker for this gear.\\r\\n\\r\\nGRATIANO.\\r\\nThanks, i’ faith, for silence is only commendable\\r\\nIn a neat’s tongue dried, and a maid not vendible.\\r\\n\\r\\n [_Exeunt Gratiano and Lorenzo._]\\r\\n\\r\\nANTONIO.\\r\\nIs that anything now?\\r\\n\\r\\nBASSANIO.\\r\\nGratiano speaks an infinite deal of nothing, more than any man in all\\r\\nVenice. His reasons are as two grains of wheat hid in two bushels of\\r\\nchaff: you shall seek all day ere you find them, and when you have them\\r\\nthey are not worth the search.\\r\\n\\r\\nANTONIO.\\r\\nWell, tell me now what lady is the same\\r\\nTo whom you swore a secret pilgrimage,\\r\\nThat you today promis’d to tell me of?\\r\\n\\r\\nBASSANIO.\\r\\n’Tis not unknown to you, Antonio,\\r\\nHow much I have disabled mine estate\\r\\nBy something showing a more swelling port\\r\\nThan my faint means would grant continuance.\\r\\nNor do I now make moan to be abridg’d\\r\\nFrom such a noble rate, but my chief care\\r\\nIs to come fairly off from the great debts\\r\\nWherein my time, something too prodigal,\\r\\nHath left me gag’d. To you, Antonio,\\r\\nI owe the most in money and in love,\\r\\nAnd from your love I have a warranty\\r\\nTo unburden all my plots and purposes\\r\\nHow to get clear of all the debts I owe.\\r\\n\\r\\nANTONIO.\\r\\nI pray you, good Bassanio, let me know it;\\r\\nAnd if it stand, as you yourself still do,\\r\\nWithin the eye of honour, be assur’d\\r\\nMy purse, my person, my extremest means\\r\\nLie all unlock’d to your occasions.\\r\\n\\r\\nBASSANIO.\\r\\nIn my school-days, when I had lost one shaft,\\r\\nI shot his fellow of the self-same flight\\r\\nThe self-same way, with more advised watch\\r\\nTo find the other forth; and by adventuring both\\r\\nI oft found both. I urge this childhood proof\\r\\nBecause what follows is pure innocence.\\r\\nI owe you much, and, like a wilful youth,\\r\\nThat which I owe is lost. But if you please\\r\\nTo shoot another arrow that self way\\r\\nWhich you did shoot the first, I do not doubt,\\r\\nAs I will watch the aim, or to find both,\\r\\nOr bring your latter hazard back again,\\r\\nAnd thankfully rest debtor for the first.\\r\\n\\r\\nANTONIO.\\r\\nYou know me well, and herein spend but time\\r\\nTo wind about my love with circumstance;\\r\\nAnd out of doubt you do me now more wrong\\r\\nIn making question of my uttermost\\r\\nThan if you had made waste of all I have.\\r\\nThen do but say to me what I should do\\r\\nThat in your knowledge may by me be done,\\r\\nAnd I am prest unto it. Therefore, speak.\\r\\n\\r\\nBASSANIO.\\r\\nIn Belmont is a lady richly left,\\r\\nAnd she is fair, and, fairer than that word,\\r\\nOf wondrous virtues. Sometimes from her eyes\\r\\nI did receive fair speechless messages:\\r\\nHer name is Portia, nothing undervalu’d\\r\\nTo Cato’s daughter, Brutus’ Portia.\\r\\nNor is the wide world ignorant of her worth,\\r\\nFor the four winds blow in from every coast\\r\\nRenowned suitors, and her sunny locks\\r\\nHang on her temples like a golden fleece,\\r\\nWhich makes her seat of Belmont Colchos’ strond,\\r\\nAnd many Jasons come in quest of her.\\r\\nO my Antonio, had I but the means\\r\\nTo hold a rival place with one of them,\\r\\nI have a mind presages me such thrift\\r\\nThat I should questionless be fortunate.\\r\\n\\r\\nANTONIO.\\r\\nThou know’st that all my fortunes are at sea;\\r\\nNeither have I money nor commodity\\r\\nTo raise a present sum, therefore go forth\\r\\nTry what my credit can in Venice do;\\r\\nThat shall be rack’d even to the uttermost,\\r\\nTo furnish thee to Belmont to fair Portia.\\r\\nGo presently inquire, and so will I,\\r\\nWhere money is, and I no question make\\r\\nTo have it of my trust or for my sake.\\r\\n\\r\\n [_Exeunt._]\\r\\n\\r\\nSCENE II. Belmont. A room in Portia’s house.\\r\\n\\r\\n Enter Portia with her waiting-woman Nerissa.\\r\\n\\r\\nPORTIA.\\r\\nBy my troth, Nerissa, my little body is aweary of this great world.\\r\\n\\r\\nNERISSA.\\r\\nYou would be, sweet madam, if your miseries were in the same abundance\\r\\nas your good fortunes are. And yet, for aught I see, they are as sick\\r\\nthat surfeit with too much as they that starve with nothing. It is no\\r\\nmean happiness, therefore, to be seated in the mean. Superfluity come\\r\\nsooner by white hairs, but competency lives longer.\\r\\n\\r\\nPORTIA.\\r\\nGood sentences, and well pronounc’d.\\r\\n\\r\\nNERISSA.\\r\\nThey would be better if well followed.\\r\\n\\r\\nPORTIA.\\r\\nIf to do were as easy as to know what were good to do, chapels had been\\r\\nchurches, and poor men’s cottages princes’ palaces. It is a good divine\\r\\nthat follows his own instructions; I can easier teach twenty what were\\r\\ngood to be done than to be one of the twenty to follow mine own\\r\\nteaching. The brain may devise laws for the blood, but a hot temper\\r\\nleaps o’er a cold decree; such a hare is madness the youth, to skip\\r\\no’er the meshes of good counsel the cripple. But this reasoning is not\\r\\nin the fashion to choose me a husband. O me, the word “choose”! I may\\r\\nneither choose who I would nor refuse who I dislike, so is the will of\\r\\na living daughter curb’d by the will of a dead father. Is it not hard,\\r\\nNerissa, that I cannot choose one, nor refuse none?\\r\\n\\r\\nNERISSA.\\r\\nYour father was ever virtuous, and holy men at their death have good\\r\\ninspirations. Therefore the lott’ry that he hath devised in these three\\r\\nchests of gold, silver, and lead, whereof who chooses his meaning\\r\\nchooses you, will no doubt never be chosen by any rightly but one who\\r\\nyou shall rightly love. But what warmth is there in your affection\\r\\ntowards any of these princely suitors that are already come?\\r\\n\\r\\nPORTIA.\\r\\nI pray thee over-name them, and as thou namest them, I will describe\\r\\nthem, and according to my description level at my affection.\\r\\n\\r\\nNERISSA.\\r\\nFirst, there is the Neapolitan prince.\\r\\n\\r\\nPORTIA.\\r\\nAy, that’s a colt indeed, for he doth nothing but talk of his horse,\\r\\nand he makes it a great appropriation to his own good parts that he can\\r\\nshoe him himself. I am much afeard my lady his mother play’d false with\\r\\na smith.\\r\\n\\r\\nNERISSA.\\r\\nThen is there the County Palatine.\\r\\n\\r\\nPORTIA.\\r\\nHe doth nothing but frown, as who should say “And you will not have me,\\r\\nchoose.” He hears merry tales and smiles not. I fear he will prove the\\r\\nweeping philosopher when he grows old, being so full of unmannerly\\r\\nsadness in his youth. I had rather be married to a death’s-head with a\\r\\nbone in his mouth than to either of these. God defend me from these\\r\\ntwo!\\r\\n\\r\\nNERISSA.\\r\\nHow say you by the French lord, Monsieur Le Bon?\\r\\n\\r\\nPORTIA.\\r\\nGod made him, and therefore let him pass for a man. In truth, I know it\\r\\nis a sin to be a mocker, but he! why, he hath a horse better than the\\r\\nNeapolitan’s, a better bad habit of frowning than the Count Palatine.\\r\\nHe is every man in no man. If a throstle sing, he falls straight\\r\\na-cap’ring. He will fence with his own shadow. If I should marry him, I\\r\\nshould marry twenty husbands. If he would despise me, I would forgive\\r\\nhim, for if he love me to madness, I shall never requite him.\\r\\n\\r\\nNERISSA.\\r\\nWhat say you then to Falconbridge, the young baron of England?\\r\\n\\r\\nPORTIA.\\r\\nYou know I say nothing to him, for he understands not me, nor I him: he\\r\\nhath neither Latin, French, nor Italian, and you will come into the\\r\\ncourt and swear that I have a poor pennyworth in the English. He is a\\r\\nproper man’s picture; but alas, who can converse with a dumb-show? How\\r\\noddly he is suited! I think he bought his doublet in Italy, his round\\r\\nhose in France, his bonnet in Germany, and his behaviour everywhere.\\r\\n\\r\\nNERISSA.\\r\\nWhat think you of the Scottish lord, his neighbour?\\r\\n\\r\\nPORTIA.\\r\\nThat he hath a neighbourly charity in him, for he borrowed a box of the\\r\\near of the Englishman, and swore he would pay him again when he was\\r\\nable. I think the Frenchman became his surety, and seal’d under for\\r\\nanother.\\r\\n\\r\\nNERISSA.\\r\\nHow like you the young German, the Duke of Saxony’s nephew?\\r\\n\\r\\nPORTIA.\\r\\nVery vilely in the morning when he is sober, and most vilely in the\\r\\nafternoon when he is drunk: when he is best, he is a little worse than\\r\\na man, and when he is worst, he is little better than a beast. And the\\r\\nworst fall that ever fell, I hope I shall make shift to go without him.\\r\\n\\r\\nNERISSA.\\r\\nIf he should offer to choose, and choose the right casket, you should\\r\\nrefuse to perform your father’s will, if you should refuse to accept\\r\\nhim.\\r\\n\\r\\nPORTIA.\\r\\nTherefore, for fear of the worst, I pray thee set a deep glass of\\r\\nRhenish wine on the contrary casket, for if the devil be within and\\r\\nthat temptation without, I know he will choose it. I will do anything,\\r\\nNerissa, ere I will be married to a sponge.\\r\\n\\r\\nNERISSA.\\r\\nYou need not fear, lady, the having any of these lords. They have\\r\\nacquainted me with their determinations, which is indeed to return to\\r\\ntheir home, and to trouble you with no more suit, unless you may be won\\r\\nby some other sort than your father’s imposition, depending on the\\r\\ncaskets.\\r\\n\\r\\nPORTIA.\\r\\nIf I live to be as old as Sibylla, I will die as chaste as Diana,\\r\\nunless I be obtained by the manner of my father’s will. I am glad this\\r\\nparcel of wooers are so reasonable, for there is not one among them but\\r\\nI dote on his very absence. And I pray God grant them a fair departure.\\r\\n\\r\\nNERISSA.\\r\\nDo you not remember, lady, in your father’s time, a Venetian, a scholar\\r\\nand a soldier, that came hither in company of the Marquis of\\r\\nMontferrat?\\r\\n\\r\\nPORTIA.\\r\\nYes, yes, it was Bassanio, as I think, so was he call’d.\\r\\n\\r\\nNERISSA.\\r\\nTrue, madam. He, of all the men that ever my foolish eyes look’d upon,\\r\\nwas the best deserving a fair lady.\\r\\n\\r\\nPORTIA.\\r\\nI remember him well, and I remember him worthy of thy praise.\\r\\n\\r\\n Enter a Servingman.\\r\\n\\r\\nHow now! what news?\\r\\n\\r\\nSERVINGMAN.\\r\\nThe four strangers seek for you, madam, to take their leave. And there\\r\\nis a forerunner come from a fifth, the Prince of Morocco, who brings\\r\\nword the Prince his master will be here tonight.\\r\\n\\r\\nPORTIA.\\r\\nIf I could bid the fifth welcome with so good heart as I can bid the\\r\\nother four farewell, I should be glad of his approach. If he have the\\r\\ncondition of a saint and the complexion of a devil, I had rather he\\r\\nshould shrive me than wive me. Come, Nerissa. Sirrah, go before. Whiles\\r\\nwe shut the gate upon one wooer, another knocks at the door.\\r\\n\\r\\n [_Exeunt._]\\r\\n\\r\\nSCENE III. Venice. A public place.\\r\\n\\r\\n Enter Bassanio with Shylock the Jew.\\r\\n\\r\\nSHYLOCK.\\r\\nThree thousand ducats, well.\\r\\n\\r\\nBASSANIO.\\r\\nAy, sir, for three months.\\r\\n\\r\\nSHYLOCK.\\r\\nFor three months, well.\\r\\n\\r\\nBASSANIO.\\r\\nFor the which, as I told you, Antonio shall be bound.\\r\\n\\r\\nSHYLOCK.\\r\\nAntonio shall become bound, well.\\r\\n\\r\\nBASSANIO.\\r\\nMay you stead me? Will you pleasure me? Shall I know your answer?\\r\\n\\r\\nSHYLOCK.\\r\\nThree thousand ducats for three months, and Antonio bound.\\r\\n\\r\\nBASSANIO.\\r\\nYour answer to that.\\r\\n\\r\\nSHYLOCK.\\r\\nAntonio is a good man.\\r\\n\\r\\nBASSANIO.\\r\\nHave you heard any imputation to the contrary?\\r\\n\\r\\nSHYLOCK.\\r\\nHo, no, no, no, no: my meaning in saying he is a good man is to have\\r\\nyou understand me that he is sufficient. Yet his means are in\\r\\nsupposition: he hath an argosy bound to Tripolis, another to the\\r\\nIndies. I understand, moreover, upon the Rialto, he hath a third at\\r\\nMexico, a fourth for England, and other ventures he hath squandered\\r\\nabroad. But ships are but boards, sailors but men; there be land-rats\\r\\nand water-rats, water-thieves and land-thieves—I mean pirates—and then\\r\\nthere is the peril of waters, winds, and rocks. The man is,\\r\\nnotwithstanding, sufficient. Three thousand ducats. I think I may take\\r\\nhis bond.\\r\\n\\r\\nBASSANIO.\\r\\nBe assured you may.\\r\\n\\r\\nSHYLOCK.\\r\\nI will be assured I may. And that I may be assured, I will bethink me.\\r\\nMay I speak with Antonio?\\r\\n\\r\\nBASSANIO.\\r\\nIf it please you to dine with us.\\r\\n\\r\\nSHYLOCK.\\r\\nYes, to smell pork, to eat of the habitation which your prophet, the\\r\\nNazarite, conjured the devil into. I will buy with you, sell with you,\\r\\ntalk with you, walk with you, and so following; but I will not eat with\\r\\nyou, drink with you, nor pray with you. What news on the Rialto? Who is\\r\\nhe comes here?\\r\\n\\r\\n Enter Antonio.\\r\\n\\r\\nBASSANIO.\\r\\nThis is Signior Antonio.\\r\\n\\r\\nSHYLOCK.\\r\\n[_Aside._] How like a fawning publican he looks!\\r\\nI hate him for he is a Christian,\\r\\nBut more for that in low simplicity\\r\\nHe lends out money gratis, and brings down\\r\\nThe rate of usance here with us in Venice.\\r\\nIf I can catch him once upon the hip,\\r\\nI will feed fat the ancient grudge I bear him.\\r\\nHe hates our sacred nation, and he rails,\\r\\nEven there where merchants most do congregate,\\r\\nOn me, my bargains, and my well-won thrift,\\r\\nWhich he calls interest. Cursed be my tribe\\r\\nIf I forgive him!\\r\\n\\r\\nBASSANIO.\\r\\nShylock, do you hear?\\r\\n\\r\\nSHYLOCK.\\r\\nI am debating of my present store,\\r\\nAnd by the near guess of my memory\\r\\nI cannot instantly raise up the gross\\r\\nOf full three thousand ducats. What of that?\\r\\nTubal, a wealthy Hebrew of my tribe,\\r\\nWill furnish me. But soft! how many months\\r\\nDo you desire? [_To Antonio._] Rest you fair, good signior,\\r\\nYour worship was the last man in our mouths.\\r\\n\\r\\nANTONIO.\\r\\nShylock, albeit I neither lend nor borrow\\r\\nBy taking nor by giving of excess,\\r\\nYet to supply the ripe wants of my friend,\\r\\nI’ll break a custom. [_To Bassanio._] Is he yet possess’d\\r\\nHow much ye would?\\r\\n\\r\\nSHYLOCK.\\r\\nAy, ay, three thousand ducats.\\r\\n\\r\\nANTONIO.\\r\\nAnd for three months.\\r\\n\\r\\nSHYLOCK.\\r\\nI had forgot, three months, you told me so.\\r\\nWell then, your bond. And let me see, but hear you,\\r\\nMethought you said you neither lend nor borrow\\r\\nUpon advantage.\\r\\n\\r\\nANTONIO.\\r\\nI do never use it.\\r\\n\\r\\nSHYLOCK.\\r\\nWhen Jacob graz’d his uncle Laban’s sheep,—\\r\\nThis Jacob from our holy Abram was\\r\\nAs his wise mother wrought in his behalf,\\r\\nThe third possessor; ay, he was the third.\\r\\n\\r\\nANTONIO.\\r\\nAnd what of him? Did he take interest?\\r\\n\\r\\nSHYLOCK.\\r\\nNo, not take interest, not, as you would say,\\r\\nDirectly interest; mark what Jacob did.\\r\\nWhen Laban and himself were compromis’d\\r\\nThat all the eanlings which were streak’d and pied\\r\\nShould fall as Jacob’s hire, the ewes being rank\\r\\nIn end of autumn turned to the rams,\\r\\nAnd when the work of generation was\\r\\nBetween these woolly breeders in the act,\\r\\nThe skilful shepherd pill’d me certain wands,\\r\\nAnd in the doing of the deed of kind,\\r\\nHe stuck them up before the fulsome ewes,\\r\\nWho then conceiving did in eaning time\\r\\nFall parti-colour’d lambs, and those were Jacob’s.\\r\\nThis was a way to thrive, and he was blest;\\r\\nAnd thrift is blessing if men steal it not.\\r\\n\\r\\nANTONIO.\\r\\nThis was a venture, sir, that Jacob serv’d for,\\r\\nA thing not in his power to bring to pass,\\r\\nBut sway’d and fashion’d by the hand of heaven.\\r\\nWas this inserted to make interest good?\\r\\nOr is your gold and silver ewes and rams?\\r\\n\\r\\nSHYLOCK.\\r\\nI cannot tell; I make it breed as fast.\\r\\nBut note me, signior.\\r\\n\\r\\nANTONIO.\\r\\nMark you this, Bassanio,\\r\\nThe devil can cite Scripture for his purpose.\\r\\nAn evil soul producing holy witness\\r\\nIs like a villain with a smiling cheek,\\r\\nA goodly apple rotten at the heart.\\r\\nO, what a goodly outside falsehood hath!\\r\\n\\r\\nSHYLOCK.\\r\\nThree thousand ducats, ’tis a good round sum.\\r\\nThree months from twelve, then let me see the rate.\\r\\n\\r\\nANTONIO.\\r\\nWell, Shylock, shall we be beholding to you?\\r\\n\\r\\nSHYLOCK.\\r\\nSignior Antonio, many a time and oft\\r\\nIn the Rialto you have rated me\\r\\nAbout my moneys and my usances.\\r\\nStill have I borne it with a patient shrug,\\r\\n(For suff’rance is the badge of all our tribe.)\\r\\nYou call me misbeliever, cut-throat dog,\\r\\nAnd spet upon my Jewish gaberdine,\\r\\nAnd all for use of that which is mine own.\\r\\nWell then, it now appears you need my help.\\r\\nGo to, then, you come to me, and you say\\r\\n“Shylock, we would have moneys.” You say so:\\r\\nYou that did void your rheum upon my beard,\\r\\nAnd foot me as you spurn a stranger cur\\r\\nOver your threshold, moneys is your suit.\\r\\nWhat should I say to you? Should I not say\\r\\n“Hath a dog money? Is it possible\\r\\nA cur can lend three thousand ducats?” Or\\r\\nShall I bend low and, in a bondman’s key,\\r\\nWith bated breath and whisp’ring humbleness,\\r\\nSay this:\\r\\n“Fair sir, you spet on me on Wednesday last;\\r\\nYou spurn’d me such a day; another time\\r\\nYou call’d me dog; and for these courtesies\\r\\nI’ll lend you thus much moneys”?\\r\\n\\r\\nANTONIO.\\r\\nI am as like to call thee so again,\\r\\nTo spet on thee again, to spurn thee too.\\r\\nIf thou wilt lend this money, lend it not\\r\\nAs to thy friends, for when did friendship take\\r\\nA breed for barren metal of his friend?\\r\\nBut lend it rather to thine enemy,\\r\\nWho if he break, thou mayst with better face\\r\\nExact the penalty.\\r\\n\\r\\nSHYLOCK.\\r\\nWhy, look you how you storm!\\r\\nI would be friends with you, and have your love,\\r\\nForget the shames that you have stain’d me with,\\r\\nSupply your present wants, and take no doit\\r\\nOf usance for my moneys, and you’ll not hear me,\\r\\nThis is kind I offer.\\r\\n\\r\\nBASSANIO.\\r\\nThis were kindness.\\r\\n\\r\\nSHYLOCK.\\r\\nThis kindness will I show.\\r\\nGo with me to a notary, seal me there\\r\\nYour single bond; and in a merry sport,\\r\\nIf you repay me not on such a day,\\r\\nIn such a place, such sum or sums as are\\r\\nExpress’d in the condition, let the forfeit\\r\\nBe nominated for an equal pound\\r\\nOf your fair flesh, to be cut off and taken\\r\\nIn what part of your body pleaseth me.\\r\\n\\r\\nANTONIO.\\r\\nContent, in faith, I’ll seal to such a bond,\\r\\nAnd say there is much kindness in the Jew.\\r\\n\\r\\nBASSANIO.\\r\\nYou shall not seal to such a bond for me,\\r\\nI’ll rather dwell in my necessity.\\r\\n\\r\\nANTONIO.\\r\\nWhy, fear not, man, I will not forfeit it,\\r\\nWithin these two months, that’s a month before\\r\\nThis bond expires, I do expect return\\r\\nOf thrice three times the value of this bond.\\r\\n\\r\\nSHYLOCK.\\r\\nO father Abram, what these Christians are,\\r\\nWhose own hard dealings teaches them suspect\\r\\nThe thoughts of others. Pray you, tell me this,\\r\\nIf he should break his day, what should I gain\\r\\nBy the exaction of the forfeiture?\\r\\nA pound of man’s flesh, taken from a man,\\r\\nIs not so estimable, profitable neither,\\r\\nAs flesh of muttons, beefs, or goats. I say,\\r\\nTo buy his favour, I extend this friendship.\\r\\nIf he will take it, so. If not, adieu,\\r\\nAnd for my love I pray you wrong me not.\\r\\n\\r\\nANTONIO.\\r\\nYes, Shylock, I will seal unto this bond.\\r\\n\\r\\nSHYLOCK.\\r\\nThen meet me forthwith at the notary’s,\\r\\nGive him direction for this merry bond,\\r\\nAnd I will go and purse the ducats straight,\\r\\nSee to my house left in the fearful guard\\r\\nOf an unthrifty knave, and presently\\r\\nI’ll be with you.\\r\\n\\r\\nANTONIO.\\r\\nHie thee, gentle Jew.\\r\\n\\r\\n [_Exit Shylock._]\\r\\n\\r\\nThis Hebrew will turn Christian; he grows kind.\\r\\n\\r\\nBASSANIO.\\r\\nI like not fair terms and a villain’s mind.\\r\\n\\r\\nANTONIO.\\r\\nCome on; in this there can be no dismay;\\r\\nMy ships come home a month before the day.\\r\\n\\r\\n [_Exeunt._]\\r\\n\\r\\n\\r\\nACT II\\r\\n\\r\\nSCENE I. Belmont. A room in Portia’s house.\\r\\n\\r\\n Flourish of cornets. Enter the Prince of Morocco, a tawny Moor all in\\r\\n white, and three or four followers accordingly, with Portia, Nerissa\\r\\n and their train.\\r\\n\\r\\nPRINCE OF MOROCCO.\\r\\nMislike me not for my complexion,\\r\\nThe shadowed livery of the burnish’d sun,\\r\\nTo whom I am a neighbour, and near bred.\\r\\nBring me the fairest creature northward born,\\r\\nWhere Phœbus’ fire scarce thaws the icicles,\\r\\nAnd let us make incision for your love\\r\\nTo prove whose blood is reddest, his or mine.\\r\\nI tell thee, lady, this aspect of mine\\r\\nHath fear’d the valiant; by my love I swear\\r\\nThe best-regarded virgins of our clime\\r\\nHave lov’d it too. I would not change this hue,\\r\\nExcept to steal your thoughts, my gentle queen.\\r\\n\\r\\nPORTIA.\\r\\nIn terms of choice I am not solely led\\r\\nBy nice direction of a maiden’s eyes;\\r\\nBesides, the lott’ry of my destiny\\r\\nBars me the right of voluntary choosing.\\r\\nBut if my father had not scanted me\\r\\nAnd hedg’d me by his wit to yield myself\\r\\nHis wife who wins me by that means I told you,\\r\\nYourself, renowned Prince, then stood as fair\\r\\nAs any comer I have look’d on yet\\r\\nFor my affection.\\r\\n\\r\\nPRINCE OF MOROCCO.\\r\\nEven for that I thank you.\\r\\nTherefore I pray you lead me to the caskets\\r\\nTo try my fortune. By this scimitar\\r\\nThat slew the Sophy and a Persian prince,\\r\\nThat won three fields of Sultan Solyman,\\r\\nI would o’erstare the sternest eyes that look,\\r\\nOutbrave the heart most daring on the earth,\\r\\nPluck the young sucking cubs from the she-bear,\\r\\nYea, mock the lion when he roars for prey,\\r\\nTo win thee, lady. But, alas the while!\\r\\nIf Hercules and Lichas play at dice\\r\\nWhich is the better man, the greater throw\\r\\nMay turn by fortune from the weaker hand:\\r\\nSo is Alcides beaten by his rage,\\r\\nAnd so may I, blind Fortune leading me,\\r\\nMiss that which one unworthier may attain,\\r\\nAnd die with grieving.\\r\\n\\r\\nPORTIA.\\r\\nYou must take your chance,\\r\\nAnd either not attempt to choose at all,\\r\\nOr swear before you choose, if you choose wrong\\r\\nNever to speak to lady afterward\\r\\nIn way of marriage. Therefore be advis’d.\\r\\n\\r\\nPRINCE OF MOROCCO.\\r\\nNor will not. Come, bring me unto my chance.\\r\\n\\r\\nPORTIA.\\r\\nFirst, forward to the temple. After dinner\\r\\nYour hazard shall be made.\\r\\n\\r\\nPRINCE OF MOROCCO.\\r\\nGood fortune then,\\r\\nTo make me blest or cursed’st among men!\\r\\n\\r\\n [_Cornets. Exeunt._]\\r\\n\\r\\nSCENE II. Venice. A street.\\r\\n\\r\\n Enter Launcelet Gobbo, the clown, alone.\\r\\n\\r\\nLAUNCELET.\\r\\nCertainly my conscience will serve me to run from this Jew my master.\\r\\nThe fiend is at mine elbow and tempts me, saying to me “Gobbo,\\r\\nLauncelet Gobbo, good Launcelet” or “good Gobbo,” or “good Launcelet\\r\\nGobbo, use your legs, take the start, run away.” My conscience says\\r\\n“No; take heed, honest Launcelet, take heed, honest Gobbo” or, as\\r\\naforesaid, “honest Launcelet Gobbo, do not run, scorn running with thy\\r\\nheels.” Well, the most courageous fiend bids me pack. “Fia!” says the\\r\\nfiend, “away!” says the fiend. “For the heavens, rouse up a brave\\r\\nmind,” says the fiend “and run.” Well, my conscience, hanging about the\\r\\nneck of my heart, says very wisely to me “My honest friend Launcelet,\\r\\nbeing an honest man’s son”—or rather an honest woman’s son, for indeed\\r\\nmy father did something smack, something grow to, he had a kind of\\r\\ntaste;—well, my conscience says “Launcelet, budge not.” “Budge,” says\\r\\nthe fiend. “Budge not,” says my conscience. “Conscience,” say I, “you\\r\\ncounsel well.” “Fiend,” say I, “you counsel well.” To be ruled by my\\r\\nconscience, I should stay with the Jew my master, who, (God bless the\\r\\nmark) is a kind of devil; and, to run away from the Jew, I should be\\r\\nruled by the fiend, who (saving your reverence) is the devil himself.\\r\\nCertainly the Jew is the very devil incarnation, and, in my conscience,\\r\\nmy conscience is but a kind of hard conscience, to offer to counsel me\\r\\nto stay with the Jew. The fiend gives the more friendly counsel. I will\\r\\nrun, fiend, my heels are at your commandment, I will run.\\r\\n\\r\\n Enter Old Gobbo with a basket.\\r\\n\\r\\nGOBBO.\\r\\nMaster young man, you, I pray you; which is the way to Master Jew’s?\\r\\n\\r\\nLAUNCELET.\\r\\n[_Aside._] O heavens, this is my true-begotten father, who being more\\r\\nthan sand-blind, high-gravel blind, knows me not. I will try confusions\\r\\nwith him.\\r\\n\\r\\nGOBBO.\\r\\nMaster young gentleman, I pray you, which is the way to Master Jew’s?\\r\\n\\r\\nLAUNCELET.\\r\\nTurn up on your right hand at the next turning, but at the next turning\\r\\nof all on your left; marry, at the very next turning, turn of no hand,\\r\\nbut turn down indirectly to the Jew’s house.\\r\\n\\r\\nGOBBO.\\r\\nBe God’s sonties, ’twill be a hard way to hit. Can you tell me whether\\r\\none Launcelet, that dwells with him, dwell with him or no?\\r\\n\\r\\nLAUNCELET.\\r\\nTalk you of young Master Launcelet? [_Aside._] Mark me now, now will I\\r\\nraise the waters. Talk you of young Master Launcelet?\\r\\n\\r\\nGOBBO.\\r\\nNo master, sir, but a poor man’s son, his father, though I say’t, is an\\r\\nhonest exceeding poor man, and, God be thanked, well to live.\\r\\n\\r\\nLAUNCELET.\\r\\nWell, let his father be what he will, we talk of young Master\\r\\nLauncelet.\\r\\n\\r\\nGOBBO.\\r\\nYour worship’s friend, and Launcelet, sir.\\r\\n\\r\\nLAUNCELET.\\r\\nBut I pray you, _ergo_, old man, _ergo_, I beseech you, talk you of\\r\\nyoung Master Launcelet?\\r\\n\\r\\nGOBBO.\\r\\nOf Launcelet, an’t please your mastership.\\r\\n\\r\\nLAUNCELET.\\r\\n_Ergo_, Master Launcelet. Talk not of Master Launcelet, father, for the\\r\\nyoung gentleman, according to Fates and Destinies, and such odd\\r\\nsayings, the Sisters Three and such branches of learning, is indeed\\r\\ndeceased, or, as you would say in plain terms, gone to heaven.\\r\\n\\r\\nGOBBO.\\r\\nMarry, God forbid! The boy was the very staff of my age, my very prop.\\r\\n\\r\\nLAUNCELET.\\r\\n[_Aside._] Do I look like a cudgel or a hovel-post, a staff or a prop?\\r\\nDo you know me, father?\\r\\n\\r\\nGOBBO.\\r\\nAlack the day! I know you not, young gentleman, but I pray you tell me,\\r\\nis my boy, God rest his soul, alive or dead?\\r\\n\\r\\nLAUNCELET.\\r\\nDo you not know me, father?\\r\\n\\r\\nGOBBO.\\r\\nAlack, sir, I am sand-blind, I know you not.\\r\\n\\r\\nLAUNCELET.\\r\\nNay, indeed, if you had your eyes, you might fail of the knowing me: it\\r\\nis a wise father that knows his own child. Well, old man, I will tell\\r\\nyou news of your son. Give me your blessing, truth will come to light,\\r\\nmurder cannot be hid long, a man’s son may, but in the end truth will\\r\\nout.\\r\\n\\r\\nGOBBO.\\r\\nPray you, sir, stand up, I am sure you are not Launcelet my boy.\\r\\n\\r\\nLAUNCELET.\\r\\nPray you, let’s have no more fooling about it, but give me your\\r\\nblessing. I am Launcelet, your boy that was, your son that is, your\\r\\nchild that shall be.\\r\\n\\r\\nGOBBO.\\r\\nI cannot think you are my son.\\r\\n\\r\\nLAUNCELET.\\r\\nI know not what I shall think of that; but I am Launcelet, the Jew’s\\r\\nman, and I am sure Margery your wife is my mother.\\r\\n\\r\\nGOBBO.\\r\\nHer name is Margery, indeed. I’ll be sworn if thou be Launcelet, thou\\r\\nart mine own flesh and blood. Lord worshipped might he be, what a beard\\r\\nhast thou got! Thou hast got more hair on thy chin than Dobbin my\\r\\nfill-horse has on his tail.\\r\\n\\r\\nLAUNCELET.\\r\\nIt should seem, then, that Dobbin’s tail grows backward. I am sure he\\r\\nhad more hair on his tail than I have on my face when I last saw him.\\r\\n\\r\\nGOBBO.\\r\\nLord, how art thou changed! How dost thou and thy master agree? I have\\r\\nbrought him a present. How ’gree you now?\\r\\n\\r\\nLAUNCELET.\\r\\nWell, well. But for mine own part, as I have set up my rest to run\\r\\naway, so I will not rest till I have run some ground. My master’s a\\r\\nvery Jew. Give him a present! Give him a halter. I am famished in his\\r\\nservice. You may tell every finger I have with my ribs. Father, I am\\r\\nglad you are come, give me your present to one Master Bassanio, who\\r\\nindeed gives rare new liveries. If I serve not him, I will run as far\\r\\nas God has any ground. O rare fortune, here comes the man! To him,\\r\\nfather; for I am a Jew, if I serve the Jew any longer.\\r\\n\\r\\n Enter Bassanio with Leonardo and a follower or two.\\r\\n\\r\\nBASSANIO.\\r\\nYou may do so, but let it be so hasted that supper be ready at the\\r\\nfarthest by five of the clock. See these letters delivered, put the\\r\\nliveries to making, and desire Gratiano to come anon to my lodging.\\r\\n\\r\\n [_Exit a Servant._]\\r\\n\\r\\nLAUNCELET.\\r\\nTo him, father.\\r\\n\\r\\nGOBBO.\\r\\nGod bless your worship!\\r\\n\\r\\nBASSANIO.\\r\\nGramercy, wouldst thou aught with me?\\r\\n\\r\\nGOBBO.\\r\\nHere’s my son, sir, a poor boy.\\r\\n\\r\\nLAUNCELET.\\r\\nNot a poor boy, sir, but the rich Jew’s man, that would, sir, as my\\r\\nfather shall specify.\\r\\n\\r\\nGOBBO.\\r\\nHe hath a great infection, sir, as one would say, to serve.\\r\\n\\r\\nLAUNCELET.\\r\\nIndeed the short and the long is, I serve the Jew, and have a desire,\\r\\nas my father shall specify.\\r\\n\\r\\nGOBBO.\\r\\nHis master and he (saving your worship’s reverence) are scarce\\r\\ncater-cousins.\\r\\n\\r\\nLAUNCELET.\\r\\nTo be brief, the very truth is that the Jew, having done me wrong, doth\\r\\ncause me, as my father, being I hope an old man, shall frutify unto\\r\\nyou.\\r\\n\\r\\nGOBBO.\\r\\nI have here a dish of doves that I would bestow upon your worship, and\\r\\nmy suit is—\\r\\n\\r\\nLAUNCELET.\\r\\nIn very brief, the suit is impertinent to myself, as your worship shall\\r\\nknow by this honest old man, and though I say it, though old man, yet\\r\\npoor man, my father.\\r\\n\\r\\nBASSANIO.\\r\\nOne speak for both. What would you?\\r\\n\\r\\nLAUNCELET.\\r\\nServe you, sir.\\r\\n\\r\\nGOBBO.\\r\\nThat is the very defect of the matter, sir.\\r\\n\\r\\nBASSANIO.\\r\\nI know thee well; thou hast obtain’d thy suit.\\r\\nShylock thy master spoke with me this day,\\r\\nAnd hath preferr’d thee, if it be preferment\\r\\nTo leave a rich Jew’s service to become\\r\\nThe follower of so poor a gentleman.\\r\\n\\r\\nLAUNCELET.\\r\\nThe old proverb is very well parted between my master Shylock and you,\\r\\nsir: you have “the grace of God”, sir, and he hath “enough”.\\r\\n\\r\\nBASSANIO.\\r\\nThou speak’st it well. Go, father, with thy son.\\r\\nTake leave of thy old master, and inquire\\r\\nMy lodging out. [_To a Servant._] Give him a livery\\r\\nMore guarded than his fellows’; see it done.\\r\\n\\r\\nLAUNCELET.\\r\\nFather, in. I cannot get a service, no! I have ne’er a tongue in my\\r\\nhead! [_Looking on his palm._] Well, if any man in Italy have a fairer\\r\\ntable which doth offer to swear upon a book, I shall have good fortune;\\r\\ngo to, here’s a simple line of life. Here’s a small trifle of wives,\\r\\nalas, fifteen wives is nothing; eleven widows and nine maids is a\\r\\nsimple coming-in for one man. And then to scape drowning thrice, and to\\r\\nbe in peril of my life with the edge of a feather-bed; here are simple\\r\\n’scapes. Well, if Fortune be a woman, she’s a good wench for this gear.\\r\\nFather, come; I’ll take my leave of the Jew in the twinkling.\\r\\n\\r\\n [_Exeunt Launcelet and Old Gobbo._]\\r\\n\\r\\nBASSANIO.\\r\\nI pray thee, good Leonardo, think on this.\\r\\nThese things being bought and orderly bestow’d,\\r\\nReturn in haste, for I do feast tonight\\r\\nMy best esteem’d acquaintance; hie thee, go.\\r\\n\\r\\nLEONARDO.\\r\\nMy best endeavours shall be done herein.\\r\\n\\r\\n Enter Gratiano.\\r\\n\\r\\nGRATIANO.\\r\\nWhere’s your master?\\r\\n\\r\\nLEONARDO.\\r\\nYonder, sir, he walks.\\r\\n\\r\\n [_Exit._]\\r\\n\\r\\nGRATIANO.\\r\\nSignior Bassanio!\\r\\n\\r\\nBASSANIO.\\r\\nGratiano!\\r\\n\\r\\nGRATIANO.\\r\\nI have suit to you.\\r\\n\\r\\nBASSANIO.\\r\\nYou have obtain’d it.\\r\\n\\r\\nGRATIANO.\\r\\nYou must not deny me, I must go with you to Belmont.\\r\\n\\r\\nBASSANIO.\\r\\nWhy, then you must. But hear thee, Gratiano,\\r\\nThou art too wild, too rude, and bold of voice,\\r\\nParts that become thee happily enough,\\r\\nAnd in such eyes as ours appear not faults;\\r\\nBut where thou art not known, why there they show\\r\\nSomething too liberal. Pray thee, take pain\\r\\nTo allay with some cold drops of modesty\\r\\nThy skipping spirit, lest through thy wild behaviour\\r\\nI be misconst’red in the place I go to,\\r\\nAnd lose my hopes.\\r\\n\\r\\nGRATIANO.\\r\\nSignior Bassanio, hear me.\\r\\nIf I do not put on a sober habit,\\r\\nTalk with respect, and swear but now and then,\\r\\nWear prayer-books in my pocket, look demurely,\\r\\nNay more, while grace is saying, hood mine eyes\\r\\nThus with my hat, and sigh, and say “amen”;\\r\\nUse all the observance of civility\\r\\nLike one well studied in a sad ostent\\r\\nTo please his grandam, never trust me more.\\r\\n\\r\\nBASSANIO.\\r\\nWell, we shall see your bearing.\\r\\n\\r\\nGRATIANO.\\r\\nNay, but I bar tonight, you shall not gauge me\\r\\nBy what we do tonight.\\r\\n\\r\\nBASSANIO.\\r\\nNo, that were pity.\\r\\nI would entreat you rather to put on\\r\\nYour boldest suit of mirth, for we have friends\\r\\nThat purpose merriment. But fare you well,\\r\\nI have some business.\\r\\n\\r\\nGRATIANO.\\r\\nAnd I must to Lorenzo and the rest,\\r\\nBut we will visit you at supper-time.\\r\\n\\r\\n [_Exeunt._]\\r\\n\\r\\nSCENE III. The same. A room in Shylock’s house.\\r\\n\\r\\n Enter Jessica and Launcelet.\\r\\n\\r\\nJESSICA.\\r\\nI am sorry thou wilt leave my father so.\\r\\nOur house is hell, and thou, a merry devil,\\r\\nDidst rob it of some taste of tediousness.\\r\\nBut fare thee well, there is a ducat for thee,\\r\\nAnd, Launcelet, soon at supper shalt thou see\\r\\nLorenzo, who is thy new master’s guest.\\r\\nGive him this letter, do it secretly.\\r\\nAnd so farewell. I would not have my father\\r\\nSee me in talk with thee.\\r\\n\\r\\nLAUNCELET.\\r\\nAdieu! tears exhibit my tongue, most beautiful pagan, most sweet Jew!\\r\\nIf a Christian do not play the knave and get thee, I am much deceived.\\r\\nBut, adieu! These foolish drops do something drown my manly spirit.\\r\\nAdieu!\\r\\n\\r\\nJESSICA.\\r\\nFarewell, good Launcelet.\\r\\n\\r\\n [_Exit Launcelet._]\\r\\n\\r\\nAlack, what heinous sin is it in me\\r\\nTo be ashamed to be my father’s child!\\r\\nBut though I am a daughter to his blood,\\r\\nI am not to his manners. O Lorenzo,\\r\\nIf thou keep promise, I shall end this strife,\\r\\nBecome a Christian and thy loving wife.\\r\\n\\r\\n [_Exit._]\\r\\n\\r\\nSCENE IV. The same. A street.\\r\\n\\r\\n Enter Gratiano, Lorenzo, Salarino and Solanio.\\r\\n\\r\\nLORENZO.\\r\\nNay, we will slink away in supper-time,\\r\\nDisguise us at my lodging, and return\\r\\nAll in an hour.\\r\\n\\r\\nGRATIANO.\\r\\nWe have not made good preparation.\\r\\n\\r\\nSALARINO.\\r\\nWe have not spoke us yet of torch-bearers.\\r\\n\\r\\nSOLANIO.\\r\\n’Tis vile, unless it may be quaintly order’d,\\r\\nAnd better in my mind not undertook.\\r\\n\\r\\nLORENZO.\\r\\n’Tis now but four o’clock, we have two hours\\r\\nTo furnish us.\\r\\n\\r\\n Enter Launcelet with a letter.\\r\\n\\r\\nFriend Launcelet, what’s the news?\\r\\n\\r\\nLAUNCELET.\\r\\nAnd it shall please you to break up this, it shall seem to signify.\\r\\n\\r\\nLORENZO.\\r\\nI know the hand, in faith ’tis a fair hand,\\r\\nAnd whiter than the paper it writ on\\r\\nIs the fair hand that writ.\\r\\n\\r\\nGRATIANO.\\r\\nLove news, in faith.\\r\\n\\r\\nLAUNCELET.\\r\\nBy your leave, sir.\\r\\n\\r\\nLORENZO.\\r\\nWhither goest thou?\\r\\n\\r\\nLAUNCELET.\\r\\nMarry, sir, to bid my old master the Jew to sup tonight with my new\\r\\nmaster the Christian.\\r\\n\\r\\nLORENZO.\\r\\nHold here, take this. Tell gentle Jessica\\r\\nI will not fail her, speak it privately.\\r\\nGo, gentlemen,\\r\\n\\r\\n [_Exit Launcelet._]\\r\\n\\r\\nWill you prepare you for this masque tonight?\\r\\nI am provided of a torch-bearer.\\r\\n\\r\\nSALARINO.\\r\\nAy, marry, I’ll be gone about it straight.\\r\\n\\r\\nSOLANIO.\\r\\nAnd so will I.\\r\\n\\r\\nLORENZO.\\r\\nMeet me and Gratiano\\r\\nAt Gratiano’s lodging some hour hence.\\r\\n\\r\\nSALARINO.\\r\\n’Tis good we do so.\\r\\n\\r\\n [_Exeunt Salarino and Solanio._]\\r\\n\\r\\nGRATIANO.\\r\\nWas not that letter from fair Jessica?\\r\\n\\r\\nLORENZO.\\r\\nI must needs tell thee all. She hath directed\\r\\nHow I shall take her from her father’s house,\\r\\nWhat gold and jewels she is furnish’d with,\\r\\nWhat page’s suit she hath in readiness.\\r\\nIf e’er the Jew her father come to heaven,\\r\\nIt will be for his gentle daughter’s sake;\\r\\nAnd never dare misfortune cross her foot,\\r\\nUnless she do it under this excuse,\\r\\nThat she is issue to a faithless Jew.\\r\\nCome, go with me, peruse this as thou goest;\\r\\nFair Jessica shall be my torch-bearer.\\r\\n\\r\\n [_Exeunt._]\\r\\n\\r\\nSCENE V. The same. Before Shylock’s house.\\r\\n\\r\\n Enter Shylock the Jew and Launcelet his man that was the clown.\\r\\n\\r\\nSHYLOCK.\\r\\nWell, thou shalt see, thy eyes shall be thy judge,\\r\\nThe difference of old Shylock and Bassanio.—\\r\\nWhat, Jessica!—Thou shalt not gormandize\\r\\nAs thou hast done with me;—What, Jessica!—\\r\\nAnd sleep, and snore, and rend apparel out.\\r\\nWhy, Jessica, I say!\\r\\n\\r\\nLAUNCELET.\\r\\nWhy, Jessica!\\r\\n\\r\\nSHYLOCK.\\r\\nWho bids thee call? I do not bid thee call.\\r\\n\\r\\nLAUNCELET.\\r\\nYour worship was wont to tell me I could do nothing without bidding.\\r\\n\\r\\n Enter Jessica.\\r\\n\\r\\nJESSICA.\\r\\nCall you? What is your will?\\r\\n\\r\\nSHYLOCK.\\r\\nI am bid forth to supper, Jessica.\\r\\nThere are my keys. But wherefore should I go?\\r\\nI am not bid for love, they flatter me.\\r\\nBut yet I’ll go in hate, to feed upon\\r\\nThe prodigal Christian. Jessica, my girl,\\r\\nLook to my house. I am right loath to go;\\r\\nThere is some ill a-brewing towards my rest,\\r\\nFor I did dream of money-bags tonight.\\r\\n\\r\\nLAUNCELET.\\r\\nI beseech you, sir, go. My young master doth expect your reproach.\\r\\n\\r\\nSHYLOCK.\\r\\nSo do I his.\\r\\n\\r\\nLAUNCELET.\\r\\nAnd they have conspired together. I will not say you shall see a\\r\\nmasque, but if you do, then it was not for nothing that my nose fell\\r\\na-bleeding on Black Monday last at six o’clock i’ th’ morning, falling\\r\\nout that year on Ash-Wednesday was four year in th’ afternoon.\\r\\n\\r\\nSHYLOCK.\\r\\nWhat, are there masques? Hear you me, Jessica,\\r\\nLock up my doors, and when you hear the drum\\r\\nAnd the vile squealing of the wry-neck’d fife,\\r\\nClamber not you up to the casements then,\\r\\nNor thrust your head into the public street\\r\\nTo gaze on Christian fools with varnish’d faces,\\r\\nBut stop my house’s ears, I mean my casements.\\r\\nLet not the sound of shallow fopp’ry enter\\r\\nMy sober house. By Jacob’s staff I swear\\r\\nI have no mind of feasting forth tonight.\\r\\nBut I will go. Go you before me, sirrah.\\r\\nSay I will come.\\r\\n\\r\\nLAUNCELET.\\r\\nI will go before, sir.\\r\\nMistress, look out at window for all this.\\r\\n    There will come a Christian by\\r\\n    Will be worth a Jewess’ eye.\\r\\n\\r\\n [_Exit Launcelet._]\\r\\n\\r\\nSHYLOCK.\\r\\nWhat says that fool of Hagar’s offspring, ha?\\r\\n\\r\\nJESSICA.\\r\\nHis words were “Farewell, mistress,” nothing else.\\r\\n\\r\\nSHYLOCK.\\r\\nThe patch is kind enough, but a huge feeder,\\r\\nSnail-slow in profit, and he sleeps by day\\r\\nMore than the wild-cat. Drones hive not with me,\\r\\nTherefore I part with him, and part with him\\r\\nTo one that I would have him help to waste\\r\\nHis borrowed purse. Well, Jessica, go in.\\r\\nPerhaps I will return immediately:\\r\\nDo as I bid you, shut doors after you,\\r\\n“Fast bind, fast find.”\\r\\nA proverb never stale in thrifty mind.\\r\\n\\r\\n [_Exit._]\\r\\n\\r\\nJESSICA.\\r\\nFarewell, and if my fortune be not crost,\\r\\nI have a father, you a daughter, lost.\\r\\n\\r\\n [_Exit._]\\r\\n\\r\\nSCENE VI. The same.\\r\\n\\r\\n Enter the masquers, Gratiano and Salarino.\\r\\n\\r\\nGRATIANO.\\r\\nThis is the penthouse under which Lorenzo\\r\\nDesired us to make stand.\\r\\n\\r\\nSALARINO.\\r\\nHis hour is almost past.\\r\\n\\r\\nGRATIANO.\\r\\nAnd it is marvel he out-dwells his hour,\\r\\nFor lovers ever run before the clock.\\r\\n\\r\\nSALARINO.\\r\\nO ten times faster Venus’ pigeons fly\\r\\nTo seal love’s bonds new-made than they are wont\\r\\nTo keep obliged faith unforfeited!\\r\\n\\r\\nGRATIANO.\\r\\nThat ever holds: who riseth from a feast\\r\\nWith that keen appetite that he sits down?\\r\\nWhere is the horse that doth untread again\\r\\nHis tedious measures with the unbated fire\\r\\nThat he did pace them first? All things that are,\\r\\nAre with more spirit chased than enjoy’d.\\r\\nHow like a younger or a prodigal\\r\\nThe scarfed bark puts from her native bay,\\r\\nHugg’d and embraced by the strumpet wind!\\r\\nHow like the prodigal doth she return\\r\\nWith over-weather’d ribs and ragged sails,\\r\\nLean, rent, and beggar’d by the strumpet wind!\\r\\n\\r\\n Enter Lorenzo.\\r\\n\\r\\nSALARINO.\\r\\nHere comes Lorenzo, more of this hereafter.\\r\\n\\r\\nLORENZO.\\r\\nSweet friends, your patience for my long abode.\\r\\nNot I but my affairs have made you wait.\\r\\nWhen you shall please to play the thieves for wives,\\r\\nI’ll watch as long for you then. Approach.\\r\\nHere dwells my father Jew. Ho! who’s within?\\r\\n\\r\\n Enter Jessica above, in boy’s clothes.\\r\\n\\r\\nJESSICA.\\r\\nWho are you? Tell me, for more certainty,\\r\\nAlbeit I’ll swear that I do know your tongue.\\r\\n\\r\\nLORENZO.\\r\\nLorenzo, and thy love.\\r\\n\\r\\nJESSICA.\\r\\nLorenzo certain, and my love indeed,\\r\\nFor who love I so much? And now who knows\\r\\nBut you, Lorenzo, whether I am yours?\\r\\n\\r\\nLORENZO.\\r\\nHeaven and thy thoughts are witness that thou art.\\r\\n\\r\\nJESSICA.\\r\\nHere, catch this casket; it is worth the pains.\\r\\nI am glad ’tis night, you do not look on me,\\r\\nFor I am much asham’d of my exchange.\\r\\nBut love is blind, and lovers cannot see\\r\\nThe pretty follies that themselves commit,\\r\\nFor if they could, Cupid himself would blush\\r\\nTo see me thus transformed to a boy.\\r\\n\\r\\nLORENZO.\\r\\nDescend, for you must be my torch-bearer.\\r\\n\\r\\nJESSICA.\\r\\nWhat! must I hold a candle to my shames?\\r\\nThey in themselves, good sooth, are too too light.\\r\\nWhy, ’tis an office of discovery, love,\\r\\nAnd I should be obscur’d.\\r\\n\\r\\nLORENZO.\\r\\nSo are you, sweet,\\r\\nEven in the lovely garnish of a boy.\\r\\nBut come at once,\\r\\nFor the close night doth play the runaway,\\r\\nAnd we are stay’d for at Bassanio’s feast.\\r\\n\\r\\nJESSICA.\\r\\nI will make fast the doors, and gild myself\\r\\nWith some moe ducats, and be with you straight.\\r\\n\\r\\n [_Exit above._]\\r\\n\\r\\nGRATIANO.\\r\\nNow, by my hood, a gentle, and no Jew.\\r\\n\\r\\nLORENZO.\\r\\nBeshrew me but I love her heartily,\\r\\nFor she is wise, if I can judge of her,\\r\\nAnd fair she is, if that mine eyes be true,\\r\\nAnd true she is, as she hath prov’d herself.\\r\\nAnd therefore, like herself, wise, fair, and true,\\r\\nShall she be placed in my constant soul.\\r\\n\\r\\n Enter Jessica.\\r\\n\\r\\nWhat, art thou come? On, gentlemen, away!\\r\\nOur masquing mates by this time for us stay.\\r\\n\\r\\n [_Exit with Jessica and Salarino._]\\r\\n\\r\\n Enter Antonio.\\r\\n\\r\\nANTONIO.\\r\\nWho’s there?\\r\\n\\r\\nGRATIANO.\\r\\nSignior Antonio!\\r\\n\\r\\nANTONIO.\\r\\nFie, fie, Gratiano! where are all the rest?\\r\\n’Tis nine o’clock, our friends all stay for you.\\r\\nNo masque tonight, the wind is come about;\\r\\nBassanio presently will go aboard.\\r\\nI have sent twenty out to seek for you.\\r\\n\\r\\nGRATIANO.\\r\\nI am glad on’t. I desire no more delight\\r\\nThan to be under sail and gone tonight.\\r\\n\\r\\n [_Exeunt._]\\r\\n\\r\\nSCENE VII. Belmont. A room in Portia’s house.\\r\\n\\r\\n Flourish of cornets. Enter Portia with the Prince of Morocco and both\\r\\n their trains.\\r\\n\\r\\nPORTIA.\\r\\nGo, draw aside the curtains and discover\\r\\nThe several caskets to this noble prince.\\r\\nNow make your choice.\\r\\n\\r\\nPRINCE OF MOROCCO.\\r\\nThe first, of gold, who this inscription bears,\\r\\n“Who chooseth me shall gain what many men desire.”\\r\\nThe second, silver, which this promise carries,\\r\\n“Who chooseth me shall get as much as he deserves.”\\r\\nThis third, dull lead, with warning all as blunt,\\r\\n“Who chooseth me must give and hazard all he hath.”\\r\\nHow shall I know if I do choose the right?\\r\\n\\r\\nPORTIA.\\r\\nThe one of them contains my picture, prince.\\r\\nIf you choose that, then I am yours withal.\\r\\n\\r\\nPRINCE OF MOROCCO.\\r\\nSome god direct my judgment! Let me see.\\r\\nI will survey the inscriptions back again.\\r\\nWhat says this leaden casket?\\r\\n“Who chooseth me must give and hazard all he hath.”\\r\\nMust give, for what? For lead? Hazard for lead!\\r\\nThis casket threatens; men that hazard all\\r\\nDo it in hope of fair advantages:\\r\\nA golden mind stoops not to shows of dross,\\r\\nI’ll then nor give nor hazard aught for lead.\\r\\nWhat says the silver with her virgin hue?\\r\\n“Who chooseth me shall get as much as he deserves.”\\r\\nAs much as he deserves! Pause there, Morocco,\\r\\nAnd weigh thy value with an even hand.\\r\\nIf thou be’st rated by thy estimation\\r\\nThou dost deserve enough, and yet enough\\r\\nMay not extend so far as to the lady.\\r\\nAnd yet to be afeard of my deserving\\r\\nWere but a weak disabling of myself.\\r\\nAs much as I deserve! Why, that’s the lady:\\r\\nI do in birth deserve her, and in fortunes,\\r\\nIn graces, and in qualities of breeding;\\r\\nBut more than these, in love I do deserve.\\r\\nWhat if I stray’d no farther, but chose here?\\r\\nLet’s see once more this saying grav’d in gold:\\r\\n“Who chooseth me shall gain what many men desire.”\\r\\nWhy, that’s the lady, all the world desires her.\\r\\nFrom the four corners of the earth they come\\r\\nTo kiss this shrine, this mortal breathing saint.\\r\\nThe Hyrcanian deserts and the vasty wilds\\r\\nOf wide Arabia are as throughfares now\\r\\nFor princes to come view fair Portia.\\r\\nThe watery kingdom, whose ambitious head\\r\\nSpets in the face of heaven, is no bar\\r\\nTo stop the foreign spirits, but they come\\r\\nAs o’er a brook to see fair Portia.\\r\\nOne of these three contains her heavenly picture.\\r\\nIs’t like that lead contains her? ’Twere damnation\\r\\nTo think so base a thought. It were too gross\\r\\nTo rib her cerecloth in the obscure grave.\\r\\nOr shall I think in silver she’s immur’d\\r\\nBeing ten times undervalued to tried gold?\\r\\nO sinful thought! Never so rich a gem\\r\\nWas set in worse than gold. They have in England\\r\\nA coin that bears the figure of an angel\\r\\nStamped in gold; but that’s insculp’d upon;\\r\\nBut here an angel in a golden bed\\r\\nLies all within. Deliver me the key.\\r\\nHere do I choose, and thrive I as I may.\\r\\n\\r\\nPORTIA.\\r\\nThere, take it, prince, and if my form lie there,\\r\\nThen I am yours.\\r\\n\\r\\n [_He unlocks the golden casket._]\\r\\n\\r\\nPRINCE OF MOROCCO.\\r\\nO hell! what have we here?\\r\\nA carrion Death, within whose empty eye\\r\\nThere is a written scroll. I’ll read the writing.\\r\\n\\r\\n     _All that glisters is not gold,\\r\\n     Often have you heard that told.\\r\\n     Many a man his life hath sold\\r\\n     But my outside to behold.\\r\\n     Gilded tombs do worms infold.\\r\\n     Had you been as wise as bold,\\r\\n     Young in limbs, in judgment old,\\r\\n     Your answer had not been inscroll’d,\\r\\n     Fare you well, your suit is cold._\\r\\n\\r\\n   Cold indeed and labour lost,\\r\\n   Then farewell heat, and welcome frost.\\r\\nPortia, adieu! I have too griev’d a heart\\r\\nTo take a tedious leave. Thus losers part.\\r\\n\\r\\n [_Exit with his train. Flourish of cornets._]\\r\\n\\r\\nPORTIA.\\r\\nA gentle riddance. Draw the curtains, go.\\r\\nLet all of his complexion choose me so.\\r\\n\\r\\n [_Exeunt._]\\r\\n\\r\\nSCENE VIII. Venice. A street.\\r\\n\\r\\n Enter Salarino and Solanio.\\r\\n\\r\\nSALARINO.\\r\\nWhy, man, I saw Bassanio under sail;\\r\\nWith him is Gratiano gone along;\\r\\nAnd in their ship I am sure Lorenzo is not.\\r\\n\\r\\nSOLANIO.\\r\\nThe villain Jew with outcries rais’d the Duke,\\r\\nWho went with him to search Bassanio’s ship.\\r\\n\\r\\nSALARINO.\\r\\nHe came too late, the ship was under sail;\\r\\nBut there the Duke was given to understand\\r\\nThat in a gondola were seen together\\r\\nLorenzo and his amorous Jessica.\\r\\nBesides, Antonio certified the Duke\\r\\nThey were not with Bassanio in his ship.\\r\\n\\r\\nSOLANIO.\\r\\nI never heard a passion so confus’d,\\r\\nSo strange, outrageous, and so variable\\r\\nAs the dog Jew did utter in the streets.\\r\\n“My daughter! O my ducats! O my daughter!\\r\\nFled with a Christian! O my Christian ducats!\\r\\nJustice! the law! my ducats and my daughter!\\r\\nA sealed bag, two sealed bags of ducats,\\r\\nOf double ducats, stol’n from me by my daughter!\\r\\nAnd jewels, two stones, two rich and precious stones,\\r\\nStol’n by my daughter! Justice! find the girl,\\r\\nShe hath the stones upon her and the ducats.”\\r\\n\\r\\nSALARINO.\\r\\nWhy, all the boys in Venice follow him,\\r\\nCrying, his stones, his daughter, and his ducats.\\r\\n\\r\\nSOLANIO.\\r\\nLet good Antonio look he keep his day\\r\\nOr he shall pay for this.\\r\\n\\r\\nSALARINO.\\r\\nMarry, well rememb’red.\\r\\nI reason’d with a Frenchman yesterday,\\r\\nWho told me, in the narrow seas that part\\r\\nThe French and English, there miscarried\\r\\nA vessel of our country richly fraught.\\r\\nI thought upon Antonio when he told me,\\r\\nAnd wish’d in silence that it were not his.\\r\\n\\r\\nSOLANIO.\\r\\nYou were best to tell Antonio what you hear,\\r\\nYet do not suddenly, for it may grieve him.\\r\\n\\r\\nSALARINO.\\r\\nA kinder gentleman treads not the earth.\\r\\nI saw Bassanio and Antonio part,\\r\\nBassanio told him he would make some speed\\r\\nOf his return. He answered “Do not so,\\r\\nSlubber not business for my sake, Bassanio,\\r\\nBut stay the very riping of the time,\\r\\nAnd for the Jew’s bond which he hath of me,\\r\\nLet it not enter in your mind of love:\\r\\nBe merry, and employ your chiefest thoughts\\r\\nTo courtship, and such fair ostents of love\\r\\nAs shall conveniently become you there.”\\r\\nAnd even there, his eye being big with tears,\\r\\nTurning his face, he put his hand behind him,\\r\\nAnd with affection wondrous sensible\\r\\nHe wrung Bassanio’s hand, and so they parted.\\r\\n\\r\\nSOLANIO.\\r\\nI think he only loves the world for him.\\r\\nI pray thee, let us go and find him out\\r\\nAnd quicken his embraced heaviness\\r\\nWith some delight or other.\\r\\n\\r\\nSALARINO.\\r\\nDo we so.\\r\\n\\r\\n [_Exeunt._]\\r\\n\\r\\nSCENE IX. Belmont. A room in Portia’s house.\\r\\n\\r\\n Enter Nerissa and a Servitor.\\r\\n\\r\\nNERISSA.\\r\\nQuick, quick, I pray thee, draw the curtain straight.\\r\\nThe Prince of Arragon hath ta’en his oath,\\r\\nAnd comes to his election presently.\\r\\n\\r\\n Flourish of cornets. Enter the Prince of Arragon, his train, and\\r\\n Portia.\\r\\n\\r\\nPORTIA.\\r\\nBehold, there stand the caskets, noble Prince,\\r\\nIf you choose that wherein I am contain’d,\\r\\nStraight shall our nuptial rites be solemniz’d.\\r\\nBut if you fail, without more speech, my lord,\\r\\nYou must be gone from hence immediately.\\r\\n\\r\\nARRAGON.\\r\\nI am enjoin’d by oath to observe three things:\\r\\nFirst, never to unfold to anyone\\r\\nWhich casket ’twas I chose; next, if I fail\\r\\nOf the right casket, never in my life\\r\\nTo woo a maid in way of marriage;\\r\\nLastly,\\r\\nIf I do fail in fortune of my choice,\\r\\nImmediately to leave you and be gone.\\r\\n\\r\\nPORTIA.\\r\\nTo these injunctions everyone doth swear\\r\\nThat comes to hazard for my worthless self.\\r\\n\\r\\nARRAGON.\\r\\nAnd so have I address’d me. Fortune now\\r\\nTo my heart’s hope! Gold, silver, and base lead.\\r\\n“Who chooseth me must give and hazard all he hath.”\\r\\nYou shall look fairer ere I give or hazard.\\r\\nWhat says the golden chest? Ha! let me see:\\r\\n“Who chooseth me shall gain what many men desire.”\\r\\nWhat many men desire! that “many” may be meant\\r\\nBy the fool multitude, that choose by show,\\r\\nNot learning more than the fond eye doth teach,\\r\\nWhich pries not to th’ interior, but like the martlet\\r\\nBuilds in the weather on the outward wall,\\r\\nEven in the force and road of casualty.\\r\\nI will not choose what many men desire,\\r\\nBecause I will not jump with common spirits\\r\\nAnd rank me with the barbarous multitudes.\\r\\nWhy, then to thee, thou silver treasure-house,\\r\\nTell me once more what title thou dost bear.\\r\\n“Who chooseth me shall get as much as he deserves.”\\r\\nAnd well said too; for who shall go about\\r\\nTo cozen fortune, and be honourable\\r\\nWithout the stamp of merit? Let none presume\\r\\nTo wear an undeserved dignity.\\r\\nO that estates, degrees, and offices\\r\\nWere not deriv’d corruptly, and that clear honour\\r\\nWere purchas’d by the merit of the wearer!\\r\\nHow many then should cover that stand bare?\\r\\nHow many be commanded that command?\\r\\nHow much low peasantry would then be gleaned\\r\\nFrom the true seed of honour? And how much honour\\r\\nPick’d from the chaff and ruin of the times,\\r\\nTo be new varnish’d? Well, but to my choice.\\r\\n“Who chooseth me shall get as much as he deserves.”\\r\\nI will assume desert. Give me a key for this,\\r\\nAnd instantly unlock my fortunes here.\\r\\n\\r\\n [_He opens the silver casket._]\\r\\n\\r\\nPORTIA.\\r\\nToo long a pause for that which you find there.\\r\\n\\r\\nARRAGON.\\r\\nWhat’s here? The portrait of a blinking idiot\\r\\nPresenting me a schedule! I will read it.\\r\\nHow much unlike art thou to Portia!\\r\\nHow much unlike my hopes and my deservings!\\r\\n“Who chooseth me shall have as much as he deserves.”\\r\\nDid I deserve no more than a fool’s head?\\r\\nIs that my prize? Are my deserts no better?\\r\\n\\r\\nPORTIA.\\r\\nTo offend and judge are distinct offices,\\r\\nAnd of opposed natures.\\r\\n\\r\\nARRAGON.\\r\\nWhat is here?\\r\\n\\r\\n     _The fire seven times tried this;\\r\\n     Seven times tried that judgment is\\r\\n     That did never choose amiss.\\r\\n     Some there be that shadows kiss;\\r\\n     Such have but a shadow’s bliss.\\r\\n     There be fools alive, I wis,\\r\\n     Silver’d o’er, and so was this.\\r\\n     Take what wife you will to bed,\\r\\n     I will ever be your head:\\r\\n     So be gone; you are sped._\\r\\n\\r\\nStill more fool I shall appear\\r\\nBy the time I linger here.\\r\\nWith one fool’s head I came to woo,\\r\\nBut I go away with two.\\r\\nSweet, adieu! I’ll keep my oath,\\r\\nPatiently to bear my wroth.\\r\\n\\r\\n [_Exit Aragon with his train._]\\r\\n\\r\\nPORTIA.\\r\\nThus hath the candle sing’d the moth.\\r\\nO, these deliberate fools! When they do choose,\\r\\nThey have the wisdom by their wit to lose.\\r\\n\\r\\nNERISSA.\\r\\nThe ancient saying is no heresy:\\r\\nHanging and wiving goes by destiny.\\r\\n\\r\\nPORTIA.\\r\\nCome, draw the curtain, Nerissa.\\r\\n\\r\\n Enter a Messenger.\\r\\n\\r\\nMESSENGER.\\r\\nWhere is my lady?\\r\\n\\r\\nPORTIA.\\r\\nHere, what would my lord?\\r\\n\\r\\nMESSENGER.\\r\\nMadam, there is alighted at your gate\\r\\nA young Venetian, one that comes before\\r\\nTo signify th’ approaching of his lord,\\r\\nFrom whom he bringeth sensible regreets;\\r\\nTo wit (besides commends and courteous breath)\\r\\nGifts of rich value; yet I have not seen\\r\\nSo likely an ambassador of love.\\r\\nA day in April never came so sweet,\\r\\nTo show how costly summer was at hand,\\r\\nAs this fore-spurrer comes before his lord.\\r\\n\\r\\nPORTIA.\\r\\nNo more, I pray thee. I am half afeard\\r\\nThou wilt say anon he is some kin to thee,\\r\\nThou spend’st such high-day wit in praising him.\\r\\nCome, come, Nerissa, for I long to see\\r\\nQuick Cupid’s post that comes so mannerly.\\r\\n\\r\\nNERISSA.\\r\\nBassanio, Lord Love, if thy will it be!\\r\\n\\r\\n [_Exeunt._]\\r\\n\\r\\n\\r\\nACT III\\r\\n\\r\\nSCENE I. Venice. A street.\\r\\n\\r\\n Enter Solanio and Salarino.\\r\\n\\r\\nSOLANIO.\\r\\nNow, what news on the Rialto?\\r\\n\\r\\nSALARINO.\\r\\nWhy, yet it lives there unchecked that Antonio hath a ship of rich\\r\\nlading wrack’d on the narrow seas; the Goodwins, I think they call the\\r\\nplace, a very dangerous flat and fatal, where the carcasses of many a\\r\\ntall ship lie buried, as they say, if my gossip Report be an honest\\r\\nwoman of her word.\\r\\n\\r\\nSOLANIO.\\r\\nI would she were as lying a gossip in that as ever knapped ginger or\\r\\nmade her neighbours believe she wept for the death of a third husband.\\r\\nBut it is true, without any slips of prolixity or crossing the plain\\r\\nhighway of talk, that the good Antonio, the honest Antonio,—O that I\\r\\nhad a title good enough to keep his name company!—\\r\\n\\r\\nSALARINO.\\r\\nCome, the full stop.\\r\\n\\r\\nSOLANIO.\\r\\nHa, what sayest thou? Why, the end is, he hath lost a ship.\\r\\n\\r\\nSALARINO.\\r\\nI would it might prove the end of his losses.\\r\\n\\r\\nSOLANIO.\\r\\nLet me say “amen” betimes, lest the devil cross my prayer, for here he\\r\\ncomes in the likeness of a Jew.\\r\\n\\r\\n Enter Shylock.\\r\\n\\r\\nHow now, Shylock, what news among the merchants?\\r\\n\\r\\nSHYLOCK.\\r\\nYou knew, none so well, none so well as you, of my daughter’s flight.\\r\\n\\r\\nSALARINO.\\r\\nThat’s certain, I, for my part, knew the tailor that made the wings she\\r\\nflew withal.\\r\\n\\r\\nSOLANIO.\\r\\nAnd Shylock, for his own part, knew the bird was fledged; and then it\\r\\nis the complexion of them all to leave the dam.\\r\\n\\r\\nSHYLOCK.\\r\\nShe is damn’d for it.\\r\\n\\r\\nSALARINO.\\r\\nThat’s certain, if the devil may be her judge.\\r\\n\\r\\nSHYLOCK.\\r\\nMy own flesh and blood to rebel!\\r\\n\\r\\nSOLANIO.\\r\\nOut upon it, old carrion! Rebels it at these years?\\r\\n\\r\\nSHYLOCK.\\r\\nI say my daughter is my flesh and my blood.\\r\\n\\r\\nSALARINO.\\r\\nThere is more difference between thy flesh and hers than between jet\\r\\nand ivory, more between your bloods than there is between red wine and\\r\\nRhenish. But tell us, do you hear whether Antonio have had any loss at\\r\\nsea or no?\\r\\n\\r\\nSHYLOCK.\\r\\nThere I have another bad match, a bankrupt, a prodigal, who dare scarce\\r\\nshow his head on the Rialto, a beggar that used to come so smug upon\\r\\nthe mart; let him look to his bond. He was wont to call me usurer; let\\r\\nhim look to his bond: he was wont to lend money for a Christian cur’sy;\\r\\nlet him look to his bond.\\r\\n\\r\\nSALARINO.\\r\\nWhy, I am sure if he forfeit, thou wilt not take his flesh! What’s that\\r\\ngood for?\\r\\n\\r\\nSHYLOCK.\\r\\nTo bait fish withal; if it will feed nothing else, it will feed my\\r\\nrevenge. He hath disgrac’d me and hind’red me half a million, laugh’d\\r\\nat my losses, mock’d at my gains, scorned my nation, thwarted my\\r\\nbargains, cooled my friends, heated mine enemies. And what’s his\\r\\nreason? I am a Jew. Hath not a Jew eyes? Hath not a Jew hands, organs,\\r\\ndimensions, senses, affections, passions? Fed with the same food, hurt\\r\\nwith the same weapons, subject to the same diseases, healed by the same\\r\\nmeans, warmed and cooled by the same winter and summer as a Christian\\r\\nis? If you prick us, do we not bleed? If you tickle us, do we not\\r\\nlaugh? If you poison us, do we not die? And if you wrong us, shall we\\r\\nnot revenge? If we are like you in the rest, we will resemble you in\\r\\nthat. If a Jew wrong a Christian, what is his humility? Revenge. If a\\r\\nChristian wrong a Jew, what should his sufferance be by Christian\\r\\nexample? Why, revenge! The villainy you teach me I will execute, and it\\r\\nshall go hard but I will better the instruction.\\r\\n\\r\\n Enter a man from Antonio.\\r\\n\\r\\nSERVANT.\\r\\nGentlemen, my master Antonio is at his house, and desires to speak with\\r\\nyou both.\\r\\n\\r\\nSALARINO.\\r\\nWe have been up and down to seek him.\\r\\n\\r\\n Enter Tubal.\\r\\n\\r\\nSOLANIO.\\r\\nHere comes another of the tribe; a third cannot be match’d, unless the\\r\\ndevil himself turn Jew.\\r\\n\\r\\n [_Exeunt Solanio, Salarino and the Servant._]\\r\\n\\r\\nSHYLOCK.\\r\\nHow now, Tubal, what news from Genoa? Hast thou found my daughter?\\r\\n\\r\\nTUBAL.\\r\\nI often came where I did hear of her, but cannot find her.\\r\\n\\r\\nSHYLOCK.\\r\\nWhy there, there, there, there! A diamond gone cost me two thousand\\r\\nducats in Frankfort! The curse never fell upon our nation till now, I\\r\\nnever felt it till now. Two thousand ducats in that, and other\\r\\nprecious, precious jewels. I would my daughter were dead at my foot,\\r\\nand the jewels in her ear; would she were hearsed at my foot, and the\\r\\nducats in her coffin. No news of them? Why so? And I know not what’s\\r\\nspent in the search. Why, thou—loss upon loss! The thief gone with so\\r\\nmuch, and so much to find the thief, and no satisfaction, no revenge,\\r\\nnor no ill luck stirring but what lights o’ my shoulders, no sighs but\\r\\no’ my breathing, no tears but o’ my shedding.\\r\\n\\r\\nTUBAL.\\r\\nYes, other men have ill luck too. Antonio, as I heard in Genoa—\\r\\n\\r\\nSHYLOCK.\\r\\nWhat, what, what? Ill luck, ill luck?\\r\\n\\r\\nTUBAL.\\r\\n—hath an argosy cast away coming from Tripolis.\\r\\n\\r\\nSHYLOCK.\\r\\nI thank God! I thank God! Is it true, is it true?\\r\\n\\r\\nTUBAL.\\r\\nI spoke with some of the sailors that escaped the wrack.\\r\\n\\r\\nSHYLOCK.\\r\\nI thank thee, good Tubal. Good news, good news! Ha, ha, heard in Genoa?\\r\\n\\r\\nTUBAL.\\r\\nYour daughter spent in Genoa, as I heard, one night, fourscore ducats.\\r\\n\\r\\nSHYLOCK.\\r\\nThou stick’st a dagger in me. I shall never see my gold again.\\r\\nFourscore ducats at a sitting! Fourscore ducats!\\r\\n\\r\\nTUBAL.\\r\\nThere came divers of Antonio’s creditors in my company to Venice that\\r\\nswear he cannot choose but break.\\r\\n\\r\\nSHYLOCK.\\r\\nI am very glad of it. I’ll plague him, I’ll torture him. I am glad of\\r\\nit.\\r\\n\\r\\nTUBAL.\\r\\nOne of them showed me a ring that he had of your daughter for a monkey.\\r\\n\\r\\nSHYLOCK.\\r\\nOut upon her! Thou torturest me, Tubal. It was my turquoise, I had it\\r\\nof Leah when I was a bachelor. I would not have given it for a\\r\\nwilderness of monkeys.\\r\\n\\r\\nTUBAL.\\r\\nBut Antonio is certainly undone.\\r\\n\\r\\nSHYLOCK.\\r\\nNay, that’s true, that’s very true. Go, Tubal, fee me an officer;\\r\\nbespeak him a fortnight before. I will have the heart of him if he\\r\\nforfeit, for were he out of Venice I can make what merchandise I will.\\r\\nGo, Tubal, and meet me at our synagogue. Go, good Tubal, at our\\r\\nsynagogue, Tubal.\\r\\n\\r\\n [_Exeunt._]\\r\\n\\r\\nSCENE II. Belmont. A room in Portia’s house.\\r\\n\\r\\n Enter Bassanio, Portia, Gratiano, Nerissa and all their trains.\\r\\n\\r\\nPORTIA.\\r\\nI pray you tarry, pause a day or two\\r\\nBefore you hazard, for in choosing wrong\\r\\nI lose your company; therefore forbear a while.\\r\\nThere’s something tells me (but it is not love)\\r\\nI would not lose you, and you know yourself\\r\\nHate counsels not in such a quality.\\r\\nBut lest you should not understand me well,—\\r\\nAnd yet a maiden hath no tongue but thought,—\\r\\nI would detain you here some month or two\\r\\nBefore you venture for me. I could teach you\\r\\nHow to choose right, but then I am forsworn.\\r\\nSo will I never be. So may you miss me.\\r\\nBut if you do, you’ll make me wish a sin,\\r\\nThat I had been forsworn. Beshrew your eyes,\\r\\nThey have o’erlook’d me and divided me.\\r\\nOne half of me is yours, the other half yours,\\r\\nMine own, I would say; but if mine, then yours,\\r\\nAnd so all yours. O these naughty times\\r\\nPuts bars between the owners and their rights!\\r\\nAnd so though yours, not yours. Prove it so,\\r\\nLet Fortune go to hell for it, not I.\\r\\nI speak too long, but ’tis to peise the time,\\r\\nTo eche it, and to draw it out in length,\\r\\nTo stay you from election.\\r\\n\\r\\nBASSANIO.\\r\\nLet me choose,\\r\\nFor as I am, I live upon the rack.\\r\\n\\r\\nPORTIA.\\r\\nUpon the rack, Bassanio! Then confess\\r\\nWhat treason there is mingled with your love.\\r\\n\\r\\nBASSANIO.\\r\\nNone but that ugly treason of mistrust,\\r\\nWhich makes me fear th’ enjoying of my love.\\r\\nThere may as well be amity and life\\r\\n’Tween snow and fire as treason and my love.\\r\\n\\r\\nPORTIA.\\r\\nAy, but I fear you speak upon the rack\\r\\nWhere men enforced do speak anything.\\r\\n\\r\\nBASSANIO.\\r\\nPromise me life, and I’ll confess the truth.\\r\\n\\r\\nPORTIA.\\r\\nWell then, confess and live.\\r\\n\\r\\nBASSANIO.\\r\\n“Confess and love”\\r\\nHad been the very sum of my confession:\\r\\nO happy torment, when my torturer\\r\\nDoth teach me answers for deliverance!\\r\\nBut let me to my fortune and the caskets.\\r\\n\\r\\nPORTIA.\\r\\nAway, then! I am lock’d in one of them.\\r\\nIf you do love me, you will find me out.\\r\\nNerissa and the rest, stand all aloof.\\r\\nLet music sound while he doth make his choice.\\r\\nThen if he lose he makes a swan-like end,\\r\\nFading in music. That the comparison\\r\\nMay stand more proper, my eye shall be the stream\\r\\nAnd wat’ry death-bed for him. He may win,\\r\\nAnd what is music then? Then music is\\r\\nEven as the flourish when true subjects bow\\r\\nTo a new-crowned monarch. Such it is\\r\\nAs are those dulcet sounds in break of day\\r\\nThat creep into the dreaming bridegroom’s ear\\r\\nAnd summon him to marriage. Now he goes,\\r\\nWith no less presence, but with much more love\\r\\nThan young Alcides when he did redeem\\r\\nThe virgin tribute paid by howling Troy\\r\\nTo the sea-monster: I stand for sacrifice;\\r\\nThe rest aloof are the Dardanian wives,\\r\\nWith bleared visages come forth to view\\r\\nThe issue of th’ exploit. Go, Hercules!\\r\\nLive thou, I live. With much much more dismay\\r\\nI view the fight than thou that mak’st the fray.\\r\\n\\r\\n A song, whilst Bassanio comments on the caskets to himself.\\r\\n\\r\\n     _Tell me where is fancy bred,\\r\\n     Or in the heart or in the head?\\r\\n     How begot, how nourished?\\r\\n        Reply, reply.\\r\\n     It is engend’red in the eyes,\\r\\n     With gazing fed, and fancy dies\\r\\n     In the cradle where it lies.\\r\\n        Let us all ring fancy’s knell:\\r\\n        I’ll begin it.—Ding, dong, bell._\\r\\n\\r\\nALL.\\r\\n     _Ding, dong, bell._\\r\\n\\r\\nBASSANIO.\\r\\nSo may the outward shows be least themselves.\\r\\nThe world is still deceiv’d with ornament.\\r\\nIn law, what plea so tainted and corrupt\\r\\nBut, being season’d with a gracious voice,\\r\\nObscures the show of evil? In religion,\\r\\nWhat damned error but some sober brow\\r\\nWill bless it, and approve it with a text,\\r\\nHiding the grossness with fair ornament?\\r\\nThere is no vice so simple but assumes\\r\\nSome mark of virtue on his outward parts.\\r\\nHow many cowards, whose hearts are all as false\\r\\nAs stairs of sand, wear yet upon their chins\\r\\nThe beards of Hercules and frowning Mars,\\r\\nWho inward search’d, have livers white as milk,\\r\\nAnd these assume but valour’s excrement\\r\\nTo render them redoubted. Look on beauty,\\r\\nAnd you shall see ’tis purchas’d by the weight,\\r\\nWhich therein works a miracle in nature,\\r\\nMaking them lightest that wear most of it:\\r\\nSo are those crisped snaky golden locks\\r\\nWhich make such wanton gambols with the wind\\r\\nUpon supposed fairness, often known\\r\\nTo be the dowry of a second head,\\r\\nThe skull that bred them in the sepulchre.\\r\\nThus ornament is but the guiled shore\\r\\nTo a most dangerous sea; the beauteous scarf\\r\\nVeiling an Indian beauty; in a word,\\r\\nThe seeming truth which cunning times put on\\r\\nTo entrap the wisest. Therefore thou gaudy gold,\\r\\nHard food for Midas, I will none of thee,\\r\\nNor none of thee, thou pale and common drudge\\r\\n’Tween man and man: but thou, thou meagre lead,\\r\\nWhich rather threaten’st than dost promise aught,\\r\\nThy palenness moves me more than eloquence,\\r\\nAnd here choose I, joy be the consequence!\\r\\n\\r\\nPORTIA.\\r\\n[_Aside._] How all the other passions fleet to air,\\r\\nAs doubtful thoughts, and rash-embrac’d despair,\\r\\nAnd shudd’ring fear, and green-ey’d jealousy.\\r\\nO love, be moderate; allay thy ecstasy,\\r\\nIn measure rain thy joy; scant this excess!\\r\\nI feel too much thy blessing, make it less,\\r\\nFor fear I surfeit.\\r\\n\\r\\nBASSANIO.\\r\\nWhat find I here? [_Opening the leaden casket_.]\\r\\nFair Portia’s counterfeit! What demi-god\\r\\nHath come so near creation? Move these eyes?\\r\\nOr whether, riding on the balls of mine,\\r\\nSeem they in motion? Here are sever’d lips,\\r\\nParted with sugar breath, so sweet a bar\\r\\nShould sunder such sweet friends. Here in her hairs\\r\\nThe painter plays the spider, and hath woven\\r\\nA golden mesh t’entrap the hearts of men\\r\\nFaster than gnats in cobwebs. But her eyes!—\\r\\nHow could he see to do them? Having made one,\\r\\nMethinks it should have power to steal both his\\r\\nAnd leave itself unfurnish’d. Yet look how far\\r\\nThe substance of my praise doth wrong this shadow\\r\\nIn underprizing it, so far this shadow\\r\\nDoth limp behind the substance. Here’s the scroll,\\r\\nThe continent and summary of my fortune.\\r\\n\\r\\n     _You that choose not by the view\\r\\n     Chance as fair and choose as true!\\r\\n     Since this fortune falls to you,\\r\\n     Be content and seek no new.\\r\\n     If you be well pleas’d with this,\\r\\n     And hold your fortune for your bliss,\\r\\n     Turn to where your lady is,\\r\\n     And claim her with a loving kiss._\\r\\n\\r\\nA gentle scroll. Fair lady, by your leave, [_Kissing her_.]\\r\\nI come by note to give and to receive.\\r\\nLike one of two contending in a prize\\r\\nThat thinks he hath done well in people’s eyes,\\r\\nHearing applause and universal shout,\\r\\nGiddy in spirit, still gazing in a doubt\\r\\nWhether those peals of praise be his or no,\\r\\nSo, thrice-fair lady, stand I even so,\\r\\nAs doubtful whether what I see be true,\\r\\nUntil confirm’d, sign’d, ratified by you.\\r\\n\\r\\nPORTIA.\\r\\nYou see me, Lord Bassanio, where I stand,\\r\\nSuch as I am; though for myself alone\\r\\nI would not be ambitious in my wish\\r\\nTo wish myself much better, yet for you\\r\\nI would be trebled twenty times myself,\\r\\nA thousand times more fair, ten thousand times\\r\\nMore rich,\\r\\nThat only to stand high in your account,\\r\\nI might in virtues, beauties, livings, friends,\\r\\nExceed account. But the full sum of me\\r\\nIs sum of something, which, to term in gross,\\r\\nIs an unlesson’d girl, unschool’d, unpractis’d;\\r\\nHappy in this, she is not yet so old\\r\\nBut she may learn; happier than this,\\r\\nShe is not bred so dull but she can learn;\\r\\nHappiest of all, is that her gentle spirit\\r\\nCommits itself to yours to be directed,\\r\\nAs from her lord, her governor, her king.\\r\\nMyself, and what is mine, to you and yours\\r\\nIs now converted. But now I was the lord\\r\\nOf this fair mansion, master of my servants,\\r\\nQueen o’er myself; and even now, but now,\\r\\nThis house, these servants, and this same myself\\r\\nAre yours,—my lord’s. I give them with this ring,\\r\\nWhich when you part from, lose, or give away,\\r\\nLet it presage the ruin of your love,\\r\\nAnd be my vantage to exclaim on you.\\r\\n\\r\\nBASSANIO.\\r\\nMadam, you have bereft me of all words,\\r\\nOnly my blood speaks to you in my veins,\\r\\nAnd there is such confusion in my powers\\r\\nAs after some oration fairly spoke\\r\\nBy a beloved prince, there doth appear\\r\\nAmong the buzzing pleased multitude,\\r\\nWhere every something being blent together,\\r\\nTurns to a wild of nothing, save of joy\\r\\nExpress’d and not express’d. But when this ring\\r\\nParts from this finger, then parts life from hence.\\r\\nO then be bold to say Bassanio’s dead!\\r\\n\\r\\nNERISSA.\\r\\nMy lord and lady, it is now our time,\\r\\nThat have stood by and seen our wishes prosper,\\r\\nTo cry, good joy. Good joy, my lord and lady!\\r\\n\\r\\nGRATIANO.\\r\\nMy Lord Bassanio, and my gentle lady,\\r\\nI wish you all the joy that you can wish;\\r\\nFor I am sure you can wish none from me.\\r\\nAnd when your honours mean to solemnize\\r\\nThe bargain of your faith, I do beseech you\\r\\nEven at that time I may be married too.\\r\\n\\r\\nBASSANIO.\\r\\nWith all my heart, so thou canst get a wife.\\r\\n\\r\\nGRATIANO.\\r\\nI thank your lordship, you have got me one.\\r\\nMy eyes, my lord, can look as swift as yours:\\r\\nYou saw the mistress, I beheld the maid.\\r\\nYou lov’d, I lov’d; for intermission\\r\\nNo more pertains to me, my lord, than you.\\r\\nYour fortune stood upon the caskets there,\\r\\nAnd so did mine too, as the matter falls.\\r\\nFor wooing here until I sweat again,\\r\\nAnd swearing till my very roof was dry\\r\\nWith oaths of love, at last, (if promise last)\\r\\nI got a promise of this fair one here\\r\\nTo have her love, provided that your fortune\\r\\nAchiev’d her mistress.\\r\\n\\r\\nPORTIA.\\r\\nIs this true, Nerissa?\\r\\n\\r\\nNERISSA.\\r\\nMadam, it is, so you stand pleas’d withal.\\r\\n\\r\\nBASSANIO.\\r\\nAnd do you, Gratiano, mean good faith?\\r\\n\\r\\nGRATIANO.\\r\\nYes, faith, my lord.\\r\\n\\r\\nBASSANIO.\\r\\nOur feast shall be much honoured in your marriage.\\r\\n\\r\\nGRATIANO.\\r\\nWe’ll play with them the first boy for a thousand ducats.\\r\\n\\r\\nNERISSA.\\r\\nWhat! and stake down?\\r\\n\\r\\nGRATIANO.\\r\\nNo, we shall ne’er win at that sport and stake down.\\r\\nBut who comes here? Lorenzo and his infidel?\\r\\nWhat, and my old Venetian friend, Salerio!\\r\\n\\r\\n Enter Lorenzo, Jessica and Salerio.\\r\\n\\r\\nBASSANIO.\\r\\nLorenzo and Salerio, welcome hither,\\r\\nIf that the youth of my new int’rest here\\r\\nHave power to bid you welcome. By your leave,\\r\\nI bid my very friends and countrymen,\\r\\nSweet Portia, welcome.\\r\\n\\r\\nPORTIA.\\r\\nSo do I, my lord,\\r\\nThey are entirely welcome.\\r\\n\\r\\nLORENZO.\\r\\nI thank your honour. For my part, my lord,\\r\\nMy purpose was not to have seen you here,\\r\\nBut meeting with Salerio by the way,\\r\\nHe did entreat me, past all saying nay,\\r\\nTo come with him along.\\r\\n\\r\\nSALERIO.\\r\\nI did, my lord,\\r\\nAnd I have reason for it. Signior Antonio\\r\\nCommends him to you.\\r\\n\\r\\n [_Gives Bassanio a letter._]\\r\\n\\r\\nBASSANIO.\\r\\nEre I ope his letter,\\r\\nI pray you tell me how my good friend doth.\\r\\n\\r\\nSALERIO.\\r\\nNot sick, my lord, unless it be in mind,\\r\\nNor well, unless in mind. His letter there\\r\\nWill show you his estate.\\r\\n\\r\\n [_Bassanio opens the letter._]\\r\\n\\r\\nGRATIANO.\\r\\nNerissa, cheer yond stranger, bid her welcome.\\r\\nYour hand, Salerio. What’s the news from Venice?\\r\\nHow doth that royal merchant, good Antonio?\\r\\nI know he will be glad of our success.\\r\\nWe are the Jasons, we have won the fleece.\\r\\n\\r\\nSALERIO.\\r\\nI would you had won the fleece that he hath lost.\\r\\n\\r\\nPORTIA.\\r\\nThere are some shrewd contents in yond same paper\\r\\nThat steals the colour from Bassanio’s cheek.\\r\\nSome dear friend dead, else nothing in the world\\r\\nCould turn so much the constitution\\r\\nOf any constant man. What, worse and worse?\\r\\nWith leave, Bassanio, I am half yourself,\\r\\nAnd I must freely have the half of anything\\r\\nThat this same paper brings you.\\r\\n\\r\\nBASSANIO.\\r\\nO sweet Portia,\\r\\nHere are a few of the unpleasant’st words\\r\\nThat ever blotted paper. Gentle lady,\\r\\nWhen I did first impart my love to you,\\r\\nI freely told you all the wealth I had\\r\\nRan in my veins, I was a gentleman.\\r\\nAnd then I told you true. And yet, dear lady,\\r\\nRating myself at nothing, you shall see\\r\\nHow much I was a braggart. When I told you\\r\\nMy state was nothing, I should then have told you\\r\\nThat I was worse than nothing; for indeed\\r\\nI have engag’d myself to a dear friend,\\r\\nEngag’d my friend to his mere enemy,\\r\\nTo feed my means. Here is a letter, lady,\\r\\nThe paper as the body of my friend,\\r\\nAnd every word in it a gaping wound\\r\\nIssuing life-blood. But is it true, Salerio?\\r\\nHath all his ventures fail’d? What, not one hit?\\r\\nFrom Tripolis, from Mexico, and England,\\r\\nFrom Lisbon, Barbary, and India,\\r\\nAnd not one vessel scape the dreadful touch\\r\\nOf merchant-marring rocks?\\r\\n\\r\\nSALERIO.\\r\\nNot one, my lord.\\r\\nBesides, it should appear, that if he had\\r\\nThe present money to discharge the Jew,\\r\\nHe would not take it. Never did I know\\r\\nA creature that did bear the shape of man\\r\\nSo keen and greedy to confound a man.\\r\\nHe plies the Duke at morning and at night,\\r\\nAnd doth impeach the freedom of the state\\r\\nIf they deny him justice. Twenty merchants,\\r\\nThe Duke himself, and the magnificoes\\r\\nOf greatest port have all persuaded with him,\\r\\nBut none can drive him from the envious plea\\r\\nOf forfeiture, of justice, and his bond.\\r\\n\\r\\nJESSICA.\\r\\nWhen I was with him, I have heard him swear\\r\\nTo Tubal and to Chus, his countrymen,\\r\\nThat he would rather have Antonio’s flesh\\r\\nThan twenty times the value of the sum\\r\\nThat he did owe him. And I know, my lord,\\r\\nIf law, authority, and power deny not,\\r\\nIt will go hard with poor Antonio.\\r\\n\\r\\nPORTIA.\\r\\nIs it your dear friend that is thus in trouble?\\r\\n\\r\\nBASSANIO.\\r\\nThe dearest friend to me, the kindest man,\\r\\nThe best condition’d and unwearied spirit\\r\\nIn doing courtesies, and one in whom\\r\\nThe ancient Roman honour more appears\\r\\nThan any that draws breath in Italy.\\r\\n\\r\\nPORTIA.\\r\\nWhat sum owes he the Jew?\\r\\n\\r\\nBASSANIO.\\r\\nFor me three thousand ducats.\\r\\n\\r\\nPORTIA.\\r\\nWhat, no more?\\r\\nPay him six thousand, and deface the bond.\\r\\nDouble six thousand, and then treble that,\\r\\nBefore a friend of this description\\r\\nShall lose a hair through Bassanio’s fault.\\r\\nFirst go with me to church and call me wife,\\r\\nAnd then away to Venice to your friend.\\r\\nFor never shall you lie by Portia’s side\\r\\nWith an unquiet soul. You shall have gold\\r\\nTo pay the petty debt twenty times over.\\r\\nWhen it is paid, bring your true friend along.\\r\\nMy maid Nerissa and myself meantime,\\r\\nWill live as maids and widows. Come, away!\\r\\nFor you shall hence upon your wedding day.\\r\\nBid your friends welcome, show a merry cheer;\\r\\nSince you are dear bought, I will love you dear.\\r\\nBut let me hear the letter of your friend.\\r\\n\\r\\nBASSANIO.\\r\\n_Sweet Bassanio, my ships have all miscarried, my creditors grow cruel,\\r\\nmy estate is very low, my bond to the Jew is forfeit, and since in\\r\\npaying it, it is impossible I should live, all debts are clear’d\\r\\nbetween you and I, if I might but see you at my death. Notwithstanding,\\r\\nuse your pleasure. If your love do not persuade you to come, let not my\\r\\nletter._\\r\\n\\r\\nPORTIA.\\r\\nO love, dispatch all business and be gone!\\r\\n\\r\\nBASSANIO.\\r\\nSince I have your good leave to go away,\\r\\nI will make haste; but, till I come again,\\r\\nNo bed shall e’er be guilty of my stay,\\r\\nNor rest be interposer ’twixt us twain.\\r\\n\\r\\n [_Exeunt._]\\r\\n\\r\\nSCENE III. Venice. A street.\\r\\n\\r\\n Enter Shylock, Salarino, Antonio and Gaoler.\\r\\n\\r\\nSHYLOCK.\\r\\nGaoler, look to him. Tell not me of mercy.\\r\\nThis is the fool that lent out money gratis.\\r\\nGaoler, look to him.\\r\\n\\r\\nANTONIO.\\r\\nHear me yet, good Shylock.\\r\\n\\r\\nSHYLOCK.\\r\\nI’ll have my bond, speak not against my bond.\\r\\nI have sworn an oath that I will have my bond.\\r\\nThou call’dst me dog before thou hadst a cause,\\r\\nBut since I am a dog, beware my fangs;\\r\\nThe Duke shall grant me justice. I do wonder,\\r\\nThou naughty gaoler, that thou art so fond\\r\\nTo come abroad with him at his request.\\r\\n\\r\\nANTONIO.\\r\\nI pray thee hear me speak.\\r\\n\\r\\nSHYLOCK.\\r\\nI’ll have my bond. I will not hear thee speak.\\r\\nI’ll have my bond, and therefore speak no more.\\r\\nI’ll not be made a soft and dull-eyed fool,\\r\\nTo shake the head, relent, and sigh, and yield\\r\\nTo Christian intercessors. Follow not,\\r\\nI’ll have no speaking, I will have my bond.\\r\\n\\r\\n [_Exit._]\\r\\n\\r\\nSALARINO.\\r\\nIt is the most impenetrable cur\\r\\nThat ever kept with men.\\r\\n\\r\\nANTONIO.\\r\\nLet him alone.\\r\\nI’ll follow him no more with bootless prayers.\\r\\nHe seeks my life, his reason well I know:\\r\\nI oft deliver’d from his forfeitures\\r\\nMany that have at times made moan to me.\\r\\nTherefore he hates me.\\r\\n\\r\\nSALARINO.\\r\\nI am sure the Duke\\r\\nWill never grant this forfeiture to hold.\\r\\n\\r\\nANTONIO.\\r\\nThe Duke cannot deny the course of law,\\r\\nFor the commodity that strangers have\\r\\nWith us in Venice, if it be denied,\\r\\n’Twill much impeach the justice of the state,\\r\\nSince that the trade and profit of the city\\r\\nConsisteth of all nations. Therefore, go.\\r\\nThese griefs and losses have so bated me\\r\\nThat I shall hardly spare a pound of flesh\\r\\nTomorrow to my bloody creditor.\\r\\nWell, gaoler, on, pray God Bassanio come\\r\\nTo see me pay his debt, and then I care not.\\r\\n\\r\\n [_Exeunt._]\\r\\n\\r\\nSCENE IV. Belmont. A room in Portia’s house.\\r\\n\\r\\n Enter Portia, Nerissa, Lorenzo, Jessica and Balthazar.\\r\\n\\r\\nLORENZO.\\r\\nMadam, although I speak it in your presence,\\r\\nYou have a noble and a true conceit\\r\\nOf godlike amity, which appears most strongly\\r\\nIn bearing thus the absence of your lord.\\r\\nBut if you knew to whom you show this honour,\\r\\nHow true a gentleman you send relief,\\r\\nHow dear a lover of my lord your husband,\\r\\nI know you would be prouder of the work\\r\\nThan customary bounty can enforce you.\\r\\n\\r\\nPORTIA.\\r\\nI never did repent for doing good,\\r\\nNor shall not now; for in companions\\r\\nThat do converse and waste the time together,\\r\\nWhose souls do bear an equal yoke of love,\\r\\nThere must be needs a like proportion\\r\\nOf lineaments, of manners, and of spirit;\\r\\nWhich makes me think that this Antonio,\\r\\nBeing the bosom lover of my lord,\\r\\nMust needs be like my lord. If it be so,\\r\\nHow little is the cost I have bestowed\\r\\nIn purchasing the semblance of my soul\\r\\nFrom out the state of hellish cruelty!\\r\\nThis comes too near the praising of myself;\\r\\nTherefore no more of it. Hear other things.\\r\\nLorenzo, I commit into your hands\\r\\nThe husbandry and manage of my house\\r\\nUntil my lord’s return. For mine own part,\\r\\nI have toward heaven breath’d a secret vow\\r\\nTo live in prayer and contemplation,\\r\\nOnly attended by Nerissa here,\\r\\nUntil her husband and my lord’s return.\\r\\nThere is a monastery two miles off,\\r\\nAnd there we will abide. I do desire you\\r\\nNot to deny this imposition,\\r\\nThe which my love and some necessity\\r\\nNow lays upon you.\\r\\n\\r\\nLORENZO.\\r\\nMadam, with all my heart\\r\\nI shall obey you in all fair commands.\\r\\n\\r\\nPORTIA.\\r\\nMy people do already know my mind,\\r\\nAnd will acknowledge you and Jessica\\r\\nIn place of Lord Bassanio and myself.\\r\\nSo fare you well till we shall meet again.\\r\\n\\r\\nLORENZO.\\r\\nFair thoughts and happy hours attend on you!\\r\\n\\r\\nJESSICA.\\r\\nI wish your ladyship all heart’s content.\\r\\n\\r\\nPORTIA.\\r\\nI thank you for your wish, and am well pleas’d\\r\\nTo wish it back on you. Fare you well, Jessica.\\r\\n\\r\\n [_Exeunt Jessica and Lorenzo._]\\r\\n\\r\\nNow, Balthazar,\\r\\nAs I have ever found thee honest-true,\\r\\nSo let me find thee still. Take this same letter,\\r\\nAnd use thou all th’ endeavour of a man\\r\\nIn speed to Padua, see thou render this\\r\\nInto my cousin’s hands, Doctor Bellario;\\r\\nAnd look what notes and garments he doth give thee,\\r\\nBring them, I pray thee, with imagin’d speed\\r\\nUnto the traject, to the common ferry\\r\\nWhich trades to Venice. Waste no time in words,\\r\\nBut get thee gone. I shall be there before thee.\\r\\n\\r\\nBALTHAZAR.\\r\\nMadam, I go with all convenient speed.\\r\\n\\r\\n [_Exit._]\\r\\n\\r\\nPORTIA.\\r\\nCome on, Nerissa, I have work in hand\\r\\nThat you yet know not of; we’ll see our husbands\\r\\nBefore they think of us.\\r\\n\\r\\nNERISSA.\\r\\nShall they see us?\\r\\n\\r\\nPORTIA.\\r\\nThey shall, Nerissa, but in such a habit\\r\\nThat they shall think we are accomplished\\r\\nWith that we lack. I’ll hold thee any wager,\\r\\nWhen we are both accoutered like young men,\\r\\nI’ll prove the prettier fellow of the two,\\r\\nAnd wear my dagger with the braver grace,\\r\\nAnd speak between the change of man and boy\\r\\nWith a reed voice; and turn two mincing steps\\r\\nInto a manly stride; and speak of frays\\r\\nLike a fine bragging youth; and tell quaint lies\\r\\nHow honourable ladies sought my love,\\r\\nWhich I denying, they fell sick and died;\\r\\nI could not do withal. Then I’ll repent,\\r\\nAnd wish for all that, that I had not kill’d them.\\r\\nAnd twenty of these puny lies I’ll tell,\\r\\nThat men shall swear I have discontinued school\\r\\nAbout a twelvemonth. I have within my mind\\r\\nA thousand raw tricks of these bragging Jacks,\\r\\nWhich I will practise.\\r\\n\\r\\nNERISSA.\\r\\nWhy, shall we turn to men?\\r\\n\\r\\nPORTIA.\\r\\nFie, what a question’s that,\\r\\nIf thou wert near a lewd interpreter!\\r\\nBut come, I’ll tell thee all my whole device\\r\\nWhen I am in my coach, which stays for us\\r\\nAt the park gate; and therefore haste away,\\r\\nFor we must measure twenty miles today.\\r\\n\\r\\n [_Exeunt._]\\r\\n\\r\\nSCENE V. The same. A garden.\\r\\n\\r\\n Enter Launcelet and Jessica.\\r\\n\\r\\nLAUNCELET.\\r\\nYes, truly, for look you, the sins of the father are to be laid upon\\r\\nthe children, therefore, I promise you, I fear you. I was always plain\\r\\nwith you, and so now I speak my agitation of the matter. Therefore be\\r\\nof good cheer, for truly I think you are damn’d. There is but one hope\\r\\nin it that can do you any good, and that is but a kind of bastard hope\\r\\nneither.\\r\\n\\r\\nJESSICA.\\r\\nAnd what hope is that, I pray thee?\\r\\n\\r\\nLAUNCELET.\\r\\nMarry, you may partly hope that your father got you not, that you are\\r\\nnot the Jew’s daughter.\\r\\n\\r\\nJESSICA.\\r\\nThat were a kind of bastard hope indeed; so the sins of my mother\\r\\nshould be visited upon me.\\r\\n\\r\\nLAUNCELET.\\r\\nTruly then I fear you are damn’d both by father and mother; thus when I\\r\\nshun Scylla your father, I fall into Charybdis your mother. Well, you\\r\\nare gone both ways.\\r\\n\\r\\nJESSICA.\\r\\nI shall be saved by my husband. He hath made me a Christian.\\r\\n\\r\\nLAUNCELET.\\r\\nTruly the more to blame he, we were Christians enow before, e’en as\\r\\nmany as could well live one by another. This making of Christians will\\r\\nraise the price of hogs; if we grow all to be pork-eaters, we shall not\\r\\nshortly have a rasher on the coals for money.\\r\\n\\r\\n Enter Lorenzo.\\r\\n\\r\\nJESSICA.\\r\\nI’ll tell my husband, Launcelet, what you say. Here he comes.\\r\\n\\r\\nLORENZO.\\r\\nI shall grow jealous of you shortly, Launcelet, if you thus get my wife\\r\\ninto corners!\\r\\n\\r\\nJESSICA.\\r\\nNay, you need nor fear us, Lorenzo. Launcelet and I are out. He tells\\r\\nme flatly there’s no mercy for me in heaven, because I am a Jew’s\\r\\ndaughter; and he says you are no good member of the commonwealth, for\\r\\nin converting Jews to Christians you raise the price of pork.\\r\\n\\r\\nLORENZO.\\r\\nI shall answer that better to the commonwealth than you can the getting\\r\\nup of the negro’s belly! The Moor is with child by you, Launcelet.\\r\\n\\r\\nLAUNCELET.\\r\\nIt is much that the Moor should be more than reason; but if she be less\\r\\nthan an honest woman, she is indeed more than I took her for.\\r\\n\\r\\nLORENZO.\\r\\nHow every fool can play upon the word! I think the best grace of wit\\r\\nwill shortly turn into silence, and discourse grow commendable in none\\r\\nonly but parrots. Go in, sirrah; bid them prepare for dinner.\\r\\n\\r\\nLAUNCELET.\\r\\nThat is done, sir, they have all stomachs.\\r\\n\\r\\nLORENZO.\\r\\nGoodly Lord, what a wit-snapper are you! Then bid them prepare dinner.\\r\\n\\r\\nLAUNCELET.\\r\\nThat is done too, sir, only “cover” is the word.\\r\\n\\r\\nLORENZO.\\r\\nWill you cover, then, sir?\\r\\n\\r\\nLAUNCELET.\\r\\nNot so, sir, neither. I know my duty.\\r\\n\\r\\nLORENZO.\\r\\nYet more quarrelling with occasion! Wilt thou show the whole wealth of\\r\\nthy wit in an instant? I pray thee understand a plain man in his plain\\r\\nmeaning: go to thy fellows, bid them cover the table, serve in the\\r\\nmeat, and we will come in to dinner.\\r\\n\\r\\nLAUNCELET.\\r\\nFor the table, sir, it shall be served in; for the meat, sir, it shall\\r\\nbe covered; for your coming in to dinner, sir, why, let it be as\\r\\nhumours and conceits shall govern.\\r\\n\\r\\n [_Exit._]\\r\\n\\r\\nLORENZO.\\r\\nO dear discretion, how his words are suited!\\r\\nThe fool hath planted in his memory\\r\\nAn army of good words, and I do know\\r\\nA many fools that stand in better place,\\r\\nGarnish’d like him, that for a tricksy word\\r\\nDefy the matter. How cheer’st thou, Jessica?\\r\\nAnd now, good sweet, say thy opinion,\\r\\nHow dost thou like the Lord Bassanio’s wife?\\r\\n\\r\\nJESSICA.\\r\\nPast all expressing. It is very meet\\r\\nThe Lord Bassanio live an upright life,\\r\\nFor having such a blessing in his lady,\\r\\nHe finds the joys of heaven here on earth,\\r\\nAnd if on earth he do not merit it,\\r\\nIn reason he should never come to heaven.\\r\\nWhy, if two gods should play some heavenly match,\\r\\nAnd on the wager lay two earthly women,\\r\\nAnd Portia one, there must be something else\\r\\nPawn’d with the other, for the poor rude world\\r\\nHath not her fellow.\\r\\n\\r\\nLORENZO.\\r\\nEven such a husband\\r\\nHast thou of me as she is for a wife.\\r\\n\\r\\nJESSICA.\\r\\nNay, but ask my opinion too of that.\\r\\n\\r\\nLORENZO.\\r\\nI will anon. First let us go to dinner.\\r\\n\\r\\nJESSICA.\\r\\nNay, let me praise you while I have a stomach.\\r\\n\\r\\nLORENZO.\\r\\nNo pray thee, let it serve for table-talk.\\r\\nThen howsome’er thou speak’st, ’mong other things\\r\\nI shall digest it.\\r\\n\\r\\nJESSICA.\\r\\nWell, I’ll set you forth.\\r\\n\\r\\n [_Exeunt._]\\r\\n\\r\\n\\r\\nACT IV\\r\\n\\r\\nSCENE I. Venice. A court of justice.\\r\\n\\r\\n Enter the Duke, the Magnificoes, Antonio, Bassanio, Gratiano, Salerio\\r\\n and others.\\r\\n\\r\\nDUKE.\\r\\nWhat, is Antonio here?\\r\\n\\r\\nANTONIO.\\r\\nReady, so please your Grace.\\r\\n\\r\\nDUKE.\\r\\nI am sorry for thee, thou art come to answer\\r\\nA stony adversary, an inhuman wretch,\\r\\nUncapable of pity, void and empty\\r\\nFrom any dram of mercy.\\r\\n\\r\\nANTONIO.\\r\\nI have heard\\r\\nYour Grace hath ta’en great pains to qualify\\r\\nHis rigorous course; but since he stands obdurate,\\r\\nAnd that no lawful means can carry me\\r\\nOut of his envy’s reach, I do oppose\\r\\nMy patience to his fury, and am arm’d\\r\\nTo suffer with a quietness of spirit\\r\\nThe very tyranny and rage of his.\\r\\n\\r\\nDUKE.\\r\\nGo one and call the Jew into the court.\\r\\n\\r\\nSALARINO.\\r\\nHe is ready at the door. He comes, my lord.\\r\\n\\r\\n Enter Shylock.\\r\\n\\r\\nDUKE.\\r\\nMake room, and let him stand before our face.\\r\\nShylock, the world thinks, and I think so too,\\r\\nThat thou but leadest this fashion of thy malice\\r\\nTo the last hour of act, and then, ’tis thought,\\r\\nThou’lt show thy mercy and remorse more strange\\r\\nThan is thy strange apparent cruelty;\\r\\nAnd where thou now exacts the penalty,\\r\\nWhich is a pound of this poor merchant’s flesh,\\r\\nThou wilt not only loose the forfeiture,\\r\\nBut, touch’d with human gentleness and love,\\r\\nForgive a moiety of the principal,\\r\\nGlancing an eye of pity on his losses\\r\\nThat have of late so huddled on his back,\\r\\nEnow to press a royal merchant down,\\r\\nAnd pluck commiseration of his state\\r\\nFrom brassy bosoms and rough hearts of flint,\\r\\nFrom stubborn Turks and Tartars never train’d\\r\\nTo offices of tender courtesy.\\r\\nWe all expect a gentle answer, Jew.\\r\\n\\r\\nSHYLOCK.\\r\\nI have possess’d your Grace of what I purpose,\\r\\nAnd by our holy Sabbath have I sworn\\r\\nTo have the due and forfeit of my bond.\\r\\nIf you deny it, let the danger light\\r\\nUpon your charter and your city’s freedom!\\r\\nYou’ll ask me why I rather choose to have\\r\\nA weight of carrion flesh than to receive\\r\\nThree thousand ducats. I’ll not answer that,\\r\\nBut say it is my humour. Is it answer’d?\\r\\nWhat if my house be troubled with a rat,\\r\\nAnd I be pleas’d to give ten thousand ducats\\r\\nTo have it ban’d? What, are you answer’d yet?\\r\\nSome men there are love not a gaping pig;\\r\\nSome that are mad if they behold a cat;\\r\\nAnd others, when the bagpipe sings i’ the nose,\\r\\nCannot contain their urine; for affection\\r\\nMistress of passion, sways it to the mood\\r\\nOf what it likes or loathes. Now, for your answer:\\r\\nAs there is no firm reason to be render’d\\r\\nWhy he cannot abide a gaping pig,\\r\\nWhy he a harmless necessary cat,\\r\\nWhy he a woollen bagpipe, but of force\\r\\nMust yield to such inevitable shame\\r\\nAs to offend, himself being offended,\\r\\nSo can I give no reason, nor I will not,\\r\\nMore than a lodg’d hate and a certain loathing\\r\\nI bear Antonio, that I follow thus\\r\\nA losing suit against him. Are you answered?\\r\\n\\r\\nBASSANIO.\\r\\nThis is no answer, thou unfeeling man,\\r\\nTo excuse the current of thy cruelty.\\r\\n\\r\\nSHYLOCK.\\r\\nI am not bound to please thee with my answer.\\r\\n\\r\\nBASSANIO.\\r\\nDo all men kill the things they do not love?\\r\\n\\r\\nSHYLOCK.\\r\\nHates any man the thing he would not kill?\\r\\n\\r\\nBASSANIO.\\r\\nEvery offence is not a hate at first.\\r\\n\\r\\nSHYLOCK.\\r\\nWhat, wouldst thou have a serpent sting thee twice?\\r\\n\\r\\nANTONIO.\\r\\nI pray you, think you question with the Jew.\\r\\nYou may as well go stand upon the beach\\r\\nAnd bid the main flood bate his usual height;\\r\\nYou may as well use question with the wolf,\\r\\nWhy he hath made the ewe bleat for the lamb;\\r\\nYou may as well forbid the mountain pines\\r\\nTo wag their high tops and to make no noise\\r\\nWhen they are fretten with the gusts of heaven;\\r\\nYou may as well do anything most hard\\r\\nAs seek to soften that—than which what’s harder?—\\r\\nHis Jewish heart. Therefore, I do beseech you,\\r\\nMake no moe offers, use no farther means,\\r\\nBut with all brief and plain conveniency.\\r\\nLet me have judgment, and the Jew his will.\\r\\n\\r\\nBASSANIO.\\r\\nFor thy three thousand ducats here is six.\\r\\n\\r\\nSHYLOCK.\\r\\nIf every ducat in six thousand ducats\\r\\nWere in six parts, and every part a ducat,\\r\\nI would not draw them, I would have my bond.\\r\\n\\r\\nDUKE.\\r\\nHow shalt thou hope for mercy, rend’ring none?\\r\\n\\r\\nSHYLOCK.\\r\\nWhat judgment shall I dread, doing no wrong?\\r\\nYou have among you many a purchas’d slave,\\r\\nWhich, like your asses and your dogs and mules,\\r\\nYou use in abject and in slavish parts,\\r\\nBecause you bought them. Shall I say to you\\r\\n“Let them be free, marry them to your heirs?\\r\\nWhy sweat they under burdens? Let their beds\\r\\nBe made as soft as yours, and let their palates\\r\\nBe season’d with such viands”? You will answer\\r\\n“The slaves are ours.” So do I answer you:\\r\\nThe pound of flesh which I demand of him\\r\\nIs dearly bought; ’tis mine and I will have it.\\r\\nIf you deny me, fie upon your law!\\r\\nThere is no force in the decrees of Venice.\\r\\nI stand for judgment. Answer; shall I have it?\\r\\n\\r\\nDUKE.\\r\\nUpon my power I may dismiss this court,\\r\\nUnless Bellario, a learned doctor,\\r\\nWhom I have sent for to determine this,\\r\\nCome here today.\\r\\n\\r\\nSALARINO.\\r\\nMy lord, here stays without\\r\\nA messenger with letters from the doctor,\\r\\nNew come from Padua.\\r\\n\\r\\nDUKE.\\r\\nBring us the letters. Call the messenger.\\r\\n\\r\\nBASSANIO.\\r\\nGood cheer, Antonio! What, man, courage yet!\\r\\nThe Jew shall have my flesh, blood, bones, and all,\\r\\nEre thou shalt lose for me one drop of blood.\\r\\n\\r\\nANTONIO.\\r\\nI am a tainted wether of the flock,\\r\\nMeetest for death, the weakest kind of fruit\\r\\nDrops earliest to the ground, and so let me.\\r\\nYou cannot better be employ’d, Bassanio,\\r\\nThan to live still, and write mine epitaph.\\r\\n\\r\\n Enter Nerissa dressed like a lawyer’s clerk.\\r\\n\\r\\nDUKE.\\r\\nCame you from Padua, from Bellario?\\r\\n\\r\\nNERISSA.\\r\\nFrom both, my lord. Bellario greets your Grace.\\r\\n\\r\\n [_Presents a letter._]\\r\\n\\r\\nBASSANIO.\\r\\nWhy dost thou whet thy knife so earnestly?\\r\\n\\r\\nSHYLOCK.\\r\\nTo cut the forfeiture from that bankrupt there.\\r\\n\\r\\nGRATIANO.\\r\\nNot on thy sole but on thy soul, harsh Jew,\\r\\nThou mak’st thy knife keen. But no metal can,\\r\\nNo, not the hangman’s axe, bear half the keenness\\r\\nOf thy sharp envy. Can no prayers pierce thee?\\r\\n\\r\\nSHYLOCK.\\r\\nNo, none that thou hast wit enough to make.\\r\\n\\r\\nGRATIANO.\\r\\nO, be thou damn’d, inexecrable dog!\\r\\nAnd for thy life let justice be accus’d;\\r\\nThou almost mak’st me waver in my faith,\\r\\nTo hold opinion with Pythagoras\\r\\nThat souls of animals infuse themselves\\r\\nInto the trunks of men. Thy currish spirit\\r\\nGovern’d a wolf who, hang’d for human slaughter,\\r\\nEven from the gallows did his fell soul fleet,\\r\\nAnd whilst thou layest in thy unhallowed dam,\\r\\nInfus’d itself in thee; for thy desires\\r\\nAre wolfish, bloody, starv’d and ravenous.\\r\\n\\r\\nSHYLOCK.\\r\\nTill thou canst rail the seal from off my bond,\\r\\nThou but offend’st thy lungs to speak so loud.\\r\\nRepair thy wit, good youth, or it will fall\\r\\nTo cureless ruin. I stand here for law.\\r\\n\\r\\nDUKE.\\r\\nThis letter from Bellario doth commend\\r\\nA young and learned doctor to our court.\\r\\nWhere is he?\\r\\n\\r\\nNERISSA.\\r\\nHe attendeth here hard by,\\r\\nTo know your answer, whether you’ll admit him.\\r\\n\\r\\nDUKE OF VENICE.\\r\\nWith all my heart: some three or four of you\\r\\nGo give him courteous conduct to this place.\\r\\nMeantime, the court shall hear Bellario’s letter.\\r\\n\\r\\n[_Reads._] _Your Grace shall understand that at the receipt of your\\r\\nletter I am very sick, but in the instant that your messenger came, in\\r\\nloving visitation was with me a young doctor of Rome. His name is\\r\\nBalthazar. I acquainted him with the cause in controversy between the\\r\\nJew and Antonio the merchant. We turn’d o’er many books together. He is\\r\\nfurnished with my opinion, which, bettered with his own learning (the\\r\\ngreatness whereof I cannot enough commend), comes with him at my\\r\\nimportunity to fill up your Grace’s request in my stead. I beseech you\\r\\nlet his lack of years be no impediment to let him lack a reverend\\r\\nestimation, for I never knew so young a body with so old a head. I\\r\\nleave him to your gracious acceptance, whose trial shall better publish\\r\\nhis commendation._\\r\\n\\r\\nYou hear the learn’d Bellario what he writes,\\r\\nAnd here, I take it, is the doctor come.\\r\\n\\r\\n Enter Portia dressed like a doctor of laws.\\r\\n\\r\\nGive me your hand. Come you from old Bellario?\\r\\n\\r\\nPORTIA.\\r\\nI did, my lord.\\r\\n\\r\\nDUKE.\\r\\nYou are welcome. Take your place.\\r\\nAre you acquainted with the difference\\r\\nThat holds this present question in the court?\\r\\n\\r\\nPORTIA.\\r\\nI am informed throughly of the cause.\\r\\nWhich is the merchant here? And which the Jew?\\r\\n\\r\\nDUKE.\\r\\nAntonio and old Shylock, both stand forth.\\r\\n\\r\\nPORTIA.\\r\\nIs your name Shylock?\\r\\n\\r\\nSHYLOCK.\\r\\nShylock is my name.\\r\\n\\r\\nPORTIA.\\r\\nOf a strange nature is the suit you follow,\\r\\nYet in such rule that the Venetian law\\r\\nCannot impugn you as you do proceed.\\r\\n[_To Antonio_.] You stand within his danger, do you not?\\r\\n\\r\\nANTONIO.\\r\\nAy, so he says.\\r\\n\\r\\nPORTIA.\\r\\nDo you confess the bond?\\r\\n\\r\\nANTONIO.\\r\\nI do.\\r\\n\\r\\nPORTIA.\\r\\nThen must the Jew be merciful.\\r\\n\\r\\nSHYLOCK.\\r\\nOn what compulsion must I? Tell me that.\\r\\n\\r\\nPORTIA.\\r\\nThe quality of mercy is not strain’d,\\r\\nIt droppeth as the gentle rain from heaven\\r\\nUpon the place beneath. It is twice blest,\\r\\nIt blesseth him that gives and him that takes.\\r\\n’Tis mightiest in the mightiest; it becomes\\r\\nThe throned monarch better than his crown.\\r\\nHis sceptre shows the force of temporal power,\\r\\nThe attribute to awe and majesty,\\r\\nWherein doth sit the dread and fear of kings;\\r\\nBut mercy is above this sceptred sway,\\r\\nIt is enthroned in the hearts of kings,\\r\\nIt is an attribute to God himself;\\r\\nAnd earthly power doth then show likest God’s\\r\\nWhen mercy seasons justice. Therefore, Jew,\\r\\nThough justice be thy plea, consider this,\\r\\nThat in the course of justice none of us\\r\\nShould see salvation. We do pray for mercy,\\r\\nAnd that same prayer doth teach us all to render\\r\\nThe deeds of mercy. I have spoke thus much\\r\\nTo mitigate the justice of thy plea,\\r\\nWhich if thou follow, this strict court of Venice\\r\\nMust needs give sentence ’gainst the merchant there.\\r\\n\\r\\nSHYLOCK.\\r\\nMy deeds upon my head! I crave the law,\\r\\nThe penalty and forfeit of my bond.\\r\\n\\r\\nPORTIA.\\r\\nIs he not able to discharge the money?\\r\\n\\r\\nBASSANIO.\\r\\nYes, here I tender it for him in the court,\\r\\nYea, twice the sum, if that will not suffice,\\r\\nI will be bound to pay it ten times o’er\\r\\nOn forfeit of my hands, my head, my heart.\\r\\nIf this will not suffice, it must appear\\r\\nThat malice bears down truth. And I beseech you,\\r\\nWrest once the law to your authority.\\r\\nTo do a great right, do a little wrong,\\r\\nAnd curb this cruel devil of his will.\\r\\n\\r\\nPORTIA.\\r\\nIt must not be, there is no power in Venice\\r\\nCan alter a decree established;\\r\\n’Twill be recorded for a precedent,\\r\\nAnd many an error by the same example\\r\\nWill rush into the state. It cannot be.\\r\\n\\r\\nSHYLOCK.\\r\\nA Daniel come to judgment! Yea, a Daniel!\\r\\nO wise young judge, how I do honour thee!\\r\\n\\r\\nPORTIA.\\r\\nI pray you let me look upon the bond.\\r\\n\\r\\nSHYLOCK.\\r\\nHere ’tis, most reverend doctor, here it is.\\r\\n\\r\\nPORTIA.\\r\\nShylock, there’s thrice thy money offered thee.\\r\\n\\r\\nSHYLOCK.\\r\\nAn oath, an oath! I have an oath in heaven.\\r\\nShall I lay perjury upon my soul?\\r\\nNo, not for Venice.\\r\\n\\r\\nPORTIA.\\r\\nWhy, this bond is forfeit,\\r\\nAnd lawfully by this the Jew may claim\\r\\nA pound of flesh, to be by him cut off\\r\\nNearest the merchant’s heart. Be merciful,\\r\\nTake thrice thy money; bid me tear the bond.\\r\\n\\r\\nSHYLOCK.\\r\\nWhen it is paid according to the tenour.\\r\\nIt doth appear you are a worthy judge;\\r\\nYou know the law; your exposition\\r\\nHath been most sound. I charge you by the law,\\r\\nWhereof you are a well-deserving pillar,\\r\\nProceed to judgment. By my soul I swear\\r\\nThere is no power in the tongue of man\\r\\nTo alter me. I stay here on my bond.\\r\\n\\r\\nANTONIO.\\r\\nMost heartily I do beseech the court\\r\\nTo give the judgment.\\r\\n\\r\\nPORTIA.\\r\\nWhy then, thus it is:\\r\\nYou must prepare your bosom for his knife.\\r\\n\\r\\nSHYLOCK.\\r\\nO noble judge! O excellent young man!\\r\\n\\r\\nPORTIA.\\r\\nFor the intent and purpose of the law\\r\\nHath full relation to the penalty,\\r\\nWhich here appeareth due upon the bond.\\r\\n\\r\\nSHYLOCK.\\r\\n’Tis very true. O wise and upright judge,\\r\\nHow much more elder art thou than thy looks!\\r\\n\\r\\nPORTIA.\\r\\nTherefore lay bare your bosom.\\r\\n\\r\\nSHYLOCK.\\r\\nAy, his breast\\r\\nSo says the bond, doth it not, noble judge?\\r\\n“Nearest his heart”: those are the very words.\\r\\n\\r\\nPORTIA.\\r\\nIt is so. Are there balance here to weigh\\r\\nThe flesh?\\r\\n\\r\\nSHYLOCK.\\r\\nI have them ready.\\r\\n\\r\\nPORTIA.\\r\\nHave by some surgeon, Shylock, on your charge,\\r\\nTo stop his wounds, lest he do bleed to death.\\r\\n\\r\\nSHYLOCK.\\r\\nIs it so nominated in the bond?\\r\\n\\r\\nPORTIA.\\r\\nIt is not so express’d, but what of that?\\r\\n’Twere good you do so much for charity.\\r\\n\\r\\nSHYLOCK.\\r\\nI cannot find it; ’tis not in the bond.\\r\\n\\r\\nPORTIA.\\r\\nYou, merchant, have you anything to say?\\r\\n\\r\\nANTONIO.\\r\\nBut little. I am arm’d and well prepar’d.\\r\\nGive me your hand, Bassanio. Fare you well,\\r\\nGrieve not that I am fallen to this for you,\\r\\nFor herein Fortune shows herself more kind\\r\\nThan is her custom: it is still her use\\r\\nTo let the wretched man outlive his wealth,\\r\\nTo view with hollow eye and wrinkled brow\\r\\nAn age of poverty, from which ling’ring penance\\r\\nOf such misery doth she cut me off.\\r\\nCommend me to your honourable wife,\\r\\nTell her the process of Antonio’s end,\\r\\nSay how I lov’d you, speak me fair in death.\\r\\nAnd when the tale is told, bid her be judge\\r\\nWhether Bassanio had not once a love.\\r\\nRepent but you that you shall lose your friend\\r\\nAnd he repents not that he pays your debt.\\r\\nFor if the Jew do cut but deep enough,\\r\\nI’ll pay it instantly with all my heart.\\r\\n\\r\\nBASSANIO.\\r\\nAntonio, I am married to a wife\\r\\nWhich is as dear to me as life itself,\\r\\nBut life itself, my wife, and all the world,\\r\\nAre not with me esteem’d above thy life.\\r\\nI would lose all, ay, sacrifice them all\\r\\nHere to this devil, to deliver you.\\r\\n\\r\\nPORTIA.\\r\\nYour wife would give you little thanks for that\\r\\nIf she were by to hear you make the offer.\\r\\n\\r\\nGRATIANO.\\r\\nI have a wife who I protest I love.\\r\\nI would she were in heaven, so she could\\r\\nEntreat some power to change this currish Jew.\\r\\n\\r\\nNERISSA.\\r\\n’Tis well you offer it behind her back,\\r\\nThe wish would make else an unquiet house.\\r\\n\\r\\nSHYLOCK.\\r\\nThese be the Christian husbands! I have a daughter—\\r\\nWould any of the stock of Barabbas\\r\\nHad been her husband, rather than a Christian!\\r\\nWe trifle time, I pray thee, pursue sentence.\\r\\n\\r\\nPORTIA.\\r\\nA pound of that same merchant’s flesh is thine,\\r\\nThe court awards it and the law doth give it.\\r\\n\\r\\nSHYLOCK.\\r\\nMost rightful judge!\\r\\n\\r\\nPORTIA.\\r\\nAnd you must cut this flesh from off his breast.\\r\\nThe law allows it and the court awards it.\\r\\n\\r\\nSHYLOCK.\\r\\nMost learned judge! A sentence! Come, prepare.\\r\\n\\r\\nPORTIA.\\r\\nTarry a little, there is something else.\\r\\nThis bond doth give thee here no jot of blood.\\r\\nThe words expressly are “a pound of flesh”:\\r\\nTake then thy bond, take thou thy pound of flesh,\\r\\nBut in the cutting it, if thou dost shed\\r\\nOne drop of Christian blood, thy lands and goods\\r\\nAre, by the laws of Venice, confiscate\\r\\nUnto the state of Venice.\\r\\n\\r\\nGRATIANO.\\r\\nO upright judge! Mark, Jew. O learned judge!\\r\\n\\r\\nSHYLOCK.\\r\\nIs that the law?\\r\\n\\r\\nPORTIA.\\r\\nThyself shalt see the act.\\r\\nFor, as thou urgest justice, be assur’d\\r\\nThou shalt have justice more than thou desir’st.\\r\\n\\r\\nGRATIANO.\\r\\nO learned judge! Mark, Jew, a learned judge!\\r\\n\\r\\nSHYLOCK.\\r\\nI take this offer then. Pay the bond thrice\\r\\nAnd let the Christian go.\\r\\n\\r\\nBASSANIO.\\r\\nHere is the money.\\r\\n\\r\\nPORTIA.\\r\\nSoft!\\r\\nThe Jew shall have all justice. Soft! no haste!\\r\\nHe shall have nothing but the penalty.\\r\\n\\r\\nGRATIANO.\\r\\nO Jew, an upright judge, a learned judge!\\r\\n\\r\\nPORTIA.\\r\\nTherefore prepare thee to cut off the flesh.\\r\\nShed thou no blood, nor cut thou less nor more,\\r\\nBut just a pound of flesh: if thou tak’st more\\r\\nOr less than a just pound, be it but so much\\r\\nAs makes it light or heavy in the substance,\\r\\nOr the division of the twentieth part\\r\\nOf one poor scruple, nay, if the scale do turn\\r\\nBut in the estimation of a hair,\\r\\nThou diest, and all thy goods are confiscate.\\r\\n\\r\\nGRATIANO.\\r\\nA second Daniel, a Daniel, Jew!\\r\\nNow, infidel, I have you on the hip.\\r\\n\\r\\nPORTIA.\\r\\nWhy doth the Jew pause? Take thy forfeiture.\\r\\n\\r\\nSHYLOCK.\\r\\nGive me my principal, and let me go.\\r\\n\\r\\nBASSANIO.\\r\\nI have it ready for thee. Here it is.\\r\\n\\r\\nPORTIA.\\r\\nHe hath refus’d it in the open court,\\r\\nHe shall have merely justice and his bond.\\r\\n\\r\\nGRATIANO.\\r\\nA Daniel still say I, a second Daniel!\\r\\nI thank thee, Jew, for teaching me that word.\\r\\n\\r\\nSHYLOCK.\\r\\nShall I not have barely my principal?\\r\\n\\r\\nPORTIA.\\r\\nThou shalt have nothing but the forfeiture\\r\\nTo be so taken at thy peril, Jew.\\r\\n\\r\\nSHYLOCK.\\r\\nWhy, then the devil give him good of it!\\r\\nI’ll stay no longer question.\\r\\n\\r\\nPORTIA.\\r\\nTarry, Jew.\\r\\nThe law hath yet another hold on you.\\r\\nIt is enacted in the laws of Venice,\\r\\nIf it be proved against an alien\\r\\nThat by direct or indirect attempts\\r\\nHe seek the life of any citizen,\\r\\nThe party ’gainst the which he doth contrive\\r\\nShall seize one half his goods; the other half\\r\\nComes to the privy coffer of the state,\\r\\nAnd the offender’s life lies in the mercy\\r\\nOf the Duke only, ’gainst all other voice.\\r\\nIn which predicament I say thou stand’st;\\r\\nFor it appears by manifest proceeding\\r\\nThat indirectly, and directly too,\\r\\nThou hast contrived against the very life\\r\\nOf the defendant; and thou hast incurr’d\\r\\nThe danger formerly by me rehears’d.\\r\\nDown, therefore, and beg mercy of the Duke.\\r\\n\\r\\nGRATIANO.\\r\\nBeg that thou mayst have leave to hang thyself,\\r\\nAnd yet, thy wealth being forfeit to the state,\\r\\nThou hast not left the value of a cord;\\r\\nTherefore thou must be hang’d at the state’s charge.\\r\\n\\r\\nDUKE.\\r\\nThat thou shalt see the difference of our spirit,\\r\\nI pardon thee thy life before thou ask it.\\r\\nFor half thy wealth, it is Antonio’s;\\r\\nThe other half comes to the general state,\\r\\nWhich humbleness may drive unto a fine.\\r\\n\\r\\nPORTIA.\\r\\nAy, for the state, not for Antonio.\\r\\n\\r\\nSHYLOCK.\\r\\nNay, take my life and all, pardon not that.\\r\\nYou take my house when you do take the prop\\r\\nThat doth sustain my house; you take my life\\r\\nWhen you do take the means whereby I live.\\r\\n\\r\\nPORTIA.\\r\\nWhat mercy can you render him, Antonio?\\r\\n\\r\\nGRATIANO.\\r\\nA halter gratis, nothing else, for God’s sake!\\r\\n\\r\\nANTONIO.\\r\\nSo please my lord the Duke and all the court\\r\\nTo quit the fine for one half of his goods,\\r\\nI am content, so he will let me have\\r\\nThe other half in use, to render it\\r\\nUpon his death unto the gentleman\\r\\nThat lately stole his daughter.\\r\\nTwo things provided more, that for this favour,\\r\\nHe presently become a Christian;\\r\\nThe other, that he do record a gift,\\r\\nHere in the court, of all he dies possess’d\\r\\nUnto his son Lorenzo and his daughter.\\r\\n\\r\\nDUKE.\\r\\nHe shall do this, or else I do recant\\r\\nThe pardon that I late pronounced here.\\r\\n\\r\\nPORTIA.\\r\\nArt thou contented, Jew? What dost thou say?\\r\\n\\r\\nSHYLOCK.\\r\\nI am content.\\r\\n\\r\\nPORTIA.\\r\\nClerk, draw a deed of gift.\\r\\n\\r\\nSHYLOCK.\\r\\nI pray you give me leave to go from hence;\\r\\nI am not well; send the deed after me\\r\\nAnd I will sign it.\\r\\n\\r\\nDUKE.\\r\\nGet thee gone, but do it.\\r\\n\\r\\nGRATIANO.\\r\\nIn christ’ning shalt thou have two god-fathers.\\r\\nHad I been judge, thou shouldst have had ten more,\\r\\nTo bring thee to the gallows, not to the font.\\r\\n\\r\\n [_Exit Shylock._]\\r\\n\\r\\nDUKE.\\r\\nSir, I entreat you home with me to dinner.\\r\\n\\r\\nPORTIA.\\r\\nI humbly do desire your Grace of pardon,\\r\\nI must away this night toward Padua,\\r\\nAnd it is meet I presently set forth.\\r\\n\\r\\nDUKE.\\r\\nI am sorry that your leisure serves you not.\\r\\nAntonio, gratify this gentleman,\\r\\nFor in my mind you are much bound to him.\\r\\n\\r\\n [_Exeunt Duke and his train._]\\r\\n\\r\\nBASSANIO.\\r\\nMost worthy gentleman, I and my friend\\r\\nHave by your wisdom been this day acquitted\\r\\nOf grievous penalties, in lieu whereof,\\r\\nThree thousand ducats due unto the Jew\\r\\nWe freely cope your courteous pains withal.\\r\\n\\r\\nANTONIO.\\r\\nAnd stand indebted, over and above\\r\\nIn love and service to you evermore.\\r\\n\\r\\nPORTIA.\\r\\nHe is well paid that is well satisfied,\\r\\nAnd I delivering you, am satisfied,\\r\\nAnd therein do account myself well paid,\\r\\nMy mind was never yet more mercenary.\\r\\nI pray you know me when we meet again,\\r\\nI wish you well, and so I take my leave.\\r\\n\\r\\nBASSANIO.\\r\\nDear sir, of force I must attempt you further.\\r\\nTake some remembrance of us as a tribute,\\r\\nNot as fee. Grant me two things, I pray you,\\r\\nNot to deny me, and to pardon me.\\r\\n\\r\\nPORTIA.\\r\\nYou press me far, and therefore I will yield.\\r\\n[_To Antonio_.] Give me your gloves, I’ll wear them for your sake.\\r\\n[_To Bassanio_.] And, for your love, I’ll take this ring from you.\\r\\nDo not draw back your hand; I’ll take no more,\\r\\nAnd you in love shall not deny me this.\\r\\n\\r\\nBASSANIO.\\r\\nThis ring, good sir? Alas, it is a trifle,\\r\\nI will not shame myself to give you this.\\r\\n\\r\\nPORTIA.\\r\\nI will have nothing else but only this,\\r\\nAnd now methinks I have a mind to it.\\r\\n\\r\\nBASSANIO.\\r\\nThere’s more depends on this than on the value.\\r\\nThe dearest ring in Venice will I give you,\\r\\nAnd find it out by proclamation,\\r\\nOnly for this I pray you pardon me.\\r\\n\\r\\nPORTIA.\\r\\nI see, sir, you are liberal in offers.\\r\\nYou taught me first to beg, and now methinks\\r\\nYou teach me how a beggar should be answer’d.\\r\\n\\r\\nBASSANIO.\\r\\nGood sir, this ring was given me by my wife,\\r\\nAnd when she put it on, she made me vow\\r\\nThat I should neither sell, nor give, nor lose it.\\r\\n\\r\\nPORTIA.\\r\\nThat ’scuse serves many men to save their gifts.\\r\\nAnd if your wife be not a mad-woman,\\r\\nAnd know how well I have deserv’d this ring,\\r\\nShe would not hold out enemy for ever\\r\\nFor giving it to me. Well, peace be with you!\\r\\n\\r\\n [_Exeunt Portia and Nerissa._]\\r\\n\\r\\nANTONIO.\\r\\nMy Lord Bassanio, let him have the ring.\\r\\nLet his deservings and my love withal\\r\\nBe valued ’gainst your wife’s commandment.\\r\\n\\r\\nBASSANIO.\\r\\nGo, Gratiano, run and overtake him;\\r\\nGive him the ring, and bring him if thou canst\\r\\nUnto Antonio’s house. Away, make haste.\\r\\n\\r\\n [_Exit Gratiano._]\\r\\n\\r\\nCome, you and I will thither presently,\\r\\nAnd in the morning early will we both\\r\\nFly toward Belmont. Come, Antonio.\\r\\n\\r\\n [_Exeunt._]\\r\\n\\r\\nSCENE II. The same. A street.\\r\\n\\r\\n Enter Portia and Nerissa.\\r\\n\\r\\nPORTIA.\\r\\nInquire the Jew’s house out, give him this deed,\\r\\nAnd let him sign it, we’ll away tonight,\\r\\nAnd be a day before our husbands home.\\r\\nThis deed will be well welcome to Lorenzo.\\r\\n\\r\\n Enter Gratiano.\\r\\n\\r\\nGRATIANO.\\r\\nFair sir, you are well o’erta’en.\\r\\nMy Lord Bassanio upon more advice,\\r\\nHath sent you here this ring, and doth entreat\\r\\nYour company at dinner.\\r\\n\\r\\nPORTIA.\\r\\nThat cannot be;\\r\\nHis ring I do accept most thankfully,\\r\\nAnd so I pray you tell him. Furthermore,\\r\\nI pray you show my youth old Shylock’s house.\\r\\n\\r\\nGRATIANO.\\r\\nThat will I do.\\r\\n\\r\\nNERISSA.\\r\\nSir, I would speak with you.\\r\\n[_Aside to Portia_.]\\r\\nI’ll see if I can get my husband’s ring,\\r\\nWhich I did make him swear to keep for ever.\\r\\n\\r\\nPORTIA.\\r\\n[_To Nerissa_.] Thou mayst, I warrant. We shall have old swearing\\r\\nThat they did give the rings away to men;\\r\\nBut we’ll outface them, and outswear them too.\\r\\nAway! make haste! Thou know’st where I will tarry.\\r\\n\\r\\nNERISSA.\\r\\nCome, good sir, will you show me to this house?\\r\\n\\r\\n [_Exeunt._]\\r\\n\\r\\n\\r\\nACT V\\r\\n\\r\\nSCENE I. Belmont. The avenue to Portia’s house.\\r\\n\\r\\n Enter Lorenzo and Jessica.\\r\\n\\r\\nLORENZO.\\r\\nThe moon shines bright. In such a night as this,\\r\\nWhen the sweet wind did gently kiss the trees,\\r\\nAnd they did make no noise, in such a night,\\r\\nTroilus methinks mounted the Trojan walls,\\r\\nAnd sigh’d his soul toward the Grecian tents\\r\\nWhere Cressid lay that night.\\r\\n\\r\\nJESSICA.\\r\\nIn such a night\\r\\nDid Thisby fearfully o’ertrip the dew,\\r\\nAnd saw the lion’s shadow ere himself,\\r\\nAnd ran dismay’d away.\\r\\n\\r\\nLORENZO.\\r\\nIn such a night\\r\\nStood Dido with a willow in her hand\\r\\nUpon the wild sea-banks, and waft her love\\r\\nTo come again to Carthage.\\r\\n\\r\\nJESSICA.\\r\\nIn such a night\\r\\nMedea gathered the enchanted herbs\\r\\nThat did renew old Æson.\\r\\n\\r\\nLORENZO.\\r\\nIn such a night\\r\\nDid Jessica steal from the wealthy Jew,\\r\\nAnd with an unthrift love did run from Venice\\r\\nAs far as Belmont.\\r\\n\\r\\nJESSICA.\\r\\nIn such a night\\r\\nDid young Lorenzo swear he loved her well,\\r\\nStealing her soul with many vows of faith,\\r\\nAnd ne’er a true one.\\r\\n\\r\\nLORENZO.\\r\\nIn such a night\\r\\nDid pretty Jessica, like a little shrew,\\r\\nSlander her love, and he forgave it her.\\r\\n\\r\\nJESSICA.\\r\\nI would out-night you did no body come;\\r\\nBut hark, I hear the footing of a man.\\r\\n\\r\\n Enter Stephano.\\r\\n\\r\\nLORENZO.\\r\\nWho comes so fast in silence of the night?\\r\\n\\r\\nSTEPHANO.\\r\\nA friend.\\r\\n\\r\\nLORENZO.\\r\\nA friend! What friend? Your name, I pray you, friend?\\r\\n\\r\\nSTEPHANO.\\r\\nStephano is my name, and I bring word\\r\\nMy mistress will before the break of day\\r\\nBe here at Belmont. She doth stray about\\r\\nBy holy crosses where she kneels and prays\\r\\nFor happy wedlock hours.\\r\\n\\r\\nLORENZO.\\r\\nWho comes with her?\\r\\n\\r\\nSTEPHANO.\\r\\nNone but a holy hermit and her maid.\\r\\nI pray you is my master yet return’d?\\r\\n\\r\\nLORENZO.\\r\\nHe is not, nor we have not heard from him.\\r\\nBut go we in, I pray thee, Jessica,\\r\\nAnd ceremoniously let us prepare\\r\\nSome welcome for the mistress of the house.\\r\\n\\r\\n Enter Launcelet.\\r\\n\\r\\nLAUNCELET. Sola, sola! wo ha, ho! sola, sola!\\r\\n\\r\\nLORENZO.\\r\\nWho calls?\\r\\n\\r\\nLAUNCELET.\\r\\nSola! Did you see Master Lorenzo? Master Lorenzo! Sola, sola!\\r\\n\\r\\nLORENZO.\\r\\nLeave holloaing, man. Here!\\r\\n\\r\\nLAUNCELET.\\r\\nSola! Where, where?\\r\\n\\r\\nLORENZO.\\r\\nHere!\\r\\n\\r\\nLAUNCELET.\\r\\nTell him there’s a post come from my master with his horn full of good\\r\\nnews. My master will be here ere morning.\\r\\n\\r\\n [_Exit._]\\r\\n\\r\\nLORENZO.\\r\\nSweet soul, let’s in, and there expect their coming.\\r\\nAnd yet no matter; why should we go in?\\r\\nMy friend Stephano, signify, I pray you,\\r\\nWithin the house, your mistress is at hand,\\r\\nAnd bring your music forth into the air.\\r\\n\\r\\n [_Exit Stephano._]\\r\\n\\r\\nHow sweet the moonlight sleeps upon this bank!\\r\\nHere will we sit and let the sounds of music\\r\\nCreep in our ears; soft stillness and the night\\r\\nBecome the touches of sweet harmony.\\r\\nSit, Jessica. Look how the floor of heaven\\r\\nIs thick inlaid with patens of bright gold.\\r\\nThere’s not the smallest orb which thou behold’st\\r\\nBut in his motion like an angel sings,\\r\\nStill quiring to the young-eyed cherubins;\\r\\nSuch harmony is in immortal souls,\\r\\nBut whilst this muddy vesture of decay\\r\\nDoth grossly close it in, we cannot hear it.\\r\\n\\r\\n Enter Musicians.\\r\\n\\r\\nCome, ho! and wake Diana with a hymn.\\r\\nWith sweetest touches pierce your mistress’ ear,\\r\\nAnd draw her home with music.\\r\\n\\r\\n [_Music._]\\r\\n\\r\\nJESSICA.\\r\\nI am never merry when I hear sweet music.\\r\\n\\r\\nLORENZO.\\r\\nThe reason is, your spirits are attentive.\\r\\nFor do but note a wild and wanton herd\\r\\nOr race of youthful and unhandled colts,\\r\\nFetching mad bounds, bellowing and neighing loud,\\r\\nWhich is the hot condition of their blood,\\r\\nIf they but hear perchance a trumpet sound,\\r\\nOr any air of music touch their ears,\\r\\nYou shall perceive them make a mutual stand,\\r\\nTheir savage eyes turn’d to a modest gaze\\r\\nBy the sweet power of music: therefore the poet\\r\\nDid feign that Orpheus drew trees, stones, and floods,\\r\\nSince naught so stockish, hard, and full of rage,\\r\\nBut music for the time doth change his nature.\\r\\nThe man that hath no music in himself,\\r\\nNor is not mov’d with concord of sweet sounds,\\r\\nIs fit for treasons, stratagems, and spoils;\\r\\nThe motions of his spirit are dull as night,\\r\\nAnd his affections dark as Erebus.\\r\\nLet no such man be trusted. Mark the music.\\r\\n\\r\\n Enter Portia and Nerissa.\\r\\n\\r\\nPORTIA.\\r\\nThat light we see is burning in my hall.\\r\\nHow far that little candle throws his beams!\\r\\nSo shines a good deed in a naughty world.\\r\\n\\r\\nNERISSA.\\r\\nWhen the moon shone we did not see the candle.\\r\\n\\r\\nPORTIA.\\r\\nSo doth the greater glory dim the less.\\r\\nA substitute shines brightly as a king\\r\\nUntil a king be by, and then his state\\r\\nEmpties itself, as doth an inland brook\\r\\nInto the main of waters. Music! hark!\\r\\n\\r\\nNERISSA.\\r\\nIt is your music, madam, of the house.\\r\\n\\r\\nPORTIA.\\r\\nNothing is good, I see, without respect.\\r\\nMethinks it sounds much sweeter than by day.\\r\\n\\r\\nNERISSA.\\r\\nSilence bestows that virtue on it, madam.\\r\\n\\r\\nPORTIA.\\r\\nThe crow doth sing as sweetly as the lark\\r\\nWhen neither is attended; and I think\\r\\nThe nightingale, if she should sing by day\\r\\nWhen every goose is cackling, would be thought\\r\\nNo better a musician than the wren.\\r\\nHow many things by season season’d are\\r\\nTo their right praise and true perfection!\\r\\nPeace! How the moon sleeps with Endymion,\\r\\nAnd would not be awak’d!\\r\\n\\r\\n [_Music ceases._]\\r\\n\\r\\nLORENZO.\\r\\nThat is the voice,\\r\\nOr I am much deceiv’d, of Portia.\\r\\n\\r\\nPORTIA.\\r\\nHe knows me as the blind man knows the cuckoo,\\r\\nBy the bad voice.\\r\\n\\r\\nLORENZO.\\r\\nDear lady, welcome home.\\r\\n\\r\\nPORTIA.\\r\\nWe have been praying for our husbands’ welfare,\\r\\nWhich speed, we hope, the better for our words.\\r\\nAre they return’d?\\r\\n\\r\\nLORENZO.\\r\\nMadam, they are not yet;\\r\\nBut there is come a messenger before\\r\\nTo signify their coming.\\r\\n\\r\\nPORTIA.\\r\\nGo in, Nerissa.\\r\\nGive order to my servants, that they take\\r\\nNo note at all of our being absent hence,\\r\\nNor you, Lorenzo; Jessica, nor you.\\r\\n\\r\\n [_A tucket sounds._]\\r\\n\\r\\nLORENZO.\\r\\nYour husband is at hand, I hear his trumpet.\\r\\nWe are no tell-tales, madam, fear you not.\\r\\n\\r\\nPORTIA.\\r\\nThis night methinks is but the daylight sick,\\r\\nIt looks a little paler. ’Tis a day\\r\\nSuch as the day is when the sun is hid.\\r\\n\\r\\n Enter Bassanio, Antonio, Gratiano and their Followers.\\r\\n\\r\\nBASSANIO.\\r\\nWe should hold day with the Antipodes,\\r\\nIf you would walk in absence of the sun.\\r\\n\\r\\nPORTIA.\\r\\nLet me give light, but let me not be light,\\r\\nFor a light wife doth make a heavy husband,\\r\\nAnd never be Bassanio so for me.\\r\\nBut God sort all! You are welcome home, my lord.\\r\\n\\r\\nBASSANIO.\\r\\nI thank you, madam. Give welcome to my friend.\\r\\nThis is the man, this is Antonio,\\r\\nTo whom I am so infinitely bound.\\r\\n\\r\\nPORTIA.\\r\\nYou should in all sense be much bound to him,\\r\\nFor, as I hear, he was much bound for you.\\r\\n\\r\\nANTONIO.\\r\\nNo more than I am well acquitted of.\\r\\n\\r\\nPORTIA.\\r\\nSir, you are very welcome to our house.\\r\\nIt must appear in other ways than words,\\r\\nTherefore I scant this breathing courtesy.\\r\\n\\r\\nGRATIANO.\\r\\n[_To Nerissa_.] By yonder moon I swear you do me wrong,\\r\\nIn faith, I gave it to the judge’s clerk.\\r\\nWould he were gelt that had it, for my part,\\r\\nSince you do take it, love, so much at heart.\\r\\n\\r\\nPORTIA.\\r\\nA quarrel, ho, already! What’s the matter?\\r\\n\\r\\nGRATIANO.\\r\\nAbout a hoop of gold, a paltry ring\\r\\nThat she did give me, whose posy was\\r\\nFor all the world like cutlers’ poetry\\r\\nUpon a knife, “Love me, and leave me not.”\\r\\n\\r\\nNERISSA.\\r\\nWhat talk you of the posy, or the value?\\r\\nYou swore to me when I did give it you,\\r\\nThat you would wear it till your hour of death,\\r\\nAnd that it should lie with you in your grave.\\r\\nThough not for me, yet for your vehement oaths,\\r\\nYou should have been respective and have kept it.\\r\\nGave it a judge’s clerk! No, God’s my judge,\\r\\nThe clerk will ne’er wear hair on’s face that had it.\\r\\n\\r\\nGRATIANO.\\r\\nHe will, and if he live to be a man.\\r\\n\\r\\nNERISSA.\\r\\nAy, if a woman live to be a man.\\r\\n\\r\\nGRATIANO.\\r\\nNow, by this hand, I gave it to a youth,\\r\\nA kind of boy, a little scrubbed boy,\\r\\nNo higher than thyself, the judge’s clerk,\\r\\nA prating boy that begg’d it as a fee,\\r\\nI could not for my heart deny it him.\\r\\n\\r\\nPORTIA.\\r\\nYou were to blame,—I must be plain with you,—\\r\\nTo part so slightly with your wife’s first gift,\\r\\nA thing stuck on with oaths upon your finger,\\r\\nAnd so riveted with faith unto your flesh.\\r\\nI gave my love a ring, and made him swear\\r\\nNever to part with it, and here he stands.\\r\\nI dare be sworn for him he would not leave it\\r\\nNor pluck it from his finger for the wealth\\r\\nThat the world masters. Now, in faith, Gratiano,\\r\\nYou give your wife too unkind a cause of grief,\\r\\nAn ’twere to me I should be mad at it.\\r\\n\\r\\nBASSANIO.\\r\\n[_Aside._] Why, I were best to cut my left hand off,\\r\\nAnd swear I lost the ring defending it.\\r\\n\\r\\nGRATIANO.\\r\\nMy Lord Bassanio gave his ring away\\r\\nUnto the judge that begg’d it, and indeed\\r\\nDeserv’d it too. And then the boy, his clerk,\\r\\nThat took some pains in writing, he begg’d mine,\\r\\nAnd neither man nor master would take aught\\r\\nBut the two rings.\\r\\n\\r\\nPORTIA.\\r\\nWhat ring gave you, my lord?\\r\\nNot that, I hope, which you receiv’d of me.\\r\\n\\r\\nBASSANIO.\\r\\nIf I could add a lie unto a fault,\\r\\nI would deny it, but you see my finger\\r\\nHath not the ring upon it, it is gone.\\r\\n\\r\\nPORTIA.\\r\\nEven so void is your false heart of truth.\\r\\nBy heaven, I will ne’er come in your bed\\r\\nUntil I see the ring.\\r\\n\\r\\nNERISSA.\\r\\nNor I in yours\\r\\nTill I again see mine!\\r\\n\\r\\nBASSANIO.\\r\\nSweet Portia,\\r\\nIf you did know to whom I gave the ring,\\r\\nIf you did know for whom I gave the ring,\\r\\nAnd would conceive for what I gave the ring,\\r\\nAnd how unwillingly I left the ring,\\r\\nWhen nought would be accepted but the ring,\\r\\nYou would abate the strength of your displeasure.\\r\\n\\r\\nPORTIA.\\r\\nIf you had known the virtue of the ring,\\r\\nOr half her worthiness that gave the ring,\\r\\nOr your own honour to contain the ring,\\r\\nYou would not then have parted with the ring.\\r\\nWhat man is there so much unreasonable,\\r\\nIf you had pleas’d to have defended it\\r\\nWith any terms of zeal, wanted the modesty\\r\\nTo urge the thing held as a ceremony?\\r\\nNerissa teaches me what to believe:\\r\\nI’ll die for’t but some woman had the ring.\\r\\n\\r\\nBASSANIO.\\r\\nNo, by my honour, madam, by my soul,\\r\\nNo woman had it, but a civil doctor,\\r\\nWhich did refuse three thousand ducats of me,\\r\\nAnd begg’d the ring, the which I did deny him,\\r\\nAnd suffer’d him to go displeas’d away,\\r\\nEven he that had held up the very life\\r\\nOf my dear friend. What should I say, sweet lady?\\r\\nI was enforc’d to send it after him.\\r\\nI was beset with shame and courtesy.\\r\\nMy honour would not let ingratitude\\r\\nSo much besmear it. Pardon me, good lady;\\r\\nFor by these blessed candles of the night,\\r\\nHad you been there, I think you would have begg’d\\r\\nThe ring of me to give the worthy doctor.\\r\\n\\r\\nPORTIA.\\r\\nLet not that doctor e’er come near my house,\\r\\nSince he hath got the jewel that I loved,\\r\\nAnd that which you did swear to keep for me,\\r\\nI will become as liberal as you,\\r\\nI’ll not deny him anything I have,\\r\\nNo, not my body, nor my husband’s bed.\\r\\nKnow him I shall, I am well sure of it.\\r\\nLie not a night from home. Watch me like Argus,\\r\\nIf you do not, if I be left alone,\\r\\nNow by mine honour which is yet mine own,\\r\\nI’ll have that doctor for mine bedfellow.\\r\\n\\r\\nNERISSA.\\r\\nAnd I his clerk. Therefore be well advis’d\\r\\nHow you do leave me to mine own protection.\\r\\n\\r\\nGRATIANO.\\r\\nWell, do you so. Let not me take him then,\\r\\nFor if I do, I’ll mar the young clerk’s pen.\\r\\n\\r\\nANTONIO.\\r\\nI am th’ unhappy subject of these quarrels.\\r\\n\\r\\nPORTIA.\\r\\nSir, grieve not you. You are welcome notwithstanding.\\r\\n\\r\\nBASSANIO.\\r\\nPortia, forgive me this enforced wrong,\\r\\nAnd in the hearing of these many friends\\r\\nI swear to thee, even by thine own fair eyes,\\r\\nWherein I see myself—\\r\\n\\r\\nPORTIA.\\r\\nMark you but that!\\r\\nIn both my eyes he doubly sees himself,\\r\\nIn each eye one. Swear by your double self,\\r\\nAnd there’s an oath of credit.\\r\\n\\r\\nBASSANIO.\\r\\nNay, but hear me.\\r\\nPardon this fault, and by my soul I swear\\r\\nI never more will break an oath with thee.\\r\\n\\r\\nANTONIO.\\r\\nI once did lend my body for his wealth,\\r\\nWhich but for him that had your husband’s ring\\r\\nHad quite miscarried. I dare be bound again,\\r\\nMy soul upon the forfeit, that your lord\\r\\nWill never more break faith advisedly.\\r\\n\\r\\nPORTIA.\\r\\nThen you shall be his surety. Give him this,\\r\\nAnd bid him keep it better than the other.\\r\\n\\r\\nANTONIO.\\r\\nHere, Lord Bassanio, swear to keep this ring.\\r\\n\\r\\nBASSANIO.\\r\\nBy heaven, it is the same I gave the doctor!\\r\\n\\r\\nPORTIA.\\r\\nI had it of him: pardon me, Bassanio,\\r\\nFor by this ring, the doctor lay with me.\\r\\n\\r\\nNERISSA.\\r\\nAnd pardon me, my gentle Gratiano,\\r\\nFor that same scrubbed boy, the doctor’s clerk,\\r\\nIn lieu of this, last night did lie with me.\\r\\n\\r\\nGRATIANO.\\r\\nWhy, this is like the mending of highways\\r\\nIn summer, where the ways are fair enough.\\r\\nWhat, are we cuckolds ere we have deserv’d it?\\r\\n\\r\\nPORTIA.\\r\\nSpeak not so grossly. You are all amaz’d.\\r\\nHere is a letter; read it at your leisure.\\r\\nIt comes from Padua from Bellario.\\r\\nThere you shall find that Portia was the doctor,\\r\\nNerissa there, her clerk. Lorenzo here\\r\\nShall witness I set forth as soon as you,\\r\\nAnd even but now return’d. I have not yet\\r\\nEnter’d my house. Antonio, you are welcome,\\r\\nAnd I have better news in store for you\\r\\nThan you expect: unseal this letter soon.\\r\\nThere you shall find three of your argosies\\r\\nAre richly come to harbour suddenly.\\r\\nYou shall not know by what strange accident\\r\\nI chanced on this letter.\\r\\n\\r\\nANTONIO.\\r\\nI am dumb.\\r\\n\\r\\nBASSANIO.\\r\\nWere you the doctor, and I knew you not?\\r\\n\\r\\nGRATIANO.\\r\\nWere you the clerk that is to make me cuckold?\\r\\n\\r\\nNERISSA.\\r\\nAy, but the clerk that never means to do it,\\r\\nUnless he live until he be a man.\\r\\n\\r\\nBASSANIO.\\r\\nSweet doctor, you shall be my bedfellow.\\r\\nWhen I am absent, then lie with my wife.\\r\\n\\r\\nANTONIO.\\r\\nSweet lady, you have given me life and living;\\r\\nFor here I read for certain that my ships\\r\\nAre safely come to road.\\r\\n\\r\\nPORTIA.\\r\\nHow now, Lorenzo!\\r\\nMy clerk hath some good comforts too for you.\\r\\n\\r\\nNERISSA.\\r\\nAy, and I’ll give them him without a fee.\\r\\nThere do I give to you and Jessica,\\r\\nFrom the rich Jew, a special deed of gift,\\r\\nAfter his death, of all he dies possess’d of.\\r\\n\\r\\nLORENZO.\\r\\nFair ladies, you drop manna in the way\\r\\nOf starved people.\\r\\n\\r\\nPORTIA.\\r\\nIt is almost morning,\\r\\nAnd yet I am sure you are not satisfied\\r\\nOf these events at full. Let us go in,\\r\\nAnd charge us there upon inter’gatories,\\r\\nAnd we will answer all things faithfully.\\r\\n\\r\\nGRATIANO.\\r\\nLet it be so. The first inter’gatory\\r\\nThat my Nerissa shall be sworn on is,\\r\\nWhether till the next night she had rather stay,\\r\\nOr go to bed now, being two hours to day.\\r\\nBut were the day come, I should wish it dark\\r\\nTill I were couching with the doctor’s clerk.\\r\\nWell, while I live, I’ll fear no other thing\\r\\nSo sore as keeping safe Nerissa’s ring.\\r\\n\\r\\n [_Exeunt._]\\r\\n\\r\\n'"
            ]
          },
          "metadata": {
            "tags": []
          },
          "execution_count": 170
        }
      ]
    },
    {
      "cell_type": "code",
      "metadata": {
        "id": "nKUifH2swaRj",
        "outputId": "1c956361-624d-4320-ee66-15f390b29ebf",
        "colab": {
          "base_uri": "https://localhost:8080/",
          "height": 34
        }
      },
      "source": [
        "chars = list(set(text))\n",
        "print ('{} unique characters'.format(len(vocab)))\n",
        "char_int = {u:i for i, u in enumerate(vocab)}\n",
        "int_char = {i:c for i, c in enumerate(chars)} "
      ],
      "execution_count": null,
      "outputs": [
        {
          "output_type": "stream",
          "text": [
            "74 unique characters\n"
          ],
          "name": "stdout"
        }
      ]
    },
    {
      "cell_type": "code",
      "metadata": {
        "id": "_asA0768qyrd",
        "outputId": "7b586860-67e2-4083-ce79-66e056d2aef9",
        "colab": {
          "base_uri": "https://localhost:8080/",
          "height": 34
        }
      },
      "source": [
        "textlength = len(df_toc['text'][df_toc['title'] == 'THE MERCHANT OF VENICE'].values[0])\n",
        "textlength"
      ],
      "execution_count": null,
      "outputs": [
        {
          "output_type": "execute_result",
          "data": {
            "text/plain": [
              "125434"
            ]
          },
          "metadata": {
            "tags": []
          },
          "execution_count": 172
        }
      ]
    },
    {
      "cell_type": "code",
      "metadata": {
        "id": "ftqx_qkyoUc5",
        "outputId": "5a3eb4e3-bba9-4f72-9b7f-31122779e8d7",
        "colab": {
          "base_uri": "https://localhost:8080/",
          "height": 34
        }
      },
      "source": [
        "maxlen = 40\n",
        "step = 5\n",
        "\n",
        "encoded = [char_int[c] for c in text]\n",
        "\n",
        "sequences = []\n",
        "next_char = []\n",
        "\n",
        "for i in range(0, len(encoded) - maxlen, step):\n",
        "    sequences.append(encoded[i : i + maxlen])\n",
        "    next_char.append(encoded[i + maxlen])\n",
        "    \n",
        "print('sequences: ', len(sequences))"
      ],
      "execution_count": null,
      "outputs": [
        {
          "output_type": "stream",
          "text": [
            "sequences:  25079\n"
          ],
          "name": "stdout"
        }
      ]
    },
    {
      "cell_type": "code",
      "metadata": {
        "id": "pTJhvz_WoMQO"
      },
      "source": [
        "x = np.zeros((len(sequences), maxlen, len(vocab)), dtype=np.bool)\n",
        "y = np.zeros((len(sequences),len(vocab)), dtype=np.bool)\n",
        "\n",
        "for i, sequence in enumerate(sequences):\n",
        "    for t, char in enumerate(sequence):\n",
        "        x[i,t,char] = 1\n",
        "    y[i, next_char[i]] = 1"
      ],
      "execution_count": null,
      "outputs": []
    },
    {
      "cell_type": "code",
      "metadata": {
        "id": "-tXgyPvu0yev"
      },
      "source": [
        "model = Sequential()\n",
        "model.add(layers.LSTM(128, input_shape=(maxlen, len(vocab))))\n",
        "model.add(layers.Dense(len(vocab), activation='softmax'))\n",
        "model.compile(optimizer='adam', loss='categorical_crossentropy')"
      ],
      "execution_count": null,
      "outputs": []
    },
    {
      "cell_type": "code",
      "metadata": {
        "id": "d_8AjaWCluLy"
      },
      "source": [
        "def sample(preds):\n",
        "    # helper function to sample an index from a probability array\n",
        "    preds = np.asarray(preds).astype('float64')\n",
        "    preds = np.log(preds) / 1\n",
        "    exp_preds = np.exp(preds)\n",
        "    preds = exp_preds / np.sum(exp_preds)\n",
        "    probas = np.random.multinomial(1, preds, 1)\n",
        "    return np.argmax(probas)"
      ],
      "execution_count": null,
      "outputs": []
    },
    {
      "cell_type": "code",
      "metadata": {
        "id": "ZS3afHpFj0QM"
      },
      "source": [
        "def on_epoch_end(epoch, _):\n",
        "    # Function invoked at end of each epoch. Prints generated text.\n",
        "    print()\n",
        "    print('----- Generating text after Epoch: %d' % epoch)\n",
        "\n",
        "    start_index = random.randint(0, len(text) - maxlen - 1)\n",
        "    \n",
        "    generated = ''\n",
        "    \n",
        "    sentence = text[start_index: start_index + maxlen]\n",
        "    generated += sentence\n",
        "    \n",
        "    print('----- Generating with seed: \"' + sentence + '\"')\n",
        "    print(generated)\n",
        "    \n",
        "    for i in range(400):\n",
        "        x_pred = np.zeros((1, maxlen, len(chars)))\n",
        "        for t, char in enumerate(sentence):\n",
        "            x_pred[0, t, char_int[char]] = 1\n",
        "            \n",
        "        preds = model.predict(x_pred, verbose=0)[0]\n",
        "        next_index = sample(preds)\n",
        "        next_char = int_char[next_index]\n",
        "        \n",
        "        sentence = sentence[1:] + next_char\n",
        "        \n",
        "    print(sentence)\n",
        "\n",
        "\n",
        "print_callback = LambdaCallback(on_epoch_end=on_epoch_end)"
      ],
      "execution_count": null,
      "outputs": []
    },
    {
      "cell_type": "code",
      "metadata": {
        "id": "vmd0-v-u1oew",
        "outputId": "508aceb1-fb2d-45f2-e484-adff34206a30",
        "colab": {
          "base_uri": "https://localhost:8080/",
          "height": 1000
        }
      },
      "source": [
        "history = model.fit(x, y, batch_size = 32, epochs=50, callbacks=[print_callback])"
      ],
      "execution_count": null,
      "outputs": [
        {
          "output_type": "stream",
          "text": [
            "Epoch 1/50\n",
            "784/784 [==============================] - ETA: 0s - loss: 2.4034\n",
            "----- Generating text after Epoch: 0\n",
            "----- Generating with seed: \" with the cause in controversy between t\"\n",
            ".’sæEcMæææprGJMG[GacMdFpEcMJæEnoaEoææ’EJ’EfærOTsMMs”G.’FæMMææ”æMMEa\n",
            "784/784 [==============================] - 49s 62ms/step - loss: 2.4034\n",
            "Epoch 2/50\n",
            "784/784 [==============================] - ETA: 0s - loss: 2.2403\n",
            "----- Generating text after Epoch: 1\n",
            "----- Generating with seed: \"with ornament.\n",
            "In law, what plea so tai\"\n",
            "with ornament.\n",
            ".’pæPLJMWGMkEkaa_zM,æ”ELæWFæEæM”æ_MJM_ctGG\n",
            "784/784 [==============================] - 50s 63ms/step - loss: 2.2403\n",
            "Epoch 3/50\n",
            "784/784 [==============================] - ETA: 0s - loss: 2.1353\n",
            "----- Generating text after Epoch: 2\n",
            "----- Generating with seed: \"n’s son”—or rather an honest woman’s son\"\n",
            ".’\n",
            ".’mæ”æhMMzGFJMFRGæ’_”ææ’œMPæeEnzJæBæQ”sææhQfæææEæ’__æ”æ’LJMaFcJ”’PQy”’cJF[æfQR’P”æEa__M”æF[”fG:”æ’”æRJM’_yæMGæJF[hMJMG”HG[hMGJFMJMYrMPcGQFaaænæœ_WFJMæMMMGGæPJrQfFJMYFG[sMG[MJMMFFsQQæM’L”?’_’_”ææ’Gæ_Eyæ__CGæOkæ”QQfæG[MFP:MiEazEhOææ_CœMGG lFJFæ””QQQæFEJCGææ’cLJcL!Z’MQJG[hFG[!O[FææF”MPO[hMGfsFMFcFFJæQ_hMRæ’_Qææ’a[EæMP”hFAacQ’Mæ”MGææ’_tæfc\n",
            "784/784 [==============================] - 50s 63ms/step - loss: 2.1353\n",
            "Epoch 4/50\n",
            "783/784 [============================>.] - ETA: 0s - loss: 2.0520\n",
            "----- Generating text after Epoch: 3\n",
            "----- Generating with seed: \"u call’d me dog; and for these courtesie\"\n",
            "u call’d me dog; and for these courtesieF]æ]’’csæFLtMGæQFFF[æEacMæWFJGRPe[MFGGFMGMFJMEMPFG[FFGGN GFGLFJæEMEJÆ”’Eææ’Eæy’E[dJ’Ep[GGGxFFGFPFG!.’[hF[MG[A cGMFJMGMPGJF]G’.’_MJhFGQQsUi\n",
            ".’EaæPOaPæ”_EscJdMPGæ[hFMJFGMEGRfJF:’_”QrP”EfææB’pGJMP\n",
            "784/784 [==============================] - 49s 63ms/step - loss: 2.0521\n",
            "Epoch 5/50\n",
            "783/784 [============================>.] - ETA: 0s - loss: 1.9808\n",
            "----- Generating text after Epoch: 4\n",
            "----- Generating with seed: \"lover of my lord your husband,\n",
            "I know y\"\n",
            "lover of my lord your husband,\n",
            ".’G”æ’ææææ’_’_æWsJMJMGJæWcGcpFG[F[æG[æ’cFG[MGcsFFG[hEEiT’PJMoactQfLJMFæk]’_E”’E’_æ.’’LætæR“aa[æNGJhMJMwFGG[UGxJJGLGJMFFMG[œMG[œWFFFæMmP”i_’_?æ’_æ’ææ’_æ”hQæææ’_GææOW[æPJMcxF\n",
            "784/784 [==============================] - 50s 63ms/step - loss: 1.9804\n",
            "Epoch 6/50\n",
            "784/784 [==============================] - ETA: 0s - loss: 1.9208\n",
            "----- Generating text after Epoch: 5\n",
            "----- Generating with seed: \"atitude\n",
            "So much besmear it. Pardon me, \"\n",
            "atitude\n",
            "So much besmear it. Pardon me, GFG[hFJMLof_ME’EfQ[h”’_Eæ’_’_JG[[Z\n",
            ".’_æMJMFG[pFJMG[wFUsJMG[hFFJMG[hFJ[kFp[GrMæEacMGUcJGWFG”æQQæææc”JMEacGæTQæ’Eæ?’œ’ic””æiczJMe_\n",
            "784/784 [==============================] - 50s 64ms/step - loss: 1.9208\n",
            "Epoch 7/50\n",
            "784/784 [==============================] - ETA: 0s - loss: 1.8655\n",
            "----- Generating text after Epoch: 6\n",
            "----- Generating with seed: \"hall e’er be guilty of my stay,\n",
            "Nor res\"\n",
            "hall e’er be guilty of my stay,\n",
            ".skGGJMJFp[GG[FGJMFFFJMs””MJJOactGJMkGJMGæiaQ”ææ’Eæ’næææ’_ææiLczJMFWFJMGæEaRctJGQæ—Qctæ[hJGæ”’EæQoæ\n",
            "784/784 [==============================] - 51s 65ms/step - loss: 1.8655\n",
            "Epoch 8/50\n",
            "784/784 [==============================] - ETA: 0s - loss: 1.8143\n",
            "----- Generating text after Epoch: 7\n",
            "----- Generating with seed: \"r “good Launcelet\n",
            "Gobbo, use your legs,\"\n",
            "r “good Launcelet\n",
            ".’eEæIææ””æE_”ææ’_dææ’EccGJGxFJM!æ’oæææ’_pJMMPJMeFGJMfrGLGJGpLJGpGMCiEactæ““yQMFJGJEQæE”Qæ’]”\n",
            "784/784 [==============================] - 52s 66ms/step - loss: 1.8143\n",
            "Epoch 9/50\n",
            "784/784 [==============================] - ETA: 0s - loss: 1.7704\n",
            "----- Generating text after Epoch: 8\n",
            "----- Generating with seed: \"me example\n",
            "Will rush into the state. It\"\n",
            "me example\n",
            ".hRo”æ’EJMæFtJM\n",
            "eæE”_CMæEsææ!’”ææ_CJJl\n",
            "784/784 [==============================] - 50s 63ms/step - loss: 1.7704\n",
            "Epoch 10/50\n",
            "784/784 [==============================] - ETA: 0s - loss: 1.7281\n",
            "----- Generating text after Epoch: 9\n",
            "----- Generating with seed: \"titution\n",
            "Of any constant man. What, wor\"\n",
            "titution\n",
            ".’”æLæMGGxeE[GRGdæNJON!’æ’EææQG[hJMeaEEkQE”QtOæ’œæ’_LææyQpJM\n",
            "784/784 [==============================] - 50s 63ms/step - loss: 1.7281\n",
            "Epoch 11/50\n",
            "784/784 [==============================] - ETA: 0s - loss: 1.6885\n",
            "----- Generating text after Epoch: 10\n",
            "----- Generating with seed: \" thought\n",
            "No better a musician than the \"\n",
            " thought\n",
            ".’ p[hF[fM\n",
            "784/784 [==============================] - 50s 63ms/step - loss: 1.6885\n",
            "Epoch 12/50\n",
            "783/784 [============================>.] - ETA: 0s - loss: 1.6498\n",
            "----- Generating text after Epoch: 11\n",
            "----- Generating with seed: \"\n",
            "had a title good enough to keep his na\"\n",
            "\n",
            ".’æZMæ””LJGxMEacMLGxFWFæ”æ’acJækRFG[hGOcEFGJMO”—OaE[hRJ !æZOccOJMO\n",
            "784/784 [==============================] - 49s 62ms/step - loss: 1.6496\n",
            "Epoch 13/50\n",
            "783/784 [============================>.] - ETA: 0s - loss: 1.6116\n",
            "----- Generating text after Epoch: 12\n",
            "----- Generating with seed: \" a text,\n",
            "Hiding the grossness with fair\"\n",
            " a text,\n",
            ".œ!l:ææ’’McæQMEazMæ’MG[[hxJMfEh’hQæhcGJxc!æCtQfæh’Ræ’wMP[hœOææ’_”ææncG”\n",
            "784/784 [==============================] - 48s 61ms/step - loss: 1.6115\n",
            "Epoch 14/50\n",
            "784/784 [==============================] - ETA: 0s - loss: 1.5739\n",
            "----- Generating text after Epoch: 13\n",
            "----- Generating with seed: \"ing in the world\n",
            "Could turn so much the\"\n",
            "ing in the world\n",
            ".æ’oEiccJMGxGJCoQmGtJROQEaPJ“kFM[GpFJMFQFF[G[hFGxGFGGJMEGxsQMG[hGEEQææCæ\n",
            "784/784 [==============================] - 48s 61ms/step - loss: 1.5739\n",
            "Epoch 15/50\n",
            "784/784 [==============================] - ETA: 0s - loss: 1.5366\n",
            "----- Generating text after Epoch: 14\n",
            "----- Generating with seed: \"mine.\n",
            "I tell thee, lady, this aspect of\"\n",
            "mine.\n",
            ".wLJlkk!æ’qfLGczJMkæ’Eæ’k’E[hæEacJMPGxaaEEæ\n",
            "784/784 [==============================] - 48s 62ms/step - loss: 1.5366\n",
            "Epoch 16/50\n",
            "784/784 [==============================] - ETA: 0s - loss: 1.4980\n",
            "----- Generating text after Epoch: 15\n",
            "----- Generating with seed: \"ith concord of sweet sounds,\n",
            "Is fit for\"\n",
            "ith concord of sweet sounds,\n",
            "\n",
            "784/784 [==============================] - 48s 61ms/step - loss: 1.4980\n",
            "Epoch 17/50\n",
            "783/784 [============================>.] - ETA: 0s - loss: 1.4634\n",
            "----- Generating text after Epoch: 16\n",
            "----- Generating with seed: \"ve to you,\n",
            "I freely told you all the we\"\n",
            "ve to you,\n",
            ".æ   ææssFG[TsFG[o—Eæææ’oæEææyæctJMMF!MFFMO\n",
            "784/784 [==============================] - 48s 62ms/step - loss: 1.4632\n",
            "Epoch 18/50\n",
            "784/784 [==============================] - ETA: 0s - loss: 1.4271\n",
            "----- Generating text after Epoch: 17\n",
            "\"\n",
            ".’osUæELæx,æTtpGMGx\n",
            "EacMæQ’O”æ\n",
            "784/784 [==============================] - 48s 61ms/step - loss: 1.4271\n",
            "Epoch 19/50\n",
            "784/784 [==============================] - ETA: 0s - loss: 1.3878\n",
            "----- Generating text after Epoch: 18\n",
            "----- Generating with seed: \"Fled with a Christian! O my Christian du\"\n",
            ". dæpG[o\n",
            "784/784 [==============================] - 49s 62ms/step - loss: 1.3878\n",
            "Epoch 20/50\n",
            "784/784 [==============================] - ETA: 0s - loss: 1.3517\n",
            "----- Generating text after Epoch: 19\n",
            "----- Generating with seed: \"ent in the search. Why, thou—loss upon l\"\n",
            ".—Z tOæ’’Esæ”.’’æMPOxcMG[h!æCæOœææææoo!æ’e[æEœct”MMEGF\n",
            "784/784 [==============================] - 52s 67ms/step - loss: 1.3517\n",
            "Epoch 21/50\n",
            "784/784 [==============================] - ETA: 0s - loss: 1.3130\n",
            "----- Generating text after Epoch: 20\n",
            "----- Generating with seed: \"e so again,\n",
            "To spet on thee again, to s\"\n",
            "e so again,\n",
            "To spet on thee again, to sFJMpMGJM’ELJM’EL’\n",
            ".æ—yæ’ææhoWtæPoa_tææ“dææ’EæGx!æOœ””_s”POx OxF\n",
            "784/784 [==============================] - 48s 61ms/step - loss: 1.3130\n",
            "Epoch 22/50\n",
            "784/784 [==============================] - ETA: 0s - loss: 1.2718\n",
            "----- Generating text after Epoch: 21\n",
            "----- Generating with seed: \"ent! Let me see.\n",
            "I will survey the insc\"\n",
            "ent! Let me see.\n",
            ".æwGæOœkææ’EdQop’’ct”MJQe””RPGJlxFæR””O!””E”æ!æ’œææ’ZJMkEFF[FGxiEa”RO”O””æ\n",
            "784/784 [==============================] - 48s 62ms/step - loss: 1.2718\n",
            "Epoch 23/50\n",
            "784/784 [==============================] - ETA: 0s - loss: 1.2360\n",
            "----- Generating text after Epoch: 22\n",
            "----- Generating with seed: \"Solanio.\n",
            "\n",
            "SALARINO.\n",
            "Why, man, I saw B\"\n",
            "Solanio.\n",
            "\n",
            "SALARINO.\n",
            ".æoZLæ[loLFFG”)”F”LOxæGhgO”æO”æOææ”æœOœQQQPJlFJM’E”kMGGxqeæs””NO”æO”æææeMMG[!O ! —ææ’eæ[\n",
            "784/784 [==============================] - 48s 61ms/step - loss: 1.2360\n",
            "Epoch 24/50\n",
            "784/784 [==============================] - ETA: 0s - loss: 1.1936\n",
            "----- Generating text after Epoch: 23\n",
            "----- Generating with seed: \" you are merry\n",
            "Because you are not sad.\"\n",
            " you are merry\n",
            ".’ææ’LO[””OQ’!FæPO””Q””:EaacMæ.æ’æ’fæ[”oJMæEqfMG[hMFG”æ’EEEs”æia”Eæækæeæ’p”iYO””æiJMFG”eE”æ”R’eEpæRæ’opæRææoaæ”æEacMææoa_”æO”eæææ!NOx!Oœ!’oæ\n",
            "784/784 [==============================] - 49s 62ms/step - loss: 1.1936\n",
            "Epoch 25/50\n",
            "784/784 [==============================] - ETA: 0s - loss: 1.1525\n",
            "----- Generating text after Epoch: 24\n",
            "----- Generating with seed: \"ses, healed by the same\n",
            "means, warmed a\"\n",
            "ses, healed by the same\n",
            ".hæ””O””O”ææ’of”[zJMPOasFæ.C’”f”WORæ’æ’pMP[(oaE””Oi”æGONO”æO”\n",
            "784/784 [==============================] - 48s 62ms/step - loss: 1.1525\n",
            "Epoch 26/50\n",
            "784/784 [==============================] - ETA: 0s - loss: 1.1157\n",
            "----- Generating text after Epoch: 25\n",
            "----- Generating with seed: \"lf in use, to render it\n",
            "Upon his death \"\n",
            "lf in use, to render it\n",
            ".h“O””LO[æ!æ’”Oæia”EazJ”””EafJMfGp[JMFFGE_CJ””Ea\n",
            "784/784 [==============================] - 48s 61ms/step - loss: 1.1157\n",
            "Epoch 27/50\n",
            "783/784 [============================>.] - ETA: 0s - loss: 1.0766\n",
            "----- Generating text after Epoch: 26\n",
            "----- Generating with seed: \"eed in a naughty world.\n",
            "\n",
            "NERISSA.\n",
            "Whe\"\n",
            "eed in a naughty world.\n",
            "\n",
            "NERISSA.\n",
            ".æ’eL”æOææ’E””æE”æ\n",
            ".’!’o””ææ’oiEicJ\n",
            "784/784 [==============================] - 47s 60ms/step - loss: 1.0766\n",
            "Epoch 28/50\n",
            "783/784 [============================>.] - ETA: 0s - loss: 1.0377\n",
            "----- Generating text after Epoch: 27\n",
            "----- Generating with seed: \"uncelet, soon at supper shalt thou see\n",
            "\"\n",
            "uncelet, soon at supper shalt thou see\n",
            "e!æ!\n",
            "784/784 [==============================] - 47s 59ms/step - loss: 1.0379\n",
            "Epoch 29/50\n",
            "784/784 [==============================] - ETA: 0s - loss: 0.9959\n",
            "----- Generating text after Epoch: 28\n",
            "----- Generating with seed: \" here hard by,\n",
            "To know your answer, whe\"\n",
            " here hard by,\n",
            ".k!k OœæMPOœ!O”OOQææ’oEE”””ææ”æœqkof”MzGJMk”\n",
            "784/784 [==============================] - 47s 60ms/step - loss: 0.9959\n",
            "Epoch 30/50\n",
            "783/784 [============================>.] - ETA: 0s - loss: 0.9583\n",
            "----- Generating text after Epoch: 29\n",
            "----- Generating with seed: \" of his.\n",
            "\n",
            "DUKE.\n",
            "Go one and call the J\"\n",
            " of his.\n",
            "\n",
            "DUKE.\n",
            ".œkJMGO”eE”æ”æeææ’oi__OœæMGJMOx\n",
            "784/784 [==============================] - 47s 59ms/step - loss: 0.9579\n",
            "Epoch 31/50\n",
            "784/784 [==============================] - ETA: 0s - loss: 0.9197\n",
            "----- Generating text after Epoch: 30\n",
            "----- Generating with seed: \"there before thee.\n",
            "\n",
            "BALTHAZAR.\n",
            "Madam,\"\n",
            "there before thee.\n",
            "\n",
            "BALTHAZAR.\n",
            ".’kæhææ’ææ’LMG”!EOœ!QOO””JO !O æaFtM[æ!ææOææiLOp[DO”O”æ’E”æ!’ææ”æ’kpp[[hMF”ctæM”FGO”æO”æOæœæææ!Oæo’Ei!æ’_iEaaQææ’_”pJMO”kO”æE\n",
            "784/784 [==============================] - 47s 60ms/step - loss: 0.9197\n",
            "Epoch 32/50\n",
            "784/784 [==============================] - ETA: 0s - loss: 0.8801\n",
            "----- Generating text after Epoch: 31\n",
            "----- Generating with seed: \"ier teach twenty what were\n",
            "good to be d\"\n",
            "ier teach twenty what were\n",
            ".hæ’Mp[_e[ææO”æO”NO”LJMFO —sæMoLJO”O””E””!æk’ofæfRFJMJMFæt”Q””Eaiac\n",
            "784/784 [==============================] - 47s 61ms/step - loss: 0.8801\n",
            "Epoch 33/50\n",
            "784/784 [==============================] - ETA: 0s - loss: 0.8457\n",
            "----- Generating text after Epoch: 32\n",
            "----- Generating with seed: \"ith you, and so now I speak my agitation\"\n",
            ".’O”!æ””O”!O”\n",
            "784/784 [==============================] - 51s 65ms/step - loss: 0.8457\n",
            "Epoch 34/50\n",
            "784/784 [==============================] - ETA: 0s - loss: 0.8141\n",
            "----- Generating text after Epoch: 33\n",
            "----- Generating with seed: \"learning (the\n",
            "greatness whereof I canno\"\n",
            "learning (the\n",
            "\n",
            "784/784 [==============================] - 48s 61ms/step - loss: 0.8141\n",
            "Epoch 35/50\n",
            "784/784 [==============================] - ETA: 0s - loss: 0.7773\n",
            "----- Generating text after Epoch: 34\n",
            "----- Generating with seed: \"’s belly! The Moor is with child by you,\"\n",
            ".k!æ’oLæ[hZO”\n",
            "784/784 [==============================] - 47s 60ms/step - loss: 0.7773\n",
            "Epoch 36/50\n",
            "784/784 [==============================] - ETA: 0s - loss: 0.7497\n",
            "----- Generating text after Epoch: 35\n",
            "----- Generating with seed: \"ere with us in Venice.\n",
            "If I can catch h\"\n",
            "ere with us in Venice.\n",
            ".’\n",
            "784/784 [==============================] - 47s 60ms/step - loss: 0.7497\n",
            "Epoch 37/50\n",
            "784/784 [==============================] - ETA: 0s - loss: 0.7204\n",
            "----- Generating text after Epoch: 36\n",
            "----- Generating with seed: \"ncelet\n",
            "Gobbo, use your legs, take the s\"\n",
            "ncelet\n",
            ".YæJ”æk’oæ\n",
            "784/784 [==============================] - 47s 59ms/step - loss: 0.7204\n",
            "Epoch 38/50\n",
            "783/784 [============================>.] - ETA: 0s - loss: 0.6896\n",
            "----- Generating text after Epoch: 37\n",
            "----- Generating with seed: \"LAUNCELET.\n",
            "But I pray you, _ergo_, old \"\n",
            "LAUNCELET.\n",
            ".æ’æk”æO”æ—eæiaLEæx\n",
            ".’o LJMPMFGFGO””O”æZQO”æ’’cLJMæ’E”””Oæ’_\n",
            ".’RlGO”””æfFGxMFGx””O”æ”.æ’kæo]æ’ææ”\n",
            "784/784 [==============================] - 47s 60ms/step - loss: 0.6897\n",
            "Epoch 39/50\n",
            "783/784 [============================>.] - ETA: 0s - loss: 0.6601\n",
            "----- Generating text after Epoch: 38\n",
            "----- Generating with seed: \"fully.\n",
            "\n",
            "GRATIANO.\n",
            "Let it be so. The f\"\n",
            "fully.\n",
            "\n",
            "GRATIANO.\n",
            ".BMkaLMMPGJP””O””æO”æ”æZO”æ!æ\n",
            "784/784 [==============================] - 47s 60ms/step - loss: 0.6599\n",
            "Epoch 40/50\n",
            "783/784 [============================>.] - ETA: 0s - loss: 0.6367\n",
            "----- Generating text after Epoch: 39\n",
            "----- Generating with seed: \"ubt never be chosen by any rightly but o\"\n",
            ".hMxMGQ!O””EFæ’M”ExMF!æ’RFGxM\n",
            "784/784 [==============================] - 46s 59ms/step - loss: 0.6370\n",
            "Epoch 41/50\n",
            "784/784 [==============================] - ETA: 0s - loss: 0.6094\n",
            "----- Generating text after Epoch: 40\n",
            "----- Generating with seed: \"PORTIA.\n",
            "Good sentences, and well pronou\"\n",
            "PORTIA.\n",
            ".æCYaaaasQF[æ[æYJM”sEacE”””æOææ’_oœ”o”æo[æ!xeYJOeQ!’E”””PO”LO””OO”æ’M”aaaaaæææ’_œ”ææ”æoœ!æhoLOyQQofFPO[CJ”eEE”kiin”””LG[hMJM”!’\n",
            "784/784 [==============================] - 54s 69ms/step - loss: 0.6094\n",
            "Epoch 42/50\n",
            "784/784 [==============================] - ETA: 0s - loss: 0.5917\n",
            "----- Generating text after Epoch: 41\n",
            "----- Generating with seed: \"eing more\n",
            "than sand-blind, high-gravel \"\n",
            "eing more\n",
            ".NMG[œe[æ”O””æGGxG[GxqOPFFFOæ’o”æ’’’ææRC’RFæGæ’o””æO”ææ’Eœ”O’ !’o—ææ’æ’ooL”ofFF[zJFkl’EEæ’Ræ’(oazG”æEEac””oeææ’Eææ!Oæ’LopMF[xFFsE’EECC””LOa!ææ’kææ’’e[ææoLofæccGxBMFFGO”æOææ’ep”æ_MPO”E”æO[’(MLGx—ExFF[hMGxExO”Ox’”””O”ææ’\n",
            "784/784 [==============================] - 50s 63ms/step - loss: 0.5917\n",
            "Epoch 43/50\n",
            "784/784 [==============================] - ETA: 0s - loss: 0.5636\n",
            "----- Generating text after Epoch: 42\n",
            "----- Generating with seed: \"ur mouths.\n",
            "\n",
            "ANTONIO.\n",
            "Shylock, albeit \"\n",
            "ur mouths.\n",
            "\n",
            "ANTONIO.\n",
            ".hCLJMFFFææC””OE!’Eæ’Rfæ!’æxcMLMx!E!  eæææ’sææ’E[h”O”!\n",
            "784/784 [==============================] - 50s 64ms/step - loss: 0.5636\n",
            "Epoch 44/50\n",
            "784/784 [==============================] - ETA: 0s - loss: 0.5476\n",
            "----- Generating text after Epoch: 43\n",
            "----- Generating with seed: \" your daughter for a monkey.\n",
            "\n",
            "SHYLOCK.\"\n",
            " your daughter for a monkey.\n",
            "\n",
            "h””O aææ’’MQæ[’(JM”O””E”æ’_kRæ’kR””oEæ’oæææ’\n",
            "784/784 [==============================] - 48s 61ms/step - loss: 0.5476\n",
            "Epoch 45/50\n",
            "784/784 [==============================] - ETA: 0s - loss: 0.5313\n",
            "----- Generating text after Epoch: 44\n",
            "----- Generating with seed: \"e trunks of men. Thy currish spirit\n",
            "Gov\"\n",
            "e trunks of men. Thy currish spirit\n",
            ".ikæææ’æææoæ’ pJMP\n",
            "784/784 [==============================] - 50s 63ms/step - loss: 0.5313\n",
            "Epoch 46/50\n",
            "784/784 [==============================] - ETA: 0s - loss: 0.5130\n",
            "----- Generating text after Epoch: 45\n",
            "----- Generating with seed: \"ia’s house.\n",
            "\n",
            " Enter Portia, Nerissa, L\"\n",
            "ia’s house.\n",
            "\n",
            ".hCeaaa_iaiW”æctæPEYJMfffFFGææ’’_””æEaEEæRCO”YJMEEas””æExæ\n",
            "784/784 [==============================] - 47s 60ms/step - loss: 0.5130\n",
            "Epoch 47/50\n",
            "784/784 [==============================] - ETA: 0s - loss: 0.4974\n",
            "----- Generating text after Epoch: 46\n",
            "----- Generating with seed: \"ut come, I’ll tell thee all my whole dev\"\n",
            ".kClGJl_””EEaamicMæPttFP[æ”FG[hJ!Eœ”RGxæ’\n",
            "784/784 [==============================] - 47s 60ms/step - loss: 0.4974\n",
            "Epoch 48/50\n",
            "784/784 [==============================] - ETA: 0s - loss: 0.4838\n",
            "----- Generating text after Epoch: 47\n",
            "----- Generating with seed: \" ever run before the clock.\n",
            "\n",
            "SALARINO.\"\n",
            " ever run before the clock.\n",
            "\n",
            ".’kæ[ClLOE!’EiEE[””eLGqFFFF!æNcO”O —ææOæO”æN”O cGF[[xFFFffæ’’E””Oææ’Oææææ\n",
            "784/784 [==============================] - 47s 60ms/step - loss: 0.4838\n",
            "Epoch 49/50\n",
            "784/784 [==============================] - ETA: 0s - loss: 0.4629\n",
            "----- Generating text after Epoch: 48\n",
            "----- Generating with seed: \"e. Antonio, you are welcome,\n",
            "And I have\"\n",
            "e. Antonio, you are welcome,\n",
            "(œY\n",
            "784/784 [==============================] - 47s 60ms/step - loss: 0.4629\n",
            "Epoch 50/50\n",
            "784/784 [==============================] - ETA: 0s - loss: 0.4451\n",
            "----- Generating text after Epoch: 49\n",
            "----- Generating with seed: \"it.\n",
            "\n",
            "GRATIANO.\n",
            "He will, and if he liv\"\n",
            "it.\n",
            "\n",
            "GRATIANO.\n",
            "BLJlkQQQEa”””æ’’L[”oLicQFF!æ’C\n",
            "784/784 [==============================] - 47s 60ms/step - loss: 0.4451\n"
          ],
          "name": "stdout"
        }
      ]
    },
    {
      "cell_type": "markdown",
      "metadata": {
        "id": "zE4a4O7Bp5x1"
      },
      "source": [
        "# Resources and Stretch Goals"
      ]
    },
    {
      "cell_type": "markdown",
      "metadata": {
        "id": "uT3UV3gap9H6"
      },
      "source": [
        "## Stretch goals:\n",
        "- Refine the training and generation of text to be able to ask for different genres/styles of Shakespearean text (e.g. plays versus sonnets)\n",
        "- Train a classification model that takes text and returns which work of Shakespeare it is most likely to be from\n",
        "- Make it more performant! Many possible routes here - lean on Keras, optimize the code, and/or use more resources (AWS, etc.)\n",
        "- Revisit the news example from class, and improve it - use categories or tags to refine the model/generation, or train a news classifier\n",
        "- Run on bigger, better data\n",
        "\n",
        "## Resources:\n",
        "- [The Unreasonable Effectiveness of Recurrent Neural Networks](https://karpathy.github.io/2015/05/21/rnn-effectiveness/) - a seminal writeup demonstrating a simple but effective character-level NLP RNN\n",
        "- [Simple NumPy implementation of RNN](https://github.com/JY-Yoon/RNN-Implementation-using-NumPy/blob/master/RNN%20Implementation%20using%20NumPy.ipynb) - Python 3 version of the code from \"Unreasonable Effectiveness\"\n",
        "- [TensorFlow RNN Tutorial](https://github.com/tensorflow/models/tree/master/tutorials/rnn) - code for training a RNN on the Penn Tree Bank language dataset\n",
        "- [4 part tutorial on RNN](http://www.wildml.com/2015/09/recurrent-neural-networks-tutorial-part-1-introduction-to-rnns/) - relates RNN to the vanishing gradient problem, and provides example implementation\n",
        "- [RNN training tips and tricks](https://github.com/karpathy/char-rnn#tips-and-tricks) - some rules of thumb for parameterizing and training your RNN"
      ]
    },
    {
      "cell_type": "markdown",
      "metadata": {
        "id": "xTROfc6uothV"
      },
      "source": [
        "https://colab.research.google.com/drive/1GvMnNqe0XPm84qrspBinO84dIVVNl8gP#scrollTo=Gd7xY7-IgTLH"
      ]
    },
    {
      "cell_type": "code",
      "metadata": {
        "id": "I4dbIjL5ouKm"
      },
      "source": [
        ""
      ],
      "execution_count": null,
      "outputs": []
    }
  ]
}